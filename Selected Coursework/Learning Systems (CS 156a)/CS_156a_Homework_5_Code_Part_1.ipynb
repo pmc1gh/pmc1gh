{
 "cells": [
  {
   "cell_type": "markdown",
   "metadata": {},
   "source": [
    "# Philip Carr\n",
    "# CS/CNS/EE 156a Homework 5 Code Part 1 (Jupyter Notebook)"
   ]
  },
  {
   "cell_type": "markdown",
   "metadata": {},
   "source": [
    "For Problems 5-7"
   ]
  },
  {
   "cell_type": "code",
   "execution_count": 1,
   "metadata": {},
   "outputs": [],
   "source": [
    "import numpy as np"
   ]
  },
  {
   "cell_type": "markdown",
   "metadata": {},
   "source": [
    "Given nonlinear error surface $E(u, v) = (ue^v - 2ve^{-u})^2$,\n",
    "$\\nabla E = \\frac{\\partial E}{\\partial u} \\hat{u} + \\frac{\\partial E}{\\partial v} \\hat{v} = 2 (e^v + 2ve^{-u}) (ue^v - 2ve^{-u}) \\hat{u} + 2 (ue^v - 2e^{-u}) (ue^v - 2ve^{-u}) \\hat{v}$."
   ]
  },
  {
   "cell_type": "code",
   "execution_count": 2,
   "metadata": {},
   "outputs": [],
   "source": [
    "def error(w):\n",
    "    '''\n",
    "    Return the error E(w) evaluated at w = (u, v) as described above.\n",
    "    '''\n",
    "    u = w[0]\n",
    "    v = w[1]\n",
    "    return np.power((u * np.exp(v) - 2 * v * np.exp(-u)), 2)"
   ]
  },
  {
   "cell_type": "code",
   "execution_count": 3,
   "metadata": {},
   "outputs": [],
   "source": [
    "def u_derivative(w):\n",
    "    '''\n",
    "    Return the partial derivative of E(w) with respect to u evaluated\n",
    "    at w = (u, v) as described above.\n",
    "    '''\n",
    "    u = w[0]\n",
    "    v = w[1]\n",
    "    return 2 * (np.exp(v) + 2 * v * np.exp(-u)) \\\n",
    "             * (u * np.exp(v) - 2 * v * np.exp(-u))"
   ]
  },
  {
   "cell_type": "code",
   "execution_count": 4,
   "metadata": {},
   "outputs": [],
   "source": [
    "def v_derivative(w):\n",
    "    '''\n",
    "    Return the partial derivative of E(w) with respect to v evaluated\n",
    "    at w = (u, v) as described above.\n",
    "    '''\n",
    "    u = w[0]\n",
    "    v = w[1]\n",
    "    return 2 * (u * np.exp(v) - 2 * np.exp(-u)) \\\n",
    "             * (u * np.exp(v) - 2 * v * np.exp(-u))"
   ]
  },
  {
   "cell_type": "code",
   "execution_count": 5,
   "metadata": {},
   "outputs": [],
   "source": [
    "def gradient(w):\n",
    "    '''\n",
    "    Return the gradient of the error surface E(w) at the vector w as\n",
    "    described above.\n",
    "    '''\n",
    "    u = w[0]\n",
    "    v = w[1]\n",
    "    u_grad = u_derivative(w)\n",
    "    v_grad = v_derivative(w)\n",
    "    return [u_grad, v_grad]"
   ]
  },
  {
   "cell_type": "code",
   "execution_count": 6,
   "metadata": {},
   "outputs": [],
   "source": [
    "def norm(w):\n",
    "    '''\n",
    "    Return the norm (magnitude) of the vector w.\n",
    "    '''\n",
    "    return np.sqrt(w[0] * w[0] + w[1] * w[1])"
   ]
  },
  {
   "cell_type": "code",
   "execution_count": 7,
   "metadata": {},
   "outputs": [],
   "source": [
    "def gradient_descent(w0=[np.float64(1),np.float64(1)], eta=0.1):\n",
    "    '''\n",
    "    Return the number of iterations, last w vector, and error at w\n",
    "    after minimizing the error on the given error surface below\n",
    "    10^-14 using gradient descent.\n",
    "    '''\n",
    "    n_iterations = 0\n",
    "    w_current = w0\n",
    "    while abs(error(w_current)) > np.float64(1e-14):\n",
    "        gradE = gradient(w_current)\n",
    "        w_new_u = w_current[0] - eta * gradE[0]\n",
    "        w_new_v = w_current[1] - eta * gradE[1]\n",
    "        w_new = [w_new_u, w_new_v]\n",
    "        w_current = [w_new_u, w_new_v]\n",
    "        n_iterations += 1\n",
    "    return n_iterations, w_current, error(w_current)"
   ]
  },
  {
   "cell_type": "markdown",
   "metadata": {},
   "source": [
    "For Problems 5 and 6"
   ]
  },
  {
   "cell_type": "code",
   "execution_count": 8,
   "metadata": {},
   "outputs": [
    {
     "name": "stdout",
     "output_type": "stream",
     "text": [
      "Gradient Descent:\n",
      "Number of iterations to minimize error below 10^-14 for first time: 10.\n",
      "Final (u, v): (0.04473629039778207, 0.023958714099141746).\n"
     ]
    }
   ],
   "source": [
    "n_iterations, w_current, E_final = gradient_descent()\n",
    "print(\"Gradient Descent:\")\n",
    "print(\"Number of iterations to minimize\",\n",
    "      \"error below 10^-14 for first time:\", str(n_iterations) + \".\")\n",
    "print(\"Final (u, v):\", str((w_current[0], w_current[1])) + \".\")"
   ]
  },
  {
   "cell_type": "code",
   "execution_count": 9,
   "metadata": {},
   "outputs": [],
   "source": [
    "def coordinate_descent(w0=[np.float64(1),np.float64(1)], eta=0.1,\n",
    "                       max_iterations=15):\n",
    "    '''\n",
    "    Return the number of iterations, last w vector, and error at w\n",
    "    after minimizing the error on the given error surface below\n",
    "    10^-14 using coordinate descent.\n",
    "    '''\n",
    "    w_current = w0\n",
    "    for n_iterations in range(max_iterations):\n",
    "        w_current[0] = w_current[0] - eta * u_derivative(w_current)\n",
    "        w_current[1] = w_current[1] - eta * v_derivative(w_current)\n",
    "    return w_current, error(w_current)"
   ]
  },
  {
   "cell_type": "markdown",
   "metadata": {},
   "source": [
    "For Problem 7"
   ]
  },
  {
   "cell_type": "code",
   "execution_count": 10,
   "metadata": {},
   "outputs": [
    {
     "name": "stdout",
     "output_type": "stream",
     "text": [
      "Coordinate Descent:\n",
      "Final error E(u,v) after 15 iterations: 0.13981379199615315.\n"
     ]
    }
   ],
   "source": [
    "max_iterations = 15\n",
    "w_current, E_final = coordinate_descent(max_iterations=\\\n",
    "                                            max_iterations)\n",
    "print(\"Coordinate Descent:\")\n",
    "print(\"Final error E(u,v) after\", max_iterations,\n",
    "      \"iterations:\", str(E_final) + \".\")"
   ]
  }
 ],
 "metadata": {
  "kernelspec": {
   "display_name": "Python 3",
   "language": "python",
   "name": "python3"
  },
  "language_info": {
   "codemirror_mode": {
    "name": "ipython",
    "version": 3
   },
   "file_extension": ".py",
   "mimetype": "text/x-python",
   "name": "python",
   "nbconvert_exporter": "python",
   "pygments_lexer": "ipython3",
   "version": "3.6.5"
  }
 },
 "nbformat": 4,
 "nbformat_minor": 2
}
