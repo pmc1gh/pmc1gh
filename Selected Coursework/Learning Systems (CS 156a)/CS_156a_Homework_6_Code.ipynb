{
 "cells": [
  {
   "cell_type": "markdown",
   "metadata": {},
   "source": [
    "# Philip Carr\n",
    "# CS/CNS/EE 156a Homework 6 Code (Jupyter Notebook)"
   ]
  },
  {
   "cell_type": "markdown",
   "metadata": {},
   "source": [
    "Code for The Logistic Regression Algorithm (Problems 2 - 6)"
   ]
  },
  {
   "cell_type": "code",
   "execution_count": 1,
   "metadata": {},
   "outputs": [],
   "source": [
    "import numpy as np"
   ]
  },
  {
   "cell_type": "code",
   "execution_count": 2,
   "metadata": {},
   "outputs": [],
   "source": [
    "def sign(x):\n",
    "    \"\"\"\n",
    "    Return the sign of a number (1 if positive, 0 if 0, or -1 if\n",
    "    negative).\n",
    "    \n",
    "    Return type: int\n",
    "    \"\"\"\n",
    "    if x >= 0:\n",
    "        return 1\n",
    "    elif x == 0:\n",
    "        return 0\n",
    "    else:\n",
    "        return -1"
   ]
  },
  {
   "cell_type": "code",
   "execution_count": 3,
   "metadata": {},
   "outputs": [],
   "source": [
    "def get_data_from_file(filename):\n",
    "    \"\"\"\n",
    "    Return an array of points within the region [-1, 1] x [-1, 1]\n",
    "    and an array of corresponding values together as a tuple obtained\n",
    "    from the file with the given name filename.\n",
    "    \n",
    "    Return type: 2D array of points\n",
    "    \"\"\"\n",
    "    file1 = open(filename, \"r\")\n",
    "    points = []\n",
    "    values = []\n",
    "    for line in file1:\n",
    "        data = line.split()\n",
    "        x0 = 1.0\n",
    "        x1 = float(data[0])\n",
    "        x2 = float(data[1])\n",
    "        points.append([x0, x1, x2])\n",
    "        values.append(float(data[2]))\n",
    "    file1.close()\n",
    "    return (np.array(points, dtype=np.float64),\n",
    "            np.array(values, dtype=np.float64))"
   ]
  },
  {
   "cell_type": "code",
   "execution_count": 4,
   "metadata": {},
   "outputs": [],
   "source": [
    "def get_transformed_points(points):\n",
    "    \"\"\"\n",
    "    Return an array of points transformed using the nonlinear\n",
    "    transformation Φ(1, x1, x2) = (1, x1, x2, x1^2, x2^2, x1 x2,\n",
    "    |x1 - x2|, |x1 + x2|).\n",
    "    \"\"\"\n",
    "    transformed_points = []\n",
    "    for i in range(len(points)):\n",
    "        point = []\n",
    "        point.append(points[i,0])\n",
    "        point.append(points[i,1])\n",
    "        point.append(points[i,2])\n",
    "        point.append(points[i,1] * points[i,1])\n",
    "        point.append(points[i,2] * points[i,2])\n",
    "        point.append(points[i,1] * points[i,2])\n",
    "        point.append(abs(points[i,1] - points[i,2]))\n",
    "        point.append(abs(points[i,1] + points[i,2]))\n",
    "        transformed_points.append(point)\n",
    "    return np.array(transformed_points, dtype=np.float64)"
   ]
  },
  {
   "cell_type": "code",
   "execution_count": 5,
   "metadata": {},
   "outputs": [],
   "source": [
    "class LinReg:\n",
    "    \"\"\"\n",
    "    This class represents the LinReg (Linear Regression Algorithm\n",
    "    with regularization).\n",
    "    This class contains the weights, as well as methods for running\n",
    "    the Linear Regression Algorithm with regularization.\n",
    "    \"\"\"\n",
    "    def __init__(self, n=7):\n",
    "        \"\"\"\n",
    "        Initialize the weights of the LinReg using the given\n",
    "        dimension n of the points to work with in R^n space.\n",
    "        \n",
    "        Return type: class (LinReg)\n",
    "        \"\"\"\n",
    "        self.weights = np.array([0] * (n + 1), dtype=np.float64)\n",
    "    \n",
    "    def __repr__(self):\n",
    "        \"\"\"\n",
    "        Print the weights of the LinReg.\n",
    "        \n",
    "        Return type: string\n",
    "        \"\"\"\n",
    "        print(\"LogReg weights:\", self.weights)\n",
    "    \n",
    "    def get_weights(self):\n",
    "        \"\"\"\n",
    "        Return the weights of the LinReg.\n",
    "        \n",
    "        Return type: list of floats\n",
    "        \"\"\"\n",
    "        return self.weights\n",
    "    \n",
    "    def evaluate(self, point):\n",
    "        \"\"\"\n",
    "        Return a point's value using the Linear Regression\n",
    "        Algorithm's weights.\n",
    "        \"\"\"\n",
    "        real_value = 0\n",
    "        assert(len(self.weights) == len(point))\n",
    "        for i in range(len(self.weights)):\n",
    "            real_value += self.weights[i] * point[i]\n",
    "            \n",
    "        return sign(real_value)\n",
    "    \n",
    "    def optimize_weights(self, points, values,\n",
    "                         regularization_k=None):\n",
    "        \"\"\"\n",
    "        Optimize the LinReg weights using linear regression.\n",
    "        Regularization is used when regularization_k is not\n",
    "        equal to None.\n",
    "        \n",
    "        Return type: None\n",
    "        \"\"\"\n",
    "        ZTZ = np.dot(np.transpose(points), points)\n",
    "        \n",
    "        dimension = len(points[0])\n",
    "        I = np.identity(dimension)\n",
    "        \n",
    "        if regularization_k != None:\n",
    "            lmda = np.power(float(10), regularization_k)\n",
    "        else:\n",
    "            lmda = 0\n",
    "        \n",
    "        lmda_I = lmda * I\n",
    "        \n",
    "        ZTZ_plus_lmda_I_inv = np.linalg.inv(ZTZ + lmda_I)\n",
    "        \n",
    "        ZT_times_y = np.dot(np.transpose(points), values)\n",
    "        \n",
    "        self.weights = np.dot(ZTZ_plus_lmda_I_inv, ZT_times_y)\n",
    "\n",
    "    def get_classification_error(self, points, values):\n",
    "        \"\"\"\n",
    "        Return the classification error of the Linear Regression\n",
    "        algorithm given the points and values.\n",
    "        \"\"\"\n",
    "        misclassified_list = []\n",
    "        for i in range(len(points)):\n",
    "            point = points[i]\n",
    "            if self.evaluate(point) == values[i]:\n",
    "                misclassified_list.append(0)\n",
    "            else:\n",
    "                misclassified_list.append(1)\n",
    "        \n",
    "        return np.mean(np.array(misclassified_list,\n",
    "                                dtype=np.float64))\n",
    "        \n",
    "    def run(self, in_sample_points, in_sample_values,\n",
    "            out_sample_points, out_sample_values,\n",
    "            regularization_k=None):\n",
    "        \"\"\"\n",
    "        Return the in-sample error and out-of-sample error of\n",
    "        the Linear Regression algorithm after optimizing the\n",
    "        weights of the algorithm using the given in-sample\n",
    "        data (in_sample_points and in_sample_values).\n",
    "        \n",
    "        Return type: tuple of floats\n",
    "        \"\"\"\n",
    "        self.optimize_weights(in_sample_points, in_sample_values,\n",
    "                              regularization_k=regularization_k)\n",
    "        in_sample_error = \\\n",
    "            self.get_classification_error(in_sample_points,\n",
    "                                          in_sample_values)\n",
    "        out_sample_error = \\\n",
    "            self.get_classification_error(out_sample_points,\n",
    "                                          out_sample_values)\n",
    "        return (in_sample_error, out_sample_error)"
   ]
  },
  {
   "cell_type": "code",
   "execution_count": 6,
   "metadata": {},
   "outputs": [],
   "source": [
    "in_sample_points_from_file, in_sample_values = \\\n",
    "    get_data_from_file(\"in.dta\")\n",
    "in_sample_points = \\\n",
    "    get_transformed_points(in_sample_points_from_file)\n",
    "\n",
    "out_sample_points_from_file, out_sample_values = \\\n",
    "    get_data_from_file(\"out.dta\")\n",
    "out_sample_points = \\\n",
    "    get_transformed_points(out_sample_points_from_file)"
   ]
  },
  {
   "cell_type": "markdown",
   "metadata": {},
   "source": [
    "For Problem 2"
   ]
  },
  {
   "cell_type": "code",
   "execution_count": 7,
   "metadata": {
    "scrolled": true
   },
   "outputs": [
    {
     "name": "stdout",
     "output_type": "stream",
     "text": [
      "In-sample Classification Error: 0.02857142857142857 \n",
      "Out-of-sample Classification Error: 0.084\n"
     ]
    }
   ],
   "source": [
    "LR2 = LinReg()\n",
    "in_sample_error, out_sample_error = LR2.run(in_sample_points,\n",
    "                                            in_sample_values,\n",
    "                                            out_sample_points,\n",
    "                                            out_sample_values)\n",
    "print(\"In-sample Classification Error:\", in_sample_error,\n",
    "      \"\\nOut-of-sample Classification Error:\",\n",
    "      out_sample_error)"
   ]
  },
  {
   "cell_type": "markdown",
   "metadata": {},
   "source": [
    "For Problem 3"
   ]
  },
  {
   "cell_type": "code",
   "execution_count": 8,
   "metadata": {
    "scrolled": true
   },
   "outputs": [
    {
     "name": "stdout",
     "output_type": "stream",
     "text": [
      "k = -3\n",
      "In-sample Classification Error: 0.02857142857142857 \n",
      "Out-of-sample Classification Error: 0.08\n"
     ]
    }
   ],
   "source": [
    "LR3 = LinReg()\n",
    "in_sample_error, out_sample_error = LR3.run(in_sample_points,\n",
    "                                            in_sample_values,\n",
    "                                            out_sample_points,\n",
    "                                            out_sample_values,\n",
    "                                            regularization_k=-3)\n",
    "print(\"k = -3\")\n",
    "print(\"In-sample Classification Error:\", in_sample_error,\n",
    "      \"\\nOut-of-sample Classification Error:\",\n",
    "      out_sample_error)"
   ]
  },
  {
   "cell_type": "markdown",
   "metadata": {},
   "source": [
    "For Problem 4"
   ]
  },
  {
   "cell_type": "code",
   "execution_count": 9,
   "metadata": {
    "scrolled": true
   },
   "outputs": [
    {
     "name": "stdout",
     "output_type": "stream",
     "text": [
      "k = 3\n",
      "In-sample Classification Error: 0.37142857142857144 \n",
      "Out-of-sample Classification Error: 0.436\n"
     ]
    }
   ],
   "source": [
    "LR3 = LinReg()\n",
    "in_sample_error, out_sample_error = LR3.run(in_sample_points,\n",
    "                                            in_sample_values,\n",
    "                                            out_sample_points,\n",
    "                                            out_sample_values,\n",
    "                                            regularization_k=3)\n",
    "print(\"k = 3\")\n",
    "print(\"In-sample Classification Error:\", in_sample_error,\n",
    "      \"\\nOut-of-sample Classification Error:\",\n",
    "      out_sample_error)"
   ]
  },
  {
   "cell_type": "markdown",
   "metadata": {},
   "source": [
    "For Problem 5"
   ]
  },
  {
   "cell_type": "code",
   "execution_count": 10,
   "metadata": {
    "scrolled": true
   },
   "outputs": [
    {
     "name": "stdout",
     "output_type": "stream",
     "text": [
      "k = 2\n",
      "In-sample Classification Error: 0.2 \n",
      "Out-of-sample Classification Error: 0.228\n",
      "\n",
      "k = 1\n",
      "In-sample Classification Error: 0.2 \n",
      "Out-of-sample Classification Error: 0.228\n",
      "\n",
      "k = 0\n",
      "In-sample Classification Error: 0.05714285714285714 \n",
      "Out-of-sample Classification Error: 0.124\n",
      "\n",
      "k = -1\n",
      "In-sample Classification Error: 0.02857142857142857 \n",
      "Out-of-sample Classification Error: 0.056\n",
      "\n",
      "k = -2\n",
      "In-sample Classification Error: 0.02857142857142857 \n",
      "Out-of-sample Classification Error: 0.084\n"
     ]
    }
   ],
   "source": [
    "LR5_2 = LinReg()\n",
    "in_sample_error, out_sample_error = LR3.run(in_sample_points,\n",
    "                                            in_sample_values,\n",
    "                                            out_sample_points,\n",
    "                                            out_sample_values,\n",
    "                                            regularization_k=2)\n",
    "print(\"k = 2\")\n",
    "print(\"In-sample Classification Error:\", in_sample_error,\n",
    "      \"\\nOut-of-sample Classification Error:\",\n",
    "      out_sample_error)\n",
    "print()\n",
    "\n",
    "LR5_2 = LinReg()\n",
    "in_sample_error, out_sample_error = LR3.run(in_sample_points,\n",
    "                                            in_sample_values,\n",
    "                                            out_sample_points,\n",
    "                                            out_sample_values,\n",
    "                                            regularization_k=2)\n",
    "print(\"k = 1\")\n",
    "print(\"In-sample Classification Error:\", in_sample_error,\n",
    "      \"\\nOut-of-sample Classification Error:\",\n",
    "      out_sample_error)\n",
    "print()\n",
    "\n",
    "LR5_1 = LinReg()\n",
    "in_sample_error, out_sample_error = LR3.run(in_sample_points,\n",
    "                                            in_sample_values,\n",
    "                                            out_sample_points,\n",
    "                                            out_sample_values,\n",
    "                                            regularization_k=1)\n",
    "print(\"k = 0\")\n",
    "print(\"In-sample Classification Error:\", in_sample_error,\n",
    "      \"\\nOut-of-sample Classification Error:\",\n",
    "      out_sample_error)\n",
    "print()\n",
    "\n",
    "LR5_neg1 = LinReg()\n",
    "in_sample_error, out_sample_error = LR3.run(in_sample_points,\n",
    "                                            in_sample_values,\n",
    "                                            out_sample_points,\n",
    "                                            out_sample_values,\n",
    "                                            regularization_k=-1)\n",
    "print(\"k = -1\")\n",
    "print(\"In-sample Classification Error:\", in_sample_error,\n",
    "      \"\\nOut-of-sample Classification Error:\",\n",
    "      out_sample_error)\n",
    "print()\n",
    "\n",
    "LR5_neg2 = LinReg()\n",
    "in_sample_error, out_sample_error = LR3.run(in_sample_points,\n",
    "                                            in_sample_values,\n",
    "                                            out_sample_points,\n",
    "                                            out_sample_values,\n",
    "                                            regularization_k=-2)\n",
    "print(\"k = -2\")\n",
    "print(\"In-sample Classification Error:\", in_sample_error,\n",
    "      \"\\nOut-of-sample Classification Error:\",\n",
    "      out_sample_error)"
   ]
  },
  {
   "cell_type": "markdown",
   "metadata": {},
   "source": [
    "For Problem 6"
   ]
  },
  {
   "cell_type": "code",
   "execution_count": 11,
   "metadata": {
    "scrolled": true
   },
   "outputs": [
    {
     "name": "stdout",
     "output_type": "stream",
     "text": [
      "k that yields minimum out-of-sample classification error over range of k from -10 to 10 (inclusive): -1\n",
      "Minimum out-of-sample classification error over range of k from -10 to 10 (inclusive): 0.056\n"
     ]
    }
   ],
   "source": [
    "k_values = np.arange(-10,11)\n",
    "min_index = -1\n",
    "min_out_sample_error = float(\"inf\")\n",
    "for i in range(len(k_values)):\n",
    "    LR6 = LinReg()\n",
    "    in_sample_error, out_sample_error = \\\n",
    "        LR6.run(in_sample_points, in_sample_values,\n",
    "                out_sample_points, out_sample_values,\n",
    "                regularization_k=k_values[i])\n",
    "    if min_out_sample_error > out_sample_error:\n",
    "        min_out_sample_error = out_sample_error\n",
    "        min_index = i\n",
    "\n",
    "print(\"k that yields minimum out-of-sample classification error\",\n",
    "      \"over range of k from\", k_values[0], \"to\", k_values[-1],\n",
    "      \"(inclusive):\", k_values[min_index])\n",
    "print(\"Minimum out-of-sample classification error over range of k\",\n",
    "      \"from\", k_values[0], \"to\", k_values[-1], \"(inclusive):\",\n",
    "      min_out_sample_error)"
   ]
  }
 ],
 "metadata": {
  "kernelspec": {
   "display_name": "Python 3",
   "language": "python",
   "name": "python3"
  },
  "language_info": {
   "codemirror_mode": {
    "name": "ipython",
    "version": 3
   },
   "file_extension": ".py",
   "mimetype": "text/x-python",
   "name": "python",
   "nbconvert_exporter": "python",
   "pygments_lexer": "ipython3",
   "version": "3.6.5"
  }
 },
 "nbformat": 4,
 "nbformat_minor": 2
}
