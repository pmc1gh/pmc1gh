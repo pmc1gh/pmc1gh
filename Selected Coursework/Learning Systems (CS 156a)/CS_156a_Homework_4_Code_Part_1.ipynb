{
 "cells": [
  {
   "cell_type": "markdown",
   "metadata": {},
   "source": [
    "# Philip Carr\n",
    "# CS/CNS/EE_156a_Homework_4_Code_Part_1 (Jupyter Notebook)"
   ]
  },
  {
   "cell_type": "markdown",
   "metadata": {},
   "source": [
    "Code for Generalizaition Error (Problems 2 and 3)"
   ]
  },
  {
   "cell_type": "code",
   "execution_count": 27,
   "metadata": {},
   "outputs": [],
   "source": [
    "import numpy as np\n",
    "from matplotlib import pyplot as plt"
   ]
  },
  {
   "cell_type": "code",
   "execution_count": 28,
   "metadata": {},
   "outputs": [],
   "source": [
    "def original_vc_bound(N, d_vc=50, delta=0.05):\n",
    "    if N <= d_vc:\n",
    "        # hypothesis set shatters dataset here\n",
    "        m_H = np.power(2, 2 * N)\n",
    "    else:\n",
    "        m_H = np.power(2 * N, d_vc)\n",
    "    return np.sqrt((8.0 / N) * np.log(4.0 * m_H / delta))"
   ]
  },
  {
   "cell_type": "code",
   "execution_count": 29,
   "metadata": {},
   "outputs": [],
   "source": [
    "def rademacher_penalty_bound(N, d_vc=50, delta=0.05):\n",
    "    if N <= d_vc:\n",
    "        m_H = np.power(2, N)\n",
    "    else:\n",
    "        m_H = np.power(N, d_vc)\n",
    "    return np.sqrt(2.0 * np.log(2.0 * N * m_H) / N) \\\n",
    "           + np.sqrt((2.0 / N) * np.log(1.0 / delta)) \\\n",
    "           + (1.0 / N)"
   ]
  },
  {
   "cell_type": "code",
   "execution_count": 30,
   "metadata": {},
   "outputs": [],
   "source": [
    "def p_and_vb_upper_bound(N, m_H, d_vc, delta, epsilon):\n",
    "    return np.sqrt((1.0 / N) * (2 * epsilon\n",
    "                                + np.log(6 * m_H / delta)))"
   ]
  },
  {
   "cell_type": "code",
   "execution_count": 31,
   "metadata": {},
   "outputs": [],
   "source": [
    "def p_and_vb_penalty_bound(N, d_vc=50, delta=0.05, step=0.01, max_epsilon=100):\n",
    "    if N <= d_vc:\n",
    "        m_H = np.power(2, 2 * N)\n",
    "    else:\n",
    "        m_H = np.power(2 * N, d_vc)\n",
    "    epsilon_upper_bound = 0.0\n",
    "    prev_upper_bound = p_and_vb_upper_bound(N, m_H, d_vc, delta,\n",
    "                                              epsilon_upper_bound)\n",
    "    while epsilon_upper_bound <= max_epsilon:\n",
    "        #print(\"epsilon =\", epsilon_upper_bound)\n",
    "        upper_bound = p_and_vb_upper_bound(N, m_H, d_vc, delta,\n",
    "                                             epsilon_upper_bound)\n",
    "        if epsilon_upper_bound > upper_bound:\n",
    "            #upper_bound = prev_upper_bound\n",
    "            #print(\"HEY\")\n",
    "            return prev_upper_bound\n",
    "        else:\n",
    "            prev_upper_bound = upper_bound\n",
    "            epsilon_upper_bound += step"
   ]
  },
  {
   "cell_type": "code",
   "execution_count": 32,
   "metadata": {},
   "outputs": [],
   "source": [
    "def devroye_upper_bound(N, log_m_H, d_vc, delta, epsilon):\n",
    "    return np.sqrt((1.0 / (2.0 * N)) * (4 * epsilon * (1 + epsilon)\n",
    "                                        + log_m_H\n",
    "                                        + np.log(4 / delta)))"
   ]
  },
  {
   "cell_type": "code",
   "execution_count": 33,
   "metadata": {},
   "outputs": [],
   "source": [
    "def devroye_penalty_bound(N, d_vc=50, delta=0.05, step=0.01, max_epsilon=100):\n",
    "    if N <= d_vc:\n",
    "        log_m_H = N * N * np.log(2)\n",
    "    else:\n",
    "        log_m_H = d_vc * np.log(N * N)\n",
    "    epsilon_upper_bound = 0.0\n",
    "    prev_upper_bound = devroye_upper_bound(N, log_m_H, d_vc, delta,\n",
    "                                              epsilon_upper_bound)\n",
    "    while epsilon_upper_bound <= max_epsilon:\n",
    "        #print(\"epsilon2 =\", epsilon_upper_bound)\n",
    "        upper_bound = devroye_upper_bound(N, log_m_H, d_vc, delta,\n",
    "                                             epsilon_upper_bound)\n",
    "        if epsilon_upper_bound > upper_bound:\n",
    "            #upper_bound = prev_upper_bound\n",
    "            #print(\"HEY2\")\n",
    "            return prev_upper_bound\n",
    "        else:\n",
    "            prev_upper_bound = upper_bound\n",
    "            epsilon_upper_bound += step"
   ]
  },
  {
   "cell_type": "code",
   "execution_count": 34,
   "metadata": {
    "scrolled": true
   },
   "outputs": [],
   "source": [
    "N_values = list(np.logspace(0, 4, num=100))\n",
    "\n",
    "original_vc_bound_list = []\n",
    "rademacher_penalty_bound_list = []\n",
    "p_and_vb_penalty_bound_list = []\n",
    "devroye_penalty_bound_list = []\n",
    "\n",
    "for N in N_values:\n",
    "    #print(\"N =\", N)\n",
    "    original_vc_bound_list.append(original_vc_bound(N))\n",
    "    #print(\"o\")\n",
    "    rademacher_penalty_bound_list.append(rademacher_penalty_bound(N))\n",
    "    #print(\"r\")\n",
    "    p_and_vb_penalty_bound_list.append(p_and_vb_penalty_bound(N))\n",
    "    #print(\"p\")\n",
    "    #print(\"d\")\n",
    "    devroye_penalty_bound_list.append(devroye_penalty_bound(N))\n",
    "    #print(\"d\")"
   ]
  },
  {
   "cell_type": "markdown",
   "metadata": {},
   "source": [
    "For Problem 2"
   ]
  },
  {
   "cell_type": "code",
   "execution_count": 38,
   "metadata": {},
   "outputs": [
    {
     "data": {
      "text/plain": [
       "<matplotlib.legend.Legend at 0x26c3d496fd0>"
      ]
     },
     "execution_count": 38,
     "metadata": {},
     "output_type": "execute_result"
    },
    {
     "data": {
      "image/png": "[encoded data removed]",
      "text/plain": [
       "<Figure size 432x288 with 1 Axes>"
      ]
     },
     "metadata": {},
     "output_type": "display_data"
    }
   ],
   "source": [
    "plt.title(\"N vs. $\\epsilon$ upper bound\")\n",
    "plt.ylabel(\"$\\epsilon$ upper bound\")\n",
    "plt.xlabel(\"N\")\n",
    "plt.xscale(\"log\")\n",
    "plt.yscale(\"log\")\n",
    "plt.plot(N_values, original_vc_bound_list, label=\"Original VC bound\")\n",
    "plt.plot(N_values, rademacher_penalty_bound_list,\n",
    "         label=\"Rademacher Penalty bound\")\n",
    "plt.plot(N_values, p_and_vb_penalty_bound_list,\n",
    "         label=\"Parrondo and Van den Broek bound\")\n",
    "plt.plot(N_values, devroye_penalty_bound_list, label=\"Devroye bound\")\n",
    "plt.legend()"
   ]
  },
  {
   "cell_type": "code",
   "execution_count": 36,
   "metadata": {},
   "outputs": [
    {
     "name": "stdout",
     "output_type": "stream",
     "text": [
      "Original VC bound for N = 10000 : 0.632174915200836\n",
      "Rademacher Penalty bound for N = 10000 : 0.3313087859616395\n",
      "Parrondo and Van den Broek bound for N = 10000 : 0.223696640423943\n",
      "Devroye bound for N = 10000 : 0.215224587795202\n"
     ]
    }
   ],
   "source": [
    "N_2 = 10000.0\n",
    "print(\"Original VC bound for N =\",\n",
    "      int(N_2), \":\", original_vc_bound(N_2))\n",
    "print(\"Rademacher Penalty bound for N =\",\n",
    "      int(N_2), \":\", rademacher_penalty_bound(N_2))\n",
    "print(\"Parrondo and Van den Broek bound for N =\",\n",
    "      int(N_2), \":\", p_and_vb_penalty_bound(N_2))\n",
    "print(\"Devroye bound for N =\",\n",
    "      int(N_2), \":\", devroye_penalty_bound(N_2))"
   ]
  },
  {
   "cell_type": "markdown",
   "metadata": {},
   "source": [
    "For Problem 3"
   ]
  },
  {
   "cell_type": "code",
   "execution_count": 37,
   "metadata": {},
   "outputs": [
    {
     "name": "stdout",
     "output_type": "stream",
     "text": [
      "Original VC bound for N = 5 : 4.254597220000659\n",
      "Rademacher Penalty bound for N = 5 : 2.813654929686762\n",
      "Parrondo and Van den Broek bound for N = 5 : 1.7435001318257193\n",
      "Devroye bound for N = 5 : 2.2623241621985213\n"
     ]
    }
   ],
   "source": [
    "N_3 = 5.0\n",
    "print(\"Original VC bound for N =\",\n",
    "      int(N_3), \":\", original_vc_bound(N_3))\n",
    "print(\"Rademacher Penalty bound for N =\",\n",
    "      int(N_3), \":\", rademacher_penalty_bound(N_3))\n",
    "print(\"Parrondo and Van den Broek bound for N =\",\n",
    "      int(N_3), \":\", p_and_vb_penalty_bound(N_3))\n",
    "print(\"Devroye bound for N =\",\n",
    "      int(N_3), \":\", devroye_penalty_bound(N_3))"
   ]
  }
 ],
 "metadata": {
  "kernelspec": {
   "display_name": "Python 3",
   "language": "python",
   "name": "python3"
  },
  "language_info": {
   "codemirror_mode": {
    "name": "ipython",
    "version": 3
   },
   "file_extension": ".py",
   "mimetype": "text/x-python",
   "name": "python",
   "nbconvert_exporter": "python",
   "pygments_lexer": "ipython3",
   "version": "3.6.5"
  }
 },
 "nbformat": 4,
 "nbformat_minor": 2
}
