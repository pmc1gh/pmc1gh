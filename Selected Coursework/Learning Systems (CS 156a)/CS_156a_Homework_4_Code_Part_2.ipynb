{
 "cells": [
  {
   "cell_type": "markdown",
   "metadata": {},
   "source": [
    "# Philip Carr\n",
    "# CS/CNS/EE_156a_Homework_4_Code_Part_2 (Jupyter Notebook)"
   ]
  },
  {
   "cell_type": "markdown",
   "metadata": {},
   "source": [
    "Code for Generalizaition Error (Problems 4-7)"
   ]
  },
  {
   "cell_type": "code",
   "execution_count": 1,
   "metadata": {},
   "outputs": [],
   "source": [
    "import random as rn\n",
    "import numpy as np\n",
    "from matplotlib import pyplot as plt"
   ]
  },
  {
   "cell_type": "code",
   "execution_count": 2,
   "metadata": {},
   "outputs": [],
   "source": [
    "def get_random_x_values(N):\n",
    "    '''\n",
    "    Return a list of randomly generated x values within\n",
    "    the region [-1, 1].\n",
    "    \n",
    "    Return type: list of x values (each point is a list).\n",
    "    '''\n",
    "    random_x_values = []\n",
    "    for n in range(N):\n",
    "        random_x_values.append(rn.uniform(-1, 1))\n",
    "    return np.array(random_x_values)"
   ]
  },
  {
   "cell_type": "code",
   "execution_count": 3,
   "metadata": {},
   "outputs": [],
   "source": [
    "def mean_squared_error(estimated_values, true_values):\n",
    "    \"\"\"\n",
    "    Return the mean squared error between arrays of estimated and\n",
    "    true values.\n",
    "    \n",
    "    Return type: float.\n",
    "    \"\"\"\n",
    "    return np.sqrt(np.mean((estimated_values - true_values)\n",
    "                   * (estimated_values - true_values)))"
   ]
  },
  {
   "cell_type": "code",
   "execution_count": 4,
   "metadata": {},
   "outputs": [],
   "source": [
    "def find_best_a_value_v1(x_values, a_lower_bound=-5, a_upper_bound=5,\n",
    "                         n_a_values=1000):\n",
    "    \"\"\"\n",
    "    Return the value of a in g(x) = ax that minimizes the mean\n",
    "    squared error between the hypothesis function g(x) and the target\n",
    "    function (f(x) = sin(pi * x)).\n",
    "    \n",
    "    Return type: float.\n",
    "    \"\"\"\n",
    "    a_domain = np.linspace(a_lower_bound, a_upper_bound,\n",
    "                           num=n_a_values)\n",
    "    mean_squared_errors = np.zeros(n_a_values, dtype=float)\n",
    "    for i in range(len(a_domain)):\n",
    "        estimated_values = a_domain[i] * x_values\n",
    "        true_values = np.sin(np.pi * x_values)\n",
    "        mean_squared_errors[i] = mean_squared_error(estimated_values,\n",
    "                                                    true_values)\n",
    "    min_mean_squared_error_index = \\\n",
    "        np.where(mean_squared_errors == min(mean_squared_errors))[0]\n",
    "    return a_domain[min_mean_squared_error_index]"
   ]
  },
  {
   "cell_type": "code",
   "execution_count": 5,
   "metadata": {},
   "outputs": [],
   "source": [
    "def bias_and_variance_analysis_v1(trials=10000):\n",
    "    \"\"\"\n",
    "    Print the value of a_hat in g_bar(x) = a_hat * x that minimizes\n",
    "    the mean squared error between the hypothesis function g(x) and\n",
    "    the target function (f(x) = sin(pi * x)), and print the bias\n",
    "    and variance associated with a_hat and g_bar(x).\n",
    "    \n",
    "    Return type: None.\n",
    "    \"\"\"\n",
    "    a_values = np.zeros(trials, dtype=float)\n",
    "    for i in range(trials):\n",
    "        x_values = get_random_x_values(2)\n",
    "        a_values[i] = find_best_a_value_v1(x_values)\n",
    "        \n",
    "    a_average = np.mean(a_values)\n",
    "    print(\"a_hat =\", a_average)\n",
    "    \n",
    "    new_x_values = get_random_x_values(trials)\n",
    "    g_bar_x_values = a_average * new_x_values\n",
    "    \n",
    "    f_x_values = np.sin(np.pi * new_x_values)\n",
    "    bias = np.mean((g_bar_x_values - f_x_values)\n",
    "                   * (g_bar_x_values - f_x_values))\n",
    "    print(\"bias =\", bias)\n",
    "    \n",
    "    average_g_D_minus_g_bar_values = np.zeros(trials, dtype=float)\n",
    "    for i in range(trials):\n",
    "        g_D_x_values = a_values[i] * new_x_values\n",
    "        average_g_D_minus_g_bar_value = \\\n",
    "            np.mean((g_D_x_values - g_bar_x_values)\n",
    "                    * (g_D_x_values - g_bar_x_values))\n",
    "        average_g_D_minus_g_bar_values[i] = \\\n",
    "            average_g_D_minus_g_bar_value\n",
    "    variance = np.mean(average_g_D_minus_g_bar_values)\n",
    "    print(\"variance =\", variance)"
   ]
  },
  {
   "cell_type": "markdown",
   "metadata": {},
   "source": [
    "For Problems 4-6"
   ]
  },
  {
   "cell_type": "code",
   "execution_count": 6,
   "metadata": {},
   "outputs": [
    {
     "name": "stdout",
     "output_type": "stream",
     "text": [
      "a_hat = 1.4304334334334337\n",
      "bias = 0.27222391670753693\n",
      "variance = 0.23808123873991735\n"
     ]
    }
   ],
   "source": [
    "bias_and_variance_analysis_v1()"
   ]
  },
  {
   "cell_type": "code",
   "execution_count": 7,
   "metadata": {},
   "outputs": [],
   "source": [
    "def find_best_a_value_v2(x_values, g_function, a_lower_bound=-5,\n",
    "                         a_upper_bound=5, n_a_values=100,\n",
    "                         b_lower_bound=-1, b_upper_bound=2,\n",
    "                         n_b_values=10):\n",
    "    \"\"\"\n",
    "    Return the value of a and b in for a given g(x) that minimizes\n",
    "    the mean squared error between the hypothesis function g(x)\n",
    "    and the target function (f(x) = sin(pi * x)).\n",
    "    \n",
    "    Return type: tuple of floats.\n",
    "    \"\"\"\n",
    "    a_b_domain = []#np.linspace(a_lower_bound, a_upper_bound,\n",
    "                    #       num=n_a_values)\n",
    "    delta_a = (a_lower_bound - a_upper_bound) / n_a_values\n",
    "    delta_b = (b_lower_bound - b_upper_bound) / n_b_values\n",
    "    mean_squared_errors = []#np.zeros(n_a_values, dtype=float)\n",
    "    for n in range(n_a_values):\n",
    "        a_n = float(a_lower_bound) + float(n) * delta_a\n",
    "        row_a_b = []\n",
    "        row_error = []\n",
    "        for m in range(n_b_values):\n",
    "            b_m = float(b_lower_bound) + float(m) * delta_b\n",
    "            row_a_b.append((a_n, b_m))\n",
    "            if g_function == 'b':\n",
    "                estimated_values = a_b_domain[n][m][1]\n",
    "            elif g_function == 'ax':\n",
    "                estimated_values = a_b_domain[n][m][0] * x_values\n",
    "            elif g_function == 'ax + b':\n",
    "                estimated_values = a_b_domain[n][m][0] * x_values \\\n",
    "                                   + a_b_domain[n][m][1]\n",
    "            elif g_function == 'ax^2':\n",
    "                estimated_values = a_b_domain[n][m][0] * x_values \\\n",
    "                                   * x_values\n",
    "            elif g_function == 'ax^2 + b':\n",
    "                estimated_values = a_b_domain[n][m][0] * x_values \\\n",
    "                                   * x_values + a_b_domain[n][m][1]\n",
    "            else:\n",
    "                raise ValueError(\"Invalid g_function: \" + g_function)\n",
    "            true_values = np.sin(np.pi * x_values)\n",
    "            row_error.append(mean_squared_error(estimated_values,\n",
    "                                                true_values))\n",
    "        a_b_domain.append(row_a_b)\n",
    "        mean_squared_errors.append(row_error)\n",
    "        \n",
    "    min_n = -1\n",
    "    min_m = -1\n",
    "    min_error = 99999\n",
    "    for n in range(n_a_values):\n",
    "        for m in range(n_b_values):\n",
    "            if min_error > mean_squared_errors[n][m]:\n",
    "                min_error = mean_squared_errors[n][m]\n",
    "                min_n = n\n",
    "                min_m = m\n",
    "    \n",
    "    return a_b_domain[min_n][min_m]"
   ]
  },
  {
   "cell_type": "code",
   "execution_count": 8,
   "metadata": {},
   "outputs": [],
   "source": [
    "def bias_and_variance_analysis_v2(g_function, trials=10000):\n",
    "    \"\"\"\n",
    "    Print the value of a_hat and b_hat in g_bar(x) that minimizes\n",
    "    the mean squared error between the hypothesis function g(x) and\n",
    "    the target function (f(x) = sin(pi * x)), and print the bias\n",
    "    and variance associated with a_hat, b_hat, and g_bar(x).\n",
    "    \n",
    "    Return type: float.\n",
    "    \"\"\"\n",
    "    a_values = np.zeros(trials, dtype=float)\n",
    "    b_values = np.zeros(trials, dtype=float)\n",
    "    for i in range(trials):\n",
    "        x_values = get_random_x_values(2)\n",
    "        a_values[i], b_values[i] = \\\n",
    "            find_best_a_value_v2(x_values, g_function)\n",
    "        \n",
    "    a_average = np.mean(a_values)\n",
    "    print(\"a_hat =\", a_average)\n",
    "    \n",
    "    b_average = np.mean(b_values)\n",
    "    print(\"b_hat =\", b_average)\n",
    "    \n",
    "    new_x_values = get_random_x_values(trials)\n",
    "    if g_function == 'b':\n",
    "        g_bar_x_values = b_average\n",
    "    elif g_function == 'ax':\n",
    "        g_bar_x_values = a_average * new_x_values\n",
    "    elif g_function == 'ax + b':\n",
    "        g_bar_x_values = a_average * new_x_values \\\n",
    "                           + b_average\n",
    "    elif g_function == 'ax^2':\n",
    "        g_bar_x_values = a_average * new_x_values \\\n",
    "                           * new_x_values\n",
    "    elif g_function == 'ax^2 + b':\n",
    "        g_bar_x_values = a_average * new_x_values \\\n",
    "                         * new_x_values + b_average\n",
    "    else:\n",
    "        raise ValueError(\"Invalid g_function: \" + g_function)\n",
    "    \n",
    "    f_x_values = np.sin(np.pi * new_x_values)\n",
    "    bias = np.mean((g_bar_x_values - f_x_values)\n",
    "                   * (g_bar_x_values - f_x_values))\n",
    "    print(\"bias =\", bias)\n",
    "    \n",
    "    average_g_D_minus_g_bar_values = np.zeros(trials, dtype=float)\n",
    "    for i in range(trials):\n",
    "        if g_function == 'b':\n",
    "            g_D_x_values = b_values[i]\n",
    "        elif g_function == 'ax':\n",
    "            g_D_x_values = a_values[i] * new_x_values\n",
    "        elif g_function == 'ax + b':\n",
    "            g_D_x_values = a_values[i] * new_x_values \\\n",
    "                             + b_values[i]\n",
    "        elif g_function == 'ax^2':\n",
    "            g_D_x_values = a_values[i] * new_x_values \\\n",
    "                              * new_x_values\n",
    "        elif g_function == 'ax^2 + b':\n",
    "            g_D_x_values = a_values[i] * new_x_values \\\n",
    "                             * new_x_values + b_values[i]\n",
    "        else:\n",
    "            raise ValueError(\"Invalid g_function: \" + g_function)\n",
    "        average_g_D_minus_g_bar_value = \\\n",
    "            np.mean((g_D_x_values - g_bar_x_values)\n",
    "                    * (g_D_x_values - g_bar_x_values))\n",
    "        average_g_D_minus_g_bar_values[i] = \\\n",
    "            average_g_D_minus_g_bar_value\n",
    "    variance = np.mean(average_g_D_minus_g_bar_values)\n",
    "    print(\"variance =\", variance)\n",
    "    \n",
    "    print(\"E_out =\", bias + variance)"
   ]
  },
  {
   "cell_type": "markdown",
   "metadata": {},
   "source": [
    "For Problem 7"
   ]
  },
  {
   "cell_type": "code",
   "execution_count": null,
   "metadata": {},
   "outputs": [],
   "source": [
    "bias_and_variance_analysis_v2('b')"
   ]
  },
  {
   "cell_type": "code",
   "execution_count": null,
   "metadata": {},
   "outputs": [],
   "source": [
    "bias_and_variance_analysis_v2('ax')"
   ]
  },
  {
   "cell_type": "code",
   "execution_count": null,
   "metadata": {},
   "outputs": [],
   "source": [
    "bias_and_variance_analysis_v2('ax + b')"
   ]
  },
  {
   "cell_type": "code",
   "execution_count": null,
   "metadata": {},
   "outputs": [],
   "source": [
    "bias_and_variance_analysis_v2('ax^2')"
   ]
  },
  {
   "cell_type": "code",
   "execution_count": null,
   "metadata": {},
   "outputs": [],
   "source": [
    "bias_and_variance_analysis_v2('ax^2 + b')"
   ]
  }
 ],
 "metadata": {
  "kernelspec": {
   "display_name": "Python 3",
   "language": "python",
   "name": "python3"
  },
  "language_info": {
   "codemirror_mode": {
    "name": "ipython",
    "version": 3
   },
   "file_extension": ".py",
   "mimetype": "text/x-python",
   "name": "python",
   "nbconvert_exporter": "python",
   "pygments_lexer": "ipython3",
   "version": "3.6.5"
  }
 },
 "nbformat": 4,
 "nbformat_minor": 2
}
