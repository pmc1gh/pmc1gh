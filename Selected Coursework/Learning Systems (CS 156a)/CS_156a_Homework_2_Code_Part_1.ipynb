{
 "cells": [
  {
   "cell_type": "markdown",
   "metadata": {},
   "source": [
    "# Philip Carr\n",
    "# CS/CNS/EE_156a_Homework_2_Code_Part_1 (Jupyter Notebook)"
   ]
  },
  {
   "cell_type": "markdown",
   "metadata": {},
   "source": [
    "Code for Hoeffding Inequality (Problems 1 and 2)"
   ]
  },
  {
   "cell_type": "code",
   "execution_count": 1,
   "metadata": {},
   "outputs": [],
   "source": [
    "import random as rn\n",
    "import numpy as np"
   ]
  },
  {
   "cell_type": "code",
   "execution_count": 2,
   "metadata": {},
   "outputs": [],
   "source": [
    "def list_sum(list):\n",
    "    '''\n",
    "    Return the sum of a list containing numbers.\n",
    "    '''\n",
    "    total = 0\n",
    "    for i in range(len(list)):\n",
    "        total += list[i]\n",
    "    return total"
   ]
  },
  {
   "cell_type": "code",
   "execution_count": 3,
   "metadata": {},
   "outputs": [],
   "source": [
    "def flip_n(n_coins=1000, n_flips=10):\n",
    "    '''\n",
    "    Flip n_coins coins n_flips times and return the\n",
    "    fraction of heads flipped for the first coin,\n",
    "    a randomly chosen coin, and the coin with the\n",
    "    minimum number of heads flipped.\n",
    "    '''\n",
    "    # 1 = heads, 0 = tails\n",
    "    coins = np.random.randint(2, size=(n_coins, n_flips))\n",
    "    min_heads_index = -1\n",
    "    min_heads = n_flips + 1\n",
    "    for i in range(len(coins)):\n",
    "        n_heads = np.sum(coins[i])\n",
    "        if n_heads < min_heads:\n",
    "            min_heads = n_heads\n",
    "            min_heads_index = i\n",
    "    \n",
    "    # Choose the first coin\n",
    "    c_1 = coins[0]\n",
    "    v_1 = list_sum(c_1) / n_flips\n",
    "    \n",
    "    # Choose a random coin\n",
    "    c_rand = coins[rn.randint(0, n_coins - 1)]\n",
    "    v_rand = list_sum(c_rand) / n_flips\n",
    "    \n",
    "    # Choose the coin with the minimum number of heads flipped\n",
    "    c_min = coins[min_heads_index]\n",
    "    v_min = list_sum(c_min) / n_flips\n",
    "    \n",
    "    return v_1, v_rand, v_min"
   ]
  },
  {
   "cell_type": "code",
   "execution_count": 4,
   "metadata": {},
   "outputs": [],
   "source": [
    "def hoeffding_inequality_satisfied(v_list, n_flips, u):\n",
    "    '''\n",
    "    Run the Hoeffding Inequality for the given\n",
    "    distribution v_list for epsilon in\n",
    "    [0.01, 0.1, 0.25, 0.4].\n",
    "    '''\n",
    "    for epsilon in [0.01, 0.1, 0.2, 0.4]:\n",
    "        v_neq_u_list = []\n",
    "        for i in range(len(v_list)):\n",
    "            v_neq_u_list.append(int(abs(v_list[i] - u) > epsilon))\n",
    "        v_neq_u_array = np.array(v_neq_u_list)\n",
    "        prob_v_neq_u = np.mean(v_neq_u_array)\n",
    "        upper_bound = 2 * np.exp(-2 * epsilon * epsilon * n_flips)\n",
    "        if prob_v_neq_u > upper_bound:\n",
    "            return False\n",
    "    return True"
   ]
  },
  {
   "cell_type": "code",
   "execution_count": 5,
   "metadata": {},
   "outputs": [],
   "source": [
    "def hoeffding_experiment(trials=100000, N=1000,\n",
    "                         n_flips=10):\n",
    "    '''\n",
    "    Run the coin-flipping simulation flip_n\n",
    "    trials times using N coins, and run the\n",
    "    Hoeffding Inequality for the given coin-\n",
    "    flipping distributions for the first\n",
    "    coin, a randomly selected coin, and the\n",
    "    coin with the minimum number of heads\n",
    "    flipped.\n",
    "    '''\n",
    "    u = 0.5\n",
    "    v_1_list = []\n",
    "    v_rand_list = []\n",
    "    v_min_list = []\n",
    "    for i in range(trials):\n",
    "        values = flip_n(n_coins=N,\n",
    "                        n_flips=n_flips)\n",
    "        v_1_list.append(values[0])\n",
    "        v_rand_list.append(values[1])\n",
    "        v_min_list.append(values[2])\n",
    "    \n",
    "    v_1_array = np.array(v_1_list)\n",
    "    v_rand_array = np.array(v_rand_list)\n",
    "    v_min_array = np.array(v_min_list)\n",
    "    print(\"Average value of v_1: \" + str(np.mean(v_1_array))\n",
    "          + \".\\n\")\n",
    "    print(\"Average value of v_rand: \" + str(np.mean(v_rand_array))\n",
    "          + \".\\n\")\n",
    "    print(\"Average value of v_min: \" + str(np.mean(v_min_array))\n",
    "          + \".\\n\")\n",
    "    \n",
    "    print(\"c_1 satisfies hoeffding inequality: \"\n",
    "          + str(hoeffding_inequality_satisfied(v_1_list, n_flips, u))\n",
    "          + \".\")\n",
    "    print(\"c_rand satisfies hoeffding inequality: \"\n",
    "          + str(hoeffding_inequality_satisfied(v_rand_list, n_flips,\n",
    "                                               u))\n",
    "          + \".\")\n",
    "    print(\"c_min satisfies hoeffding inequality: \"\n",
    "          + str(hoeffding_inequality_satisfied(v_min_list, n_flips,\n",
    "                                               u))\n",
    "          + \".\")"
   ]
  },
  {
   "cell_type": "markdown",
   "metadata": {},
   "source": [
    "For Problems 1 and 2"
   ]
  },
  {
   "cell_type": "code",
   "execution_count": 6,
   "metadata": {},
   "outputs": [
    {
     "name": "stdout",
     "output_type": "stream",
     "text": [
      "Average value of v_1: 0.5003489999999999.\n",
      "\n",
      "Average value of v_rand: 0.49973000000000006.\n",
      "\n",
      "Average value of v_min: 0.037685.\n",
      "\n",
      "c_1 satisfies hoeffding inequality: True.\n",
      "c_rand satisfies hoeffding inequality: True.\n",
      "c_min satisfies hoeffding inequality: False.\n"
     ]
    }
   ],
   "source": [
    "hoeffding_experiment()"
   ]
  }
 ],
 "metadata": {
  "kernelspec": {
   "display_name": "Python 3",
   "language": "python",
   "name": "python3"
  },
  "language_info": {
   "codemirror_mode": {
    "name": "ipython",
    "version": 3
   },
   "file_extension": ".py",
   "mimetype": "text/x-python",
   "name": "python",
   "nbconvert_exporter": "python",
   "pygments_lexer": "ipython3",
   "version": "3.6.5"
  }
 },
 "nbformat": 4,
 "nbformat_minor": 2
}
