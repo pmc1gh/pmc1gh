{
 "cells": [
  {
   "cell_type": "markdown",
   "metadata": {},
   "source": [
    "# Problem 2\n",
    "# Philip Carr\n",
    "## Note: 20 late hours were used for this set."
   ]
  },
  {
   "cell_type": "markdown",
   "metadata": {},
   "source": [
    "Use this notebook to write your code for problem 2. You may reuse your SGD code from last week."
   ]
  },
  {
   "cell_type": "code",
   "execution_count": 1,
   "metadata": {},
   "outputs": [],
   "source": [
    "import numpy as np\n",
    "import matplotlib.pyplot as plt\n",
    "%matplotlib inline\n",
    "\n",
    "import random as rn"
   ]
  },
  {
   "cell_type": "markdown",
   "metadata": {},
   "source": [
    "The following function may be useful for loading the necessary data."
   ]
  },
  {
   "cell_type": "code",
   "execution_count": 2,
   "metadata": {},
   "outputs": [],
   "source": [
    "def load_data(filename):\n",
    "    \"\"\"\n",
    "    Function loads data stored in the file filename and returns it as a numpy ndarray.\n",
    "    \n",
    "    Inputs:\n",
    "        filename: given as a string.\n",
    "        \n",
    "    Outputs:\n",
    "        Data contained in the file, returned as a numpy ndarray\n",
    "    \"\"\"\n",
    "    return np.loadtxt(filename, skiprows=1, delimiter=',')"
   ]
  },
  {
   "cell_type": "code",
   "execution_count": 3,
   "metadata": {},
   "outputs": [],
   "source": [
    "lambda_list = [1e-5]\n",
    "lambda_scale = 5\n",
    "for i in range(1, 15):\n",
    "    lambda_list.append(lambda_list[-1] * lambda_scale)"
   ]
  },
  {
   "cell_type": "code",
   "execution_count": 4,
   "metadata": {},
   "outputs": [],
   "source": [
    "def loss(X, Y, w, lmbda):\n",
    "    '''\n",
    "    Calculate the logistic loss function.\n",
    "    \n",
    "    Inputs:\n",
    "        X: A (N, D) shaped numpy array containing the data points.\n",
    "        Y: A (N, ) shaped numpy array containing the (float) labels of the data points.\n",
    "        w: A (D, ) shaped numpy array containing the weight vector.\n",
    "    \n",
    "    Outputs:\n",
    "        The loss evaluated with respect to X, Y, and w.\n",
    "    '''\n",
    "    \n",
    "    total = 0\n",
    "    N = len(X)\n",
    "    for i in range(N):\n",
    "        total -= np.log(1 / (1 + np.exp(-Y[i] * np.dot(w, X[i]))))\n",
    "    return total\n",
    "\n",
    "def gradient(x, y, w, lmbda, N):\n",
    "    '''\n",
    "    Calculate the gradient of the loss function with respect to the\n",
    "    weight vector w, evaluated at a single point (x, y) and weight\n",
    "    vector w.\n",
    "    \n",
    "    Inputs:\n",
    "        x: A (D, ) shaped numpy array containing a single data point.\n",
    "        y: The float label for the data point.\n",
    "        w: A (D, ) shaped numpy array containing the weight vector.\n",
    "        \n",
    "    Output:\n",
    "        The gradient of the loss with respect to w. \n",
    "    '''\n",
    "    \n",
    "    return -y * x * np.exp(-y * np.dot(w, x)) \\\n",
    "           / (1 + np.exp(-y * np.dot(w, x))) \\\n",
    "           + (2 * lmbda / N) * w\n",
    "\n",
    "def SGD(X, Y, w_start, eta, N_epochs, lmbda):\n",
    "    '''\n",
    "    Perform SGD using dataset (X, Y), initial weight vector w_start,\n",
    "    learning rate eta, and N_epochs epochs.\n",
    "    \n",
    "    Inputs:\n",
    "        X: A (N, D) shaped numpy array containing the data points.\n",
    "        Y: A (N, ) shaped numpy array containing the (float) labels of\n",
    "            the data points.\n",
    "        w_start:  A (D, ) shaped numpy array containing the weight\n",
    "            vector initialization.\n",
    "        eta: The step size.\n",
    "        N_epochs: The number of epochs (iterations) to run SGD.\n",
    "        \n",
    "    Outputs:\n",
    "        W: A (N_epochs, D) shaped array containing the weight vectors from all iterations.\n",
    "        losses: A (N_epochs, ) shaped array containing the losses from all iterations.\n",
    "    '''\n",
    "    \n",
    "    W = []\n",
    "    new_weight = w_start\n",
    "    losses = []\n",
    "    for epoch in range(N_epochs):\n",
    "        # Iterate through the points in a random order and update the weights accordingly.\n",
    "        indices = np.random.permutation(len(X))\n",
    "        for i in indices:\n",
    "            new_weight = \\\n",
    "                new_weight - eta * gradient(X[i], Y[i], new_weight,\n",
    "                                            lmbda, len(X))\n",
    "        W.append(new_weight)\n",
    "        losses.append(loss(X, Y, new_weight, lmbda))\n",
    "    \n",
    "    return np.array(W), np.array(losses)"
   ]
  },
  {
   "cell_type": "code",
   "execution_count": 5,
   "metadata": {},
   "outputs": [],
   "source": [
    "def normalized_X(X_original, test_X_normalize):\n",
    "    \"\"\"\n",
    "    Return normalized data using the column\n",
    "    (feature) means and standard deviations of\n",
    "    the test_X_normalize data.\n",
    "    \"\"\"\n",
    "    X_normalized = np.zeros((len(X_original), len(X_original[0])))\n",
    "    for j in range(len(X_original[0])):\n",
    "        jth_mean = np.mean(X_original[:,j])\n",
    "        jth_std = np.std(X_original[:,j])\n",
    "        if len(test_X_normalize) > 0:\n",
    "            jth_mean = np.mean(test_X_normalize[:,j])\n",
    "            jth_std = np.std(test_X_normalize[:,j])\n",
    "        for i in range(len(X_original)):\n",
    "            X_normalized[i,j] = \\\n",
    "                (X_original[i,j] - jth_mean) / jth_std\n",
    "    return X_normalized"
   ]
  },
  {
   "cell_type": "code",
   "execution_count": 6,
   "metadata": {},
   "outputs": [],
   "source": [
    "def sgd_train(X, Y, lmbda):\n",
    "    \"\"\"\n",
    "    Return the array of weight vectors and losses\n",
    "    obtained from training SGD on the given data\n",
    "    usingthe given regularization lambda.\n",
    "    \"\"\"\n",
    "    n_features = len(X[0]) - 1\n",
    "    eta = 5 * 1e-4\n",
    "    b = rn.random() * 1e-5\n",
    "    w_start = [b]\n",
    "    for i in range(n_features):\n",
    "        random_number = rn.random() * 1e-5\n",
    "        w_start.append(random_number)\n",
    "    w_start = np.array(w_start)\n",
    "    N_epochs = 20000\n",
    "    \n",
    "    W, losses = SGD(X, Y, w_start, eta, N_epochs, lmbda)\n",
    "    w_final = W[len(W)-1]\n",
    "    \n",
    "    return W, losses"
   ]
  },
  {
   "cell_type": "code",
   "execution_count": 7,
   "metadata": {},
   "outputs": [],
   "source": [
    "def sgd_average_error(X, Y, w, lmbda):\n",
    "    \"\"\"\n",
    "    Return the average error of SGD with\n",
    "    the given weight vector w, given a\n",
    "    dataset and lambda.\n",
    "    \"\"\"\n",
    "    return loss(X, Y, w, lmbda) / len(X)"
   ]
  },
  {
   "cell_type": "code",
   "execution_count": 8,
   "metadata": {},
   "outputs": [],
   "source": [
    "def get_data(filetype, test_X_normalize=\"\"):\n",
    "    \"\"\"\n",
    "    Return normalized data from a specified file.\n",
    "    \"\"\"\n",
    "    if filetype == \"train1\":\n",
    "        data = load_data(\"data/wine_training1.txt\")\n",
    "    elif filetype == \"train2\":\n",
    "        data = load_data(\"data/wine_training2.txt\")\n",
    "    elif filetype == \"test\":\n",
    "        data = load_data(\"data/wine_testing.txt\")\n",
    "    else:\n",
    "        raise ValueError(\"train_file must be either train1, train2,\",\n",
    "                         \"or test.\")\n",
    "    n_features = 13\n",
    "    X_original = data[:,1:]\n",
    "    X_normalized = []\n",
    "    if test_X_normalize == \"train1\":\n",
    "        test_X_normalize_data = load_data(\"data/wine_training1.txt\")[:,1:]\n",
    "        X_normalized = normalized_X(X_original,\n",
    "                                    test_X_normalize_data)\n",
    "    elif test_X_normalize == \"train2\":\n",
    "        test_X_normalize_data = load_data(\"data/wine_training2.txt\")[:,1:]\n",
    "        X_normalized = normalized_X(X_original,\n",
    "                                    test_X_normalize_data)\n",
    "    else:\n",
    "        X_normalized = normalized_X(X_original, X_original)\n",
    "    Y = data[:, 0]\n",
    "    \n",
    "    X_list = []\n",
    "    for i in range(len(X_normalized)):\n",
    "        X_list.append([1] + list(X_normalized[i]))\n",
    "    \n",
    "    X = np.array(X_list)\n",
    "    \n",
    "    return X, Y"
   ]
  },
  {
   "cell_type": "code",
   "execution_count": 9,
   "metadata": {},
   "outputs": [],
   "source": [
    "# Generate the data for the E_in, E_out, and L2 norm plots.\n",
    "# This module takes about 15 minutes to run.\n",
    "n_lambdas = len(lambda_list)\n",
    "average_train_errors1 = np.zeros(n_lambdas)\n",
    "average_train_errors2 = np.zeros(n_lambdas)\n",
    "average_test_errors1 = np.zeros(n_lambdas)\n",
    "average_test_errors2 = np.zeros(n_lambdas)\n",
    "L2_norms1 = np.zeros(n_lambdas)\n",
    "L2_norms2 = np.zeros(n_lambdas)\n",
    "\n",
    "X1, Y1 = get_data(\"train1\")\n",
    "X2, Y2 = get_data(\"train2\")\n",
    "X_test1, Y_test1 = get_data(\"test\", test_X_normalize=\"train1\")\n",
    "X_test2, Y_test2 = get_data(\"test\", test_X_normalize=\"train2\")\n",
    "\n",
    "for i in range(n_lambdas):\n",
    "    W1, losses1 = sgd_train(X1, Y1, lambda_list[i])\n",
    "    w_final1 = W1[len(W1)-1]\n",
    "    W2, losses2 = sgd_train(X2, Y2, lambda_list[i])\n",
    "    w_final2 = W2[len(W2)-1]\n",
    "    \n",
    "    average_train_errors1[i] = sgd_average_error(X1, Y1, w_final1,\n",
    "                                                 lambda_list[i])\n",
    "    average_train_errors2[i] = sgd_average_error(X2, Y2, w_final2,\n",
    "                                                 lambda_list[i])\n",
    "    average_test_errors1[i] = sgd_average_error(X_test1, Y_test1,\n",
    "                                                w_final1,\n",
    "                                                lambda_list[i])\n",
    "    average_test_errors2[i] = sgd_average_error(X_test2, Y_test2,\n",
    "                                                w_final2,\n",
    "                                                lambda_list[i])\n",
    "    L2_norms1[i] = np.sqrt(np.dot(w_final1, w_final1))\n",
    "    L2_norms2[i] = np.sqrt(np.dot(w_final2, w_final2))"
   ]
  },
  {
   "cell_type": "code",
   "execution_count": 10,
   "metadata": {},
   "outputs": [
    {
     "data": {
      "image/png": "[encoded data removed]",
      "text/plain": [
       "<Figure size 432x288 with 1 Axes>"
      ]
     },
     "metadata": {},
     "output_type": "display_data"
    },
    {
     "data": {
      "image/png": "[encoded data removed]",
      "text/plain": [
       "<Figure size 432x288 with 1 Axes>"
      ]
     },
     "metadata": {},
     "output_type": "display_data"
    },
    {
     "data": {
      "image/png": "[encoded data removed]",
      "text/plain": [
       "<Figure size 432x288 with 1 Axes>"
      ]
     },
     "metadata": {},
     "output_type": "display_data"
    }
   ],
   "source": [
    "# Generate the E_in, E_out, and L2 norm plots.\n",
    "plt.figure()\n",
    "plt.title(\"SGD average training error vs. lambda\")\n",
    "plt.xlabel(\"lambda\")\n",
    "plt.xscale(\"log\")\n",
    "plt.ylabel(\"average training error\")\n",
    "plt.plot(lambda_list, average_train_errors1, label=\"wine_training1\")\n",
    "plt.plot(lambda_list, average_train_errors2, label=\"wine_training2\")\n",
    "plt.legend()\n",
    "plt.savefig(\"2c_plot_train_errors.png\")\n",
    "\n",
    "plt.figure()\n",
    "plt.title(\"SGD average test error vs. lambda\")\n",
    "plt.xlabel(\"lambda\")\n",
    "plt.xscale(\"log\")\n",
    "plt.ylabel(\"average test error\")\n",
    "plt.plot(lambda_list, average_test_errors1, label=\"wine_training1\")\n",
    "plt.plot(lambda_list, average_test_errors2, label=\"wine_training2\")\n",
    "plt.legend()\n",
    "plt.savefig(\"2c_plot_test_errors.png\")\n",
    "\n",
    "plt.figure()\n",
    "plt.title(\"SGD L2 norm vs. lambda\")\n",
    "plt.xlabel(\"lambda\")\n",
    "plt.xscale(\"log\")\n",
    "plt.ylabel(\"L2 norm\")\n",
    "plt.plot(lambda_list, L2_norms1, label=\"wine_training1\")\n",
    "plt.plot(lambda_list, L2_norms2, label=\"wine_training2\")\n",
    "plt.legend()\n",
    "plt.savefig(\"2c_plot_l2_norms.png\")"
   ]
  }
 ],
 "metadata": {
  "kernelspec": {
   "display_name": "Python 3",
   "language": "python",
   "name": "python3"
  },
  "language_info": {
   "codemirror_mode": {
    "name": "ipython",
    "version": 3
   },
   "file_extension": ".py",
   "mimetype": "text/x-python",
   "name": "python",
   "nbconvert_exporter": "python",
   "pygments_lexer": "ipython3",
   "version": "3.6.5"
  }
 },
 "nbformat": 4,
 "nbformat_minor": 2
}
