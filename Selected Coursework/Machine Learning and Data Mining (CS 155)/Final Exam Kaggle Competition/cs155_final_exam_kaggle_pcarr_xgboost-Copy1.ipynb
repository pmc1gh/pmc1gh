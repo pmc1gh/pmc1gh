{
 "cells": [
  {
   "cell_type": "markdown",
   "metadata": {},
   "source": [
    "# CS 155 Final Exam Kaggle Competition\n",
    "# Philip Carr\n",
    "# Model: XGBoost (from sklearn)"
   ]
  },
  {
   "cell_type": "code",
   "execution_count": 1,
   "metadata": {},
   "outputs": [
    {
     "name": "stderr",
     "output_type": "stream",
     "text": [
      "C:\\Users\\Phil\\Anaconda3\\lib\\site-packages\\sklearn\\ensemble\\weight_boosting.py:29: DeprecationWarning: numpy.core.umath_tests is an internal NumPy module and should not be imported. It will be removed in a future NumPy release.\n",
      "  from numpy.core.umath_tests import inner1d\n"
     ]
    }
   ],
   "source": [
    "import matplotlib.pyplot as plt\n",
    "import numpy as np\n",
    "\n",
    "from sklearn.metrics import roc_auc_score\n",
    "from sklearn.datasets import make_classification\n",
    "\n",
    "from sklearn.ensemble import RandomForestRegressor\n",
    "from sklearn.metrics import roc_auc_score\n",
    "from sklearn.model_selection import cross_val_score\n",
    "\n",
    "from sklearn.metrics import mean_squared_error\n",
    "\n",
    "import xgboost as xgb\n",
    "\n",
    "def load_data(filename, skiprows = 1):\n",
    "    \"\"\"\n",
    "    Function loads data stored in the file filename and returns it as a numpy ndarray.\n",
    "    \n",
    "    Inputs:\n",
    "        filename: given as a string.\n",
    "        \n",
    "    Outputs:\n",
    "        Data contained in the file, returned as a numpy ndarray\n",
    "    \"\"\"\n",
    "    return np.loadtxt(filename, skiprows=skiprows, delimiter=',')"
   ]
  },
  {
   "cell_type": "markdown",
   "metadata": {},
   "source": [
    "## Training Data Processing"
   ]
  },
  {
   "cell_type": "markdown",
   "metadata": {},
   "source": [
    "Load the data and divide it into training and validation sets:"
   ]
  },
  {
   "cell_type": "code",
   "execution_count": 2,
   "metadata": {},
   "outputs": [],
   "source": [
    "# Load the training data.\n",
    "X = load_data(\"X_train.csv\")\n",
    "N = len(X)\n",
    "\n",
    "data = X[:, 3:]\n",
    "\n",
    "Y = load_data(\"y_train.csv\")\n",
    "label = Y\n",
    "\n",
    "train_percent = 70.\n",
    "train_size = int(N * train_percent / 100)\n",
    "\n",
    "# Randomly split the training data into training\n",
    "# and validation sets.\n",
    "random_order = np.random.permutation(np.arange(N))\n",
    "\n",
    "x_train = data[random_order[0:train_size]]\n",
    "y_train = label[random_order[0:train_size]]\n",
    "x_validation = data[random_order[train_size:]]\n",
    "y_validation = label[random_order[train_size:]]"
   ]
  },
  {
   "cell_type": "code",
   "execution_count": 3,
   "metadata": {},
   "outputs": [
    {
     "name": "stdout",
     "output_type": "stream",
     "text": [
      "[[ 6. 12. 19. ... -1.  0.  1.]\n",
      " [ 6. 12. 25. ... -1.  0.  1.]\n",
      " [ 6. 12. 42. ... -1.  0.  1.]\n",
      " ...\n",
      " [ 3. 16. 39. ... -1.  1.  1.]\n",
      " [ 3. 16. 40. ... -1.  0. 67.]\n",
      " [ 3. 16. 40. ... -1.  0. 53.]]\n",
      "[ 0. 18.  3. ...  3.  0.  3.]\n"
     ]
    }
   ],
   "source": [
    "print(data)\n",
    "print(label)"
   ]
  },
  {
   "cell_type": "code",
   "execution_count": 4,
   "metadata": {
    "scrolled": true
   },
   "outputs": [
    {
     "name": "stdout",
     "output_type": "stream",
     "text": [
      "(56490, 26)\n"
     ]
    }
   ],
   "source": [
    "print(np.shape(X))"
   ]
  },
  {
   "cell_type": "markdown",
   "metadata": {},
   "source": [
    "Dealing with Missing Values"
   ]
  },
  {
   "cell_type": "code",
   "execution_count": 5,
   "metadata": {
    "scrolled": true
   },
   "outputs": [
    {
     "name": "stdout",
     "output_type": "stream",
     "text": [
      "[[ 5.  9. 25. ... -1.  0.  5.]\n",
      " [ 2. 15. 48. ... -1.  0.  4.]\n",
      " [ 2. 14.  6. ... -1.  0.  3.]\n",
      " ...\n",
      " [ 0. 13. 40. ... -1.  0. -1.]\n",
      " [ 1. 15. 32. ... -1.  0. -1.]\n",
      " [ 0. 11. 38. ... -1.  0. 61.]]\n"
     ]
    }
   ],
   "source": [
    "print(x_train)"
   ]
  },
  {
   "cell_type": "code",
   "execution_count": 6,
   "metadata": {},
   "outputs": [
    {
     "name": "stdout",
     "output_type": "stream",
     "text": [
      "(39543, 23)\n"
     ]
    }
   ],
   "source": [
    "print(np.shape(x_train))"
   ]
  },
  {
   "cell_type": "code",
   "execution_count": 7,
   "metadata": {},
   "outputs": [
    {
     "data": {
      "text/plain": [
       "array([160.,  89.,  73., ...,   1.,  35.,  59.])"
      ]
     },
     "execution_count": 7,
     "metadata": {},
     "output_type": "execute_result"
    }
   ],
   "source": [
    "y_train"
   ]
  },
  {
   "cell_type": "code",
   "execution_count": null,
   "metadata": {},
   "outputs": [],
   "source": [
    "for j in range(len(x_train[0])):\n",
    "    col_median = np.median()"
   ]
  },
  {
   "cell_type": "markdown",
   "metadata": {},
   "source": [
    "Normalize the Data"
   ]
  },
  {
   "cell_type": "code",
   "execution_count": 8,
   "metadata": {},
   "outputs": [],
   "source": [
    "# Normalizing the data.\n",
    "train_mean_array = np.zeros(len(x_train[0]))\n",
    "train_std_array = np.zeros(len(x_train[0]))\n",
    "std_nonzero_indices = []\n",
    "for j in range(len(x_train[0])):\n",
    "    train_mean_array[j] = np.mean(x_train[:,j])\n",
    "    train_std_array[j] = np.std(x_train[:,j])\n",
    "    if train_std_array[j] != 0:\n",
    "        std_nonzero_indices.append(j)\n",
    "        x_train[:,j] = \\\n",
    "            np.divide(x_train[:,j] - train_mean_array[j],\n",
    "                      train_std_array[j])\n",
    "    if np.std(x_validation[:,j]) != 0:\n",
    "        x_validation[:,j] = \\\n",
    "            np.divide(x_validation[:,j] - np.mean(x_validation[:,j]),\n",
    "                      np.std(x_validation[:,j]))"
   ]
  },
  {
   "cell_type": "code",
   "execution_count": 9,
   "metadata": {},
   "outputs": [
    {
     "name": "stdout",
     "output_type": "stream",
     "text": [
      "[0, 1, 2, 4, 5, 6, 7, 8, 9, 10, 11, 12, 13, 14, 15, 16, 17, 18, 19, 20, 21, 22]\n"
     ]
    }
   ],
   "source": [
    "# Remove features from the data that have standard\n",
    "# deviation of 0 in the training set.\n",
    "print(std_nonzero_indices)\n",
    "x_train = x_train[:, std_nonzero_indices]\n",
    "x_validation = x_validation[:, std_nonzero_indices]"
   ]
  },
  {
   "cell_type": "code",
   "execution_count": 10,
   "metadata": {},
   "outputs": [],
   "source": [
    "# good_features = [1, 2, 3, 4, 5, 9, 10, 14, 15, 19, 21, 22]\n",
    "# x_train = x_train[:, good_features]\n",
    "# x_validation = x_validation[:, good_features]"
   ]
  },
  {
   "cell_type": "code",
   "execution_count": 11,
   "metadata": {},
   "outputs": [
    {
     "name": "stdout",
     "output_type": "stream",
     "text": [
      "[[ 1.6273471  -1.22384979 -0.20872159 ... -0.02198608 -0.20236856\n",
      "  -0.67953191]\n",
      " [-0.19836275  1.03570147  1.0823754  ... -0.02198608 -0.20236856\n",
      "  -0.72677732]\n",
      " [-0.19836275  0.65910959 -1.27527998 ... -0.02198608 -0.20236856\n",
      "  -0.77402272]\n",
      " ...\n",
      " [-1.41550265  0.28251772  0.63329819 ... -0.02198608 -0.20236856\n",
      "  -0.96300435]\n",
      " [-0.8069327   1.03570147  0.18422097 ... -0.02198608 -0.20236856\n",
      "  -0.96300435]\n",
      " [-1.41550265 -0.47066604  0.52102888 ... -0.02198608 -0.20236856\n",
      "   1.96621084]]\n"
     ]
    }
   ],
   "source": [
    "print(x_train)"
   ]
  },
  {
   "cell_type": "code",
   "execution_count": 12,
   "metadata": {},
   "outputs": [
    {
     "name": "stdout",
     "output_type": "stream",
     "text": [
      "(39543, 22)\n"
     ]
    }
   ],
   "source": [
    "print(np.shape(x_train))"
   ]
  },
  {
   "cell_type": "code",
   "execution_count": 13,
   "metadata": {
    "scrolled": false
   },
   "outputs": [
    {
     "name": "stdout",
     "output_type": "stream",
     "text": [
      "[160.  89.  73. ...   1.  35.  59.]\n"
     ]
    }
   ],
   "source": [
    "print(y_train)"
   ]
  },
  {
   "cell_type": "code",
   "execution_count": 14,
   "metadata": {},
   "outputs": [],
   "source": [
    "dtrain = xgb.DMatrix(x_train, label=y_train)\n",
    "dvalidation = xgb.DMatrix(x_validation, label=y_validation)\n",
    "#dtest = xgb.DMatrix(x_test)\n",
    "# specify parameters via map\n",
    "param = {'max_depth':3, 'eta':0.5, 'silent':1,\n",
    "         'objective':'reg:linear', 'eval_metric':'rmse',\n",
    "         'scale_pos_rate':1, 'n_estimators':1000}\n",
    "num_round = 3"
   ]
  },
  {
   "cell_type": "code",
   "execution_count": 15,
   "metadata": {
    "scrolled": true
   },
   "outputs": [
    {
     "name": "stdout",
     "output_type": "stream",
     "text": [
      "\n",
      "2\n",
      "2801.2797210275266\n",
      "3113.683099480169\n",
      "\n",
      "3\n",
      "2290.552143654139\n",
      "2446.6295091422026\n",
      "\n",
      "4\n",
      "2071.506395660251\n",
      "2310.7938415165804\n",
      "\n",
      "5\n",
      "1948.402039235269\n",
      "2414.8534090261355\n",
      "\n",
      "6\n",
      "1878.458282969424\n",
      "2304.5774111912797\n",
      "\n",
      "7\n",
      "1813.1592343120533\n",
      "2266.5648544035594\n",
      "\n",
      "8\n",
      "1770.272178824099\n",
      "2214.853416479521\n",
      "\n",
      "9\n",
      "1730.5120765461063\n",
      "2177.5305099942652\n",
      "\n",
      "10\n",
      "1698.2125110038996\n",
      "2144.3644022437143\n",
      "\n",
      "11\n",
      "1656.6770024732573\n",
      "2093.5711236412208\n",
      "\n",
      "12\n",
      "1615.2495471766024\n",
      "2035.742416739422\n",
      "\n",
      "13\n",
      "1591.7931276946997\n",
      "2028.0048191025624\n",
      "\n",
      "14\n",
      "1578.7023912181457\n",
      "2013.6656667206516\n",
      "\n",
      "15\n",
      "1562.5184751633585\n",
      "1997.1087100609338\n",
      "\n",
      "16\n",
      "1520.6938388428503\n",
      "1953.0914945697884\n",
      "\n",
      "17\n",
      "1513.2681935337482\n",
      "1952.2252170475224\n",
      "\n",
      "18\n",
      "1506.5729688783401\n",
      "1932.701605656143\n",
      "\n",
      "19\n",
      "1499.4603609623664\n",
      "1920.884044643908\n",
      "\n",
      "20\n",
      "1492.4060626542732\n",
      "1914.957990365629\n"
     ]
    }
   ],
   "source": [
    "bst = None\n",
    "for num_r in range(2, 21):\n",
    "    #print(num_r)\n",
    "    #print(xgb.cv(param, dtrain, num_r, 5))\n",
    "    \n",
    "    #print(xgb.cv(param, dtrain, num_round, 5))\n",
    "    print()\n",
    "    print(num_r)\n",
    "    bst = xgb.train(param, dtrain, num_boost_round=num_r)\n",
    "    # make prediction\n",
    "    \n",
    "    preds = bst.predict(dtrain)\n",
    "    print(mean_squared_error(y_train, preds))\n",
    "    \n",
    "    preds = bst.predict(dvalidation)\n",
    "    print(mean_squared_error(y_validation, preds))\n",
    "    \n",
    "    #preds = bst.predict(dtest)"
   ]
  },
  {
   "cell_type": "code",
   "execution_count": 16,
   "metadata": {},
   "outputs": [
    {
     "name": "stdout",
     "output_type": "stream",
     "text": [
      "<xgboost.core.Booster object at 0x00000182D35E25F8>\n"
     ]
    }
   ],
   "source": [
    "print(bst)"
   ]
  },
  {
   "cell_type": "markdown",
   "metadata": {},
   "source": [
    "# XGBoost Initialization and Fitting"
   ]
  },
  {
   "cell_type": "code",
   "execution_count": 17,
   "metadata": {
    "scrolled": true
   },
   "outputs": [
    {
     "name": "stdout",
     "output_type": "stream",
     "text": [
      "Fitting 3 folds for each of 48 candidates, totalling 144 fits\n",
      "Memmaping (shape=(39543, 22), dtype=float64) to new file C:\\Users\\Phil\\AppData\\Local\\Temp\\joblib_memmaping_pool_38152_1661468380128\\38152-1661466439632-ab7a1add8b9333d3650a249730f8c222.pkl\n",
      "Pickling array (shape=(39543,), dtype=float64).\n",
      "Pickling array (shape=(26362,), dtype=int32).\n",
      "Pickling array (shape=(13181,), dtype=int32).\n",
      "Memmaping (shape=(39543, 22), dtype=float64) to old file C:\\Users\\Phil\\AppData\\Local\\Temp\\joblib_memmaping_pool_38152_1661468380128\\38152-1661466439632-ab7a1add8b9333d3650a249730f8c222.pkl\n",
      "Pickling array (shape=(39543,), dtype=float64).\n",
      "Pickling array (shape=(26362,), dtype=int32).\n",
      "Pickling array (shape=(13181,), dtype=int32).\n",
      "Memmaping (shape=(39543, 22), dtype=float64) to old file C:\\Users\\Phil\\AppData\\Local\\Temp\\joblib_memmaping_pool_38152_1661468380128\\38152-1661466439632-ab7a1add8b9333d3650a249730f8c222.pkl\n",
      "Pickling array (shape=(39543,), dtype=float64).\n",
      "Pickling array (shape=(26362,), dtype=int32).\n",
      "Pickling array (shape=(13181,), dtype=int32).\n",
      "Memmaping (shape=(39543, 22), dtype=float64) to old file C:\\Users\\Phil\\AppData\\Local\\Temp\\joblib_memmaping_pool_38152_1661468380128\\38152-1661466439632-ab7a1add8b9333d3650a249730f8c222.pkl\n",
      "Pickling array (shape=(39543,), dtype=float64).\n",
      "Pickling array (shape=(26362,), dtype=int32).\n",
      "Pickling array (shape=(13181,), dtype=int32).\n",
      "Memmaping (shape=(39543, 22), dtype=float64) to old file C:\\Users\\Phil\\AppData\\Local\\Temp\\joblib_memmaping_pool_38152_1661468380128\\38152-1661466439632-ab7a1add8b9333d3650a249730f8c222.pkl\n",
      "Pickling array (shape=(39543,), dtype=float64).\n",
      "Pickling array (shape=(26362,), dtype=int32).\n",
      "Pickling array (shape=(13181,), dtype=int32).\n",
      "[Parallel(n_jobs=4)]: Done   1 tasks      | elapsed:   18.7s\n",
      "Memmaping (shape=(39543, 22), dtype=float64) to old file C:\\Users\\Phil\\AppData\\Local\\Temp\\joblib_memmaping_pool_38152_1661468380128\\38152-1661466439632-ab7a1add8b9333d3650a249730f8c222.pkl\n",
      "Pickling array (shape=(39543,), dtype=float64).\n",
      "Pickling array (shape=(26362,), dtype=int32).\n",
      "Pickling array (shape=(13181,), dtype=int32).\n",
      "[Parallel(n_jobs=4)]: Done   2 tasks      | elapsed:   21.1s\n",
      "Memmaping (shape=(39543, 22), dtype=float64) to old file C:\\Users\\Phil\\AppData\\Local\\Temp\\joblib_memmaping_pool_38152_1661468380128\\38152-1661466439632-ab7a1add8b9333d3650a249730f8c222.pkl\n",
      "Pickling array (shape=(39543,), dtype=float64).\n",
      "Pickling array (shape=(26362,), dtype=int32).\n",
      "Pickling array (shape=(13181,), dtype=int32).\n",
      "[Parallel(n_jobs=4)]: Done   3 tasks      | elapsed:   21.4s\n",
      "Memmaping (shape=(39543, 22), dtype=float64) to old file C:\\Users\\Phil\\AppData\\Local\\Temp\\joblib_memmaping_pool_38152_1661468380128\\38152-1661466439632-ab7a1add8b9333d3650a249730f8c222.pkl\n",
      "Pickling array (shape=(39543,), dtype=float64).\n",
      "Pickling array (shape=(26362,), dtype=int32).\n",
      "Pickling array (shape=(13181,), dtype=int32).\n",
      "[Parallel(n_jobs=4)]: Done   4 tasks      | elapsed:   23.8s\n",
      "Memmaping (shape=(39543, 22), dtype=float64) to old file C:\\Users\\Phil\\AppData\\Local\\Temp\\joblib_memmaping_pool_38152_1661468380128\\38152-1661466439632-ab7a1add8b9333d3650a249730f8c222.pkl\n",
      "Pickling array (shape=(39543,), dtype=float64).\n",
      "Pickling array (shape=(26362,), dtype=int32).\n",
      "Pickling array (shape=(13181,), dtype=int32).\n",
      "[Parallel(n_jobs=4)]: Done   5 tasks      | elapsed:   35.4s\n",
      "Memmaping (shape=(39543, 22), dtype=float64) to old file C:\\Users\\Phil\\AppData\\Local\\Temp\\joblib_memmaping_pool_38152_1661468380128\\38152-1661466439632-ab7a1add8b9333d3650a249730f8c222.pkl\n",
      "Pickling array (shape=(39543,), dtype=float64).\n",
      "Pickling array (shape=(26362,), dtype=int32).\n",
      "Pickling array (shape=(13181,), dtype=int32).\n",
      "[Parallel(n_jobs=4)]: Done   6 tasks      | elapsed:   37.3s\n",
      "Memmaping (shape=(39543, 22), dtype=float64) to old file C:\\Users\\Phil\\AppData\\Local\\Temp\\joblib_memmaping_pool_38152_1661468380128\\38152-1661466439632-ab7a1add8b9333d3650a249730f8c222.pkl\n",
      "Pickling array (shape=(39543,), dtype=float64).\n",
      "Pickling array (shape=(26362,), dtype=int32).\n",
      "Pickling array (shape=(13181,), dtype=int32).\n",
      "[Parallel(n_jobs=4)]: Done   7 tasks      | elapsed:   41.3s\n",
      "Memmaping (shape=(39543, 22), dtype=float64) to old file C:\\Users\\Phil\\AppData\\Local\\Temp\\joblib_memmaping_pool_38152_1661468380128\\38152-1661466439632-ab7a1add8b9333d3650a249730f8c222.pkl\n",
      "Pickling array (shape=(39543,), dtype=float64).\n",
      "Pickling array (shape=(26362,), dtype=int32).\n",
      "Pickling array (shape=(13181,), dtype=int32).\n",
      "[Parallel(n_jobs=4)]: Done   8 tasks      | elapsed:   43.5s\n",
      "Memmaping (shape=(39543, 22), dtype=float64) to old file C:\\Users\\Phil\\AppData\\Local\\Temp\\joblib_memmaping_pool_38152_1661468380128\\38152-1661466439632-ab7a1add8b9333d3650a249730f8c222.pkl\n",
      "Pickling array (shape=(39543,), dtype=float64).\n",
      "Pickling array (shape=(26362,), dtype=int32).\n",
      "Pickling array (shape=(13181,), dtype=int32).\n",
      "[Parallel(n_jobs=4)]: Done   9 tasks      | elapsed:   50.3s\n",
      "Memmaping (shape=(39543, 22), dtype=float64) to old file C:\\Users\\Phil\\AppData\\Local\\Temp\\joblib_memmaping_pool_38152_1661468380128\\38152-1661466439632-ab7a1add8b9333d3650a249730f8c222.pkl\n",
      "Pickling array (shape=(39543,), dtype=float64).\n",
      "Pickling array (shape=(26362,), dtype=int32).\n",
      "Pickling array (shape=(13181,), dtype=int32).\n",
      "[Parallel(n_jobs=4)]: Done  10 tasks      | elapsed:   54.7s\n",
      "Memmaping (shape=(39543, 22), dtype=float64) to old file C:\\Users\\Phil\\AppData\\Local\\Temp\\joblib_memmaping_pool_38152_1661468380128\\38152-1661466439632-ab7a1add8b9333d3650a249730f8c222.pkl\n",
      "Pickling array (shape=(39543,), dtype=float64).\n",
      "Pickling array (shape=(26362,), dtype=int32).\n",
      "Pickling array (shape=(13181,), dtype=int32).\n",
      "[Parallel(n_jobs=4)]: Done  11 tasks      | elapsed:   56.0s\n",
      "Memmaping (shape=(39543, 22), dtype=float64) to old file C:\\Users\\Phil\\AppData\\Local\\Temp\\joblib_memmaping_pool_38152_1661468380128\\38152-1661466439632-ab7a1add8b9333d3650a249730f8c222.pkl\n",
      "Pickling array (shape=(39543,), dtype=float64).\n",
      "Pickling array (shape=(26362,), dtype=int32).\n",
      "Pickling array (shape=(13181,), dtype=int32).\n",
      "[Parallel(n_jobs=4)]: Done  12 tasks      | elapsed:   56.9s\n",
      "Memmaping (shape=(39543, 22), dtype=float64) to old file C:\\Users\\Phil\\AppData\\Local\\Temp\\joblib_memmaping_pool_38152_1661468380128\\38152-1661466439632-ab7a1add8b9333d3650a249730f8c222.pkl\n",
      "Pickling array (shape=(39543,), dtype=float64).\n",
      "Pickling array (shape=(26362,), dtype=int32).\n",
      "Pickling array (shape=(13181,), dtype=int32).\n",
      "[Parallel(n_jobs=4)]: Done  13 tasks      | elapsed:  1.2min\n",
      "Memmaping (shape=(39543, 22), dtype=float64) to old file C:\\Users\\Phil\\AppData\\Local\\Temp\\joblib_memmaping_pool_38152_1661468380128\\38152-1661466439632-ab7a1add8b9333d3650a249730f8c222.pkl\n",
      "Pickling array (shape=(39543,), dtype=float64).\n",
      "Pickling array (shape=(26362,), dtype=int32).\n",
      "Pickling array (shape=(13181,), dtype=int32).\n",
      "[Parallel(n_jobs=4)]: Done  14 tasks      | elapsed:  1.3min\n",
      "Memmaping (shape=(39543, 22), dtype=float64) to old file C:\\Users\\Phil\\AppData\\Local\\Temp\\joblib_memmaping_pool_38152_1661468380128\\38152-1661466439632-ab7a1add8b9333d3650a249730f8c222.pkl\n",
      "Pickling array (shape=(39543,), dtype=float64).\n",
      "Pickling array (shape=(26362,), dtype=int32).\n",
      "Pickling array (shape=(13181,), dtype=int32).\n",
      "[Parallel(n_jobs=4)]: Done  15 tasks      | elapsed:  1.3min\n",
      "Memmaping (shape=(39543, 22), dtype=float64) to old file C:\\Users\\Phil\\AppData\\Local\\Temp\\joblib_memmaping_pool_38152_1661468380128\\38152-1661466439632-ab7a1add8b9333d3650a249730f8c222.pkl\n",
      "Pickling array (shape=(39543,), dtype=float64).\n",
      "Pickling array (shape=(26362,), dtype=int32).\n",
      "Pickling array (shape=(13181,), dtype=int32).\n",
      "[Parallel(n_jobs=4)]: Done  16 tasks      | elapsed:  1.3min\n",
      "Memmaping (shape=(39543, 22), dtype=float64) to old file C:\\Users\\Phil\\AppData\\Local\\Temp\\joblib_memmaping_pool_38152_1661468380128\\38152-1661466439632-ab7a1add8b9333d3650a249730f8c222.pkl\n",
      "Pickling array (shape=(39543,), dtype=float64).\n",
      "Pickling array (shape=(26362,), dtype=int32).\n",
      "Pickling array (shape=(13181,), dtype=int32).\n",
      "[Parallel(n_jobs=4)]: Done  17 tasks      | elapsed:  1.6min\n",
      "Memmaping (shape=(39543, 22), dtype=float64) to old file C:\\Users\\Phil\\AppData\\Local\\Temp\\joblib_memmaping_pool_38152_1661468380128\\38152-1661466439632-ab7a1add8b9333d3650a249730f8c222.pkl\n",
      "Pickling array (shape=(39543,), dtype=float64).\n",
      "Pickling array (shape=(26362,), dtype=int32).\n",
      "Pickling array (shape=(13181,), dtype=int32).\n"
     ]
    },
    {
     "name": "stdout",
     "output_type": "stream",
     "text": [
      "[Parallel(n_jobs=4)]: Done  18 tasks      | elapsed:  1.6min\n",
      "Memmaping (shape=(39543, 22), dtype=float64) to old file C:\\Users\\Phil\\AppData\\Local\\Temp\\joblib_memmaping_pool_38152_1661468380128\\38152-1661466439632-ab7a1add8b9333d3650a249730f8c222.pkl\n",
      "Pickling array (shape=(39543,), dtype=float64).\n",
      "Pickling array (shape=(26362,), dtype=int32).\n",
      "Pickling array (shape=(13181,), dtype=int32).\n",
      "[Parallel(n_jobs=4)]: Done  19 tasks      | elapsed:  1.7min\n",
      "Memmaping (shape=(39543, 22), dtype=float64) to old file C:\\Users\\Phil\\AppData\\Local\\Temp\\joblib_memmaping_pool_38152_1661468380128\\38152-1661466439632-ab7a1add8b9333d3650a249730f8c222.pkl\n",
      "Pickling array (shape=(39543,), dtype=float64).\n",
      "Pickling array (shape=(26362,), dtype=int32).\n",
      "Pickling array (shape=(13181,), dtype=int32).\n",
      "[Parallel(n_jobs=4)]: Done  20 tasks      | elapsed:  1.7min\n",
      "Memmaping (shape=(39543, 22), dtype=float64) to old file C:\\Users\\Phil\\AppData\\Local\\Temp\\joblib_memmaping_pool_38152_1661468380128\\38152-1661466439632-ab7a1add8b9333d3650a249730f8c222.pkl\n",
      "Pickling array (shape=(39543,), dtype=float64).\n",
      "Pickling array (shape=(26362,), dtype=int32).\n",
      "Pickling array (shape=(13181,), dtype=int32).\n",
      "[Parallel(n_jobs=4)]: Done  21 tasks      | elapsed:  1.9min\n",
      "Memmaping (shape=(39543, 22), dtype=float64) to old file C:\\Users\\Phil\\AppData\\Local\\Temp\\joblib_memmaping_pool_38152_1661468380128\\38152-1661466439632-ab7a1add8b9333d3650a249730f8c222.pkl\n",
      "Pickling array (shape=(39543,), dtype=float64).\n",
      "Pickling array (shape=(26362,), dtype=int32).\n",
      "Pickling array (shape=(13181,), dtype=int32).\n",
      "[Parallel(n_jobs=4)]: Done  22 tasks      | elapsed:  1.9min\n",
      "Memmaping (shape=(39543, 22), dtype=float64) to old file C:\\Users\\Phil\\AppData\\Local\\Temp\\joblib_memmaping_pool_38152_1661468380128\\38152-1661466439632-ab7a1add8b9333d3650a249730f8c222.pkl\n",
      "Pickling array (shape=(39543,), dtype=float64).\n",
      "Pickling array (shape=(26362,), dtype=int32).\n",
      "Pickling array (shape=(13181,), dtype=int32).\n",
      "[Parallel(n_jobs=4)]: Done  23 tasks      | elapsed:  2.0min\n",
      "Memmaping (shape=(39543, 22), dtype=float64) to old file C:\\Users\\Phil\\AppData\\Local\\Temp\\joblib_memmaping_pool_38152_1661468380128\\38152-1661466439632-ab7a1add8b9333d3650a249730f8c222.pkl\n",
      "Pickling array (shape=(39543,), dtype=float64).\n",
      "Pickling array (shape=(26362,), dtype=int32).\n",
      "Pickling array (shape=(13181,), dtype=int32).\n",
      "[Parallel(n_jobs=4)]: Done  24 tasks      | elapsed:  2.0min\n",
      "Memmaping (shape=(39543, 22), dtype=float64) to old file C:\\Users\\Phil\\AppData\\Local\\Temp\\joblib_memmaping_pool_38152_1661468380128\\38152-1661466439632-ab7a1add8b9333d3650a249730f8c222.pkl\n",
      "Pickling array (shape=(39543,), dtype=float64).\n",
      "Pickling array (shape=(26362,), dtype=int32).\n",
      "Pickling array (shape=(13181,), dtype=int32).\n",
      "[Parallel(n_jobs=4)]: Done  25 tasks      | elapsed:  2.2min\n",
      "Memmaping (shape=(39543, 22), dtype=float64) to old file C:\\Users\\Phil\\AppData\\Local\\Temp\\joblib_memmaping_pool_38152_1661468380128\\38152-1661466439632-ab7a1add8b9333d3650a249730f8c222.pkl\n",
      "Pickling array (shape=(39543,), dtype=float64).\n",
      "Pickling array (shape=(26362,), dtype=int32).\n",
      "Pickling array (shape=(13181,), dtype=int32).\n",
      "[Parallel(n_jobs=4)]: Done  26 tasks      | elapsed:  2.3min\n",
      "Memmaping (shape=(39543, 22), dtype=float64) to old file C:\\Users\\Phil\\AppData\\Local\\Temp\\joblib_memmaping_pool_38152_1661468380128\\38152-1661466439632-ab7a1add8b9333d3650a249730f8c222.pkl\n",
      "Pickling array (shape=(39543,), dtype=float64).\n",
      "Pickling array (shape=(26362,), dtype=int32).\n",
      "Pickling array (shape=(13181,), dtype=int32).\n",
      "[Parallel(n_jobs=4)]: Done  27 tasks      | elapsed:  2.3min\n",
      "Memmaping (shape=(39543, 22), dtype=float64) to old file C:\\Users\\Phil\\AppData\\Local\\Temp\\joblib_memmaping_pool_38152_1661468380128\\38152-1661466439632-ab7a1add8b9333d3650a249730f8c222.pkl\n",
      "Pickling array (shape=(39543,), dtype=float64).\n",
      "Pickling array (shape=(26362,), dtype=int32).\n",
      "Pickling array (shape=(13181,), dtype=int32).\n",
      "[Parallel(n_jobs=4)]: Done  28 tasks      | elapsed:  2.3min\n",
      "Memmaping (shape=(39543, 22), dtype=float64) to old file C:\\Users\\Phil\\AppData\\Local\\Temp\\joblib_memmaping_pool_38152_1661468380128\\38152-1661466439632-ab7a1add8b9333d3650a249730f8c222.pkl\n",
      "Pickling array (shape=(39543,), dtype=float64).\n",
      "Pickling array (shape=(26362,), dtype=int32).\n",
      "Pickling array (shape=(13181,), dtype=int32).\n",
      "[Parallel(n_jobs=4)]: Done  29 tasks      | elapsed:  2.5min\n",
      "Memmaping (shape=(39543, 22), dtype=float64) to old file C:\\Users\\Phil\\AppData\\Local\\Temp\\joblib_memmaping_pool_38152_1661468380128\\38152-1661466439632-ab7a1add8b9333d3650a249730f8c222.pkl\n",
      "Pickling array (shape=(39543,), dtype=float64).\n",
      "Pickling array (shape=(26362,), dtype=int32).\n",
      "Pickling array (shape=(13181,), dtype=int32).\n",
      "[Parallel(n_jobs=4)]: Done  30 tasks      | elapsed:  2.5min\n",
      "Memmaping (shape=(39543, 22), dtype=float64) to old file C:\\Users\\Phil\\AppData\\Local\\Temp\\joblib_memmaping_pool_38152_1661468380128\\38152-1661466439632-ab7a1add8b9333d3650a249730f8c222.pkl\n",
      "Pickling array (shape=(39543,), dtype=float64).\n",
      "Pickling array (shape=(26362,), dtype=int32).\n",
      "Pickling array (shape=(13181,), dtype=int32).\n",
      "[Parallel(n_jobs=4)]: Done  31 tasks      | elapsed:  2.6min\n",
      "Memmaping (shape=(39543, 22), dtype=float64) to old file C:\\Users\\Phil\\AppData\\Local\\Temp\\joblib_memmaping_pool_38152_1661468380128\\38152-1661466439632-ab7a1add8b9333d3650a249730f8c222.pkl\n",
      "Pickling array (shape=(39543,), dtype=float64).\n",
      "Pickling array (shape=(26362,), dtype=int32).\n",
      "Pickling array (shape=(13181,), dtype=int32).\n",
      "[Parallel(n_jobs=4)]: Done  32 tasks      | elapsed:  2.6min\n",
      "Memmaping (shape=(39543, 22), dtype=float64) to old file C:\\Users\\Phil\\AppData\\Local\\Temp\\joblib_memmaping_pool_38152_1661468380128\\38152-1661466439632-ab7a1add8b9333d3650a249730f8c222.pkl\n",
      "Pickling array (shape=(39543,), dtype=float64).\n",
      "Pickling array (shape=(26362,), dtype=int32).\n",
      "Pickling array (shape=(13181,), dtype=int32).\n",
      "[Parallel(n_jobs=4)]: Done  33 tasks      | elapsed:  2.8min\n",
      "Memmaping (shape=(39543, 22), dtype=float64) to old file C:\\Users\\Phil\\AppData\\Local\\Temp\\joblib_memmaping_pool_38152_1661468380128\\38152-1661466439632-ab7a1add8b9333d3650a249730f8c222.pkl\n",
      "Pickling array (shape=(39543,), dtype=float64).\n",
      "Pickling array (shape=(26362,), dtype=int32).\n",
      "Pickling array (shape=(13181,), dtype=int32).\n",
      "[Parallel(n_jobs=4)]: Done  34 tasks      | elapsed:  2.8min\n",
      "Memmaping (shape=(39543, 22), dtype=float64) to old file C:\\Users\\Phil\\AppData\\Local\\Temp\\joblib_memmaping_pool_38152_1661468380128\\38152-1661466439632-ab7a1add8b9333d3650a249730f8c222.pkl\n",
      "Pickling array (shape=(39543,), dtype=float64).\n",
      "Pickling array (shape=(26362,), dtype=int32).\n",
      "Pickling array (shape=(13181,), dtype=int32).\n",
      "[Parallel(n_jobs=4)]: Done  35 tasks      | elapsed:  2.8min\n",
      "Memmaping (shape=(39543, 22), dtype=float64) to old file C:\\Users\\Phil\\AppData\\Local\\Temp\\joblib_memmaping_pool_38152_1661468380128\\38152-1661466439632-ab7a1add8b9333d3650a249730f8c222.pkl\n",
      "Pickling array (shape=(39543,), dtype=float64).\n",
      "Pickling array (shape=(26362,), dtype=int32).\n",
      "Pickling array (shape=(13181,), dtype=int32).\n",
      "[Parallel(n_jobs=4)]: Done  36 tasks      | elapsed:  2.9min\n",
      "Memmaping (shape=(39543, 22), dtype=float64) to old file C:\\Users\\Phil\\AppData\\Local\\Temp\\joblib_memmaping_pool_38152_1661468380128\\38152-1661466439632-ab7a1add8b9333d3650a249730f8c222.pkl\n",
      "Pickling array (shape=(39543,), dtype=float64).\n",
      "Pickling array (shape=(26362,), dtype=int32).\n",
      "Pickling array (shape=(13181,), dtype=int32).\n",
      "[Parallel(n_jobs=4)]: Done  37 tasks      | elapsed:  3.1min\n",
      "Memmaping (shape=(39543, 22), dtype=float64) to old file C:\\Users\\Phil\\AppData\\Local\\Temp\\joblib_memmaping_pool_38152_1661468380128\\38152-1661466439632-ab7a1add8b9333d3650a249730f8c222.pkl\n",
      "Pickling array (shape=(39543,), dtype=float64).\n",
      "Pickling array (shape=(26362,), dtype=int32).\n",
      "Pickling array (shape=(13181,), dtype=int32).\n",
      "[Parallel(n_jobs=4)]: Done  38 tasks      | elapsed:  3.1min\n",
      "Memmaping (shape=(39543, 22), dtype=float64) to old file C:\\Users\\Phil\\AppData\\Local\\Temp\\joblib_memmaping_pool_38152_1661468380128\\38152-1661466439632-ab7a1add8b9333d3650a249730f8c222.pkl\n",
      "Pickling array (shape=(39543,), dtype=float64).\n",
      "Pickling array (shape=(26362,), dtype=int32).\n",
      "Pickling array (shape=(13181,), dtype=int32).\n",
      "[Parallel(n_jobs=4)]: Done  39 tasks      | elapsed:  3.2min\n",
      "Memmaping (shape=(39543, 22), dtype=float64) to old file C:\\Users\\Phil\\AppData\\Local\\Temp\\joblib_memmaping_pool_38152_1661468380128\\38152-1661466439632-ab7a1add8b9333d3650a249730f8c222.pkl\n",
      "Pickling array (shape=(39543,), dtype=float64).\n",
      "Pickling array (shape=(26362,), dtype=int32).\n",
      "Pickling array (shape=(13181,), dtype=int32).\n"
     ]
    },
    {
     "name": "stdout",
     "output_type": "stream",
     "text": [
      "[Parallel(n_jobs=4)]: Done  40 tasks      | elapsed:  3.2min\n",
      "Memmaping (shape=(39543, 22), dtype=float64) to old file C:\\Users\\Phil\\AppData\\Local\\Temp\\joblib_memmaping_pool_38152_1661468380128\\38152-1661466439632-ab7a1add8b9333d3650a249730f8c222.pkl\n",
      "Pickling array (shape=(39543,), dtype=float64).\n",
      "Pickling array (shape=(26362,), dtype=int32).\n",
      "Pickling array (shape=(13181,), dtype=int32).\n",
      "[Parallel(n_jobs=4)]: Done  41 tasks      | elapsed:  3.3min\n",
      "Memmaping (shape=(39543, 22), dtype=float64) to old file C:\\Users\\Phil\\AppData\\Local\\Temp\\joblib_memmaping_pool_38152_1661468380128\\38152-1661466439632-ab7a1add8b9333d3650a249730f8c222.pkl\n",
      "Pickling array (shape=(39543,), dtype=float64).\n",
      "Pickling array (shape=(26362,), dtype=int32).\n",
      "Pickling array (shape=(13181,), dtype=int32).\n",
      "[Parallel(n_jobs=4)]: Done  42 tasks      | elapsed:  3.4min\n",
      "Memmaping (shape=(39543, 22), dtype=float64) to old file C:\\Users\\Phil\\AppData\\Local\\Temp\\joblib_memmaping_pool_38152_1661468380128\\38152-1661466439632-ab7a1add8b9333d3650a249730f8c222.pkl\n",
      "Pickling array (shape=(39543,), dtype=float64).\n",
      "Pickling array (shape=(26362,), dtype=int32).\n",
      "Pickling array (shape=(13181,), dtype=int32).\n",
      "[Parallel(n_jobs=4)]: Done  43 tasks      | elapsed:  3.5min\n",
      "Memmaping (shape=(39543, 22), dtype=float64) to old file C:\\Users\\Phil\\AppData\\Local\\Temp\\joblib_memmaping_pool_38152_1661468380128\\38152-1661466439632-ab7a1add8b9333d3650a249730f8c222.pkl\n",
      "Pickling array (shape=(39543,), dtype=float64).\n",
      "Pickling array (shape=(26362,), dtype=int32).\n",
      "Pickling array (shape=(13181,), dtype=int32).\n",
      "[Parallel(n_jobs=4)]: Done  44 tasks      | elapsed:  3.5min\n",
      "Memmaping (shape=(39543, 22), dtype=float64) to old file C:\\Users\\Phil\\AppData\\Local\\Temp\\joblib_memmaping_pool_38152_1661468380128\\38152-1661466439632-ab7a1add8b9333d3650a249730f8c222.pkl\n",
      "Pickling array (shape=(39543,), dtype=float64).\n",
      "Pickling array (shape=(26362,), dtype=int32).\n",
      "Pickling array (shape=(13181,), dtype=int32).\n",
      "[Parallel(n_jobs=4)]: Done  45 tasks      | elapsed:  3.6min\n",
      "Memmaping (shape=(39543, 22), dtype=float64) to old file C:\\Users\\Phil\\AppData\\Local\\Temp\\joblib_memmaping_pool_38152_1661468380128\\38152-1661466439632-ab7a1add8b9333d3650a249730f8c222.pkl\n",
      "Pickling array (shape=(39543,), dtype=float64).\n",
      "Pickling array (shape=(26362,), dtype=int32).\n",
      "Pickling array (shape=(13181,), dtype=int32).\n",
      "[Parallel(n_jobs=4)]: Done  46 tasks      | elapsed:  3.7min\n",
      "Memmaping (shape=(39543, 22), dtype=float64) to old file C:\\Users\\Phil\\AppData\\Local\\Temp\\joblib_memmaping_pool_38152_1661468380128\\38152-1661466439632-ab7a1add8b9333d3650a249730f8c222.pkl\n",
      "Pickling array (shape=(39543,), dtype=float64).\n",
      "Pickling array (shape=(26362,), dtype=int32).\n",
      "Pickling array (shape=(13181,), dtype=int32).\n",
      "[Parallel(n_jobs=4)]: Done  47 tasks      | elapsed:  3.7min\n",
      "Memmaping (shape=(39543, 22), dtype=float64) to old file C:\\Users\\Phil\\AppData\\Local\\Temp\\joblib_memmaping_pool_38152_1661468380128\\38152-1661466439632-ab7a1add8b9333d3650a249730f8c222.pkl\n",
      "Pickling array (shape=(39543,), dtype=float64).\n",
      "Pickling array (shape=(26362,), dtype=int32).\n",
      "Pickling array (shape=(13181,), dtype=int32).\n",
      "[Parallel(n_jobs=4)]: Done  48 tasks      | elapsed:  3.7min\n",
      "Memmaping (shape=(39543, 22), dtype=float64) to old file C:\\Users\\Phil\\AppData\\Local\\Temp\\joblib_memmaping_pool_38152_1661468380128\\38152-1661466439632-ab7a1add8b9333d3650a249730f8c222.pkl\n",
      "Pickling array (shape=(39543,), dtype=float64).\n",
      "Pickling array (shape=(26362,), dtype=int32).\n",
      "Pickling array (shape=(13181,), dtype=int32).\n",
      "[Parallel(n_jobs=4)]: Done  49 tasks      | elapsed:  3.8min\n",
      "Memmaping (shape=(39543, 22), dtype=float64) to old file C:\\Users\\Phil\\AppData\\Local\\Temp\\joblib_memmaping_pool_38152_1661468380128\\38152-1661466439632-ab7a1add8b9333d3650a249730f8c222.pkl\n",
      "Pickling array (shape=(39543,), dtype=float64).\n",
      "Pickling array (shape=(26362,), dtype=int32).\n",
      "Pickling array (shape=(13181,), dtype=int32).\n",
      "[Parallel(n_jobs=4)]: Done  50 tasks      | elapsed:  3.8min\n",
      "Memmaping (shape=(39543, 22), dtype=float64) to old file C:\\Users\\Phil\\AppData\\Local\\Temp\\joblib_memmaping_pool_38152_1661468380128\\38152-1661466439632-ab7a1add8b9333d3650a249730f8c222.pkl\n",
      "Pickling array (shape=(39543,), dtype=float64).\n",
      "Pickling array (shape=(26362,), dtype=int32).\n",
      "Pickling array (shape=(13181,), dtype=int32).\n",
      "[Parallel(n_jobs=4)]: Done  51 tasks      | elapsed:  3.8min\n",
      "Memmaping (shape=(39543, 22), dtype=float64) to old file C:\\Users\\Phil\\AppData\\Local\\Temp\\joblib_memmaping_pool_38152_1661468380128\\38152-1661466439632-ab7a1add8b9333d3650a249730f8c222.pkl\n",
      "Pickling array (shape=(39543,), dtype=float64).\n",
      "Pickling array (shape=(26362,), dtype=int32).\n",
      "Pickling array (shape=(13181,), dtype=int32).\n",
      "[Parallel(n_jobs=4)]: Done  52 tasks      | elapsed:  3.9min\n",
      "Memmaping (shape=(39543, 22), dtype=float64) to old file C:\\Users\\Phil\\AppData\\Local\\Temp\\joblib_memmaping_pool_38152_1661468380128\\38152-1661466439632-ab7a1add8b9333d3650a249730f8c222.pkl\n",
      "Pickling array (shape=(39543,), dtype=float64).\n",
      "Pickling array (shape=(26362,), dtype=int32).\n",
      "Pickling array (shape=(13181,), dtype=int32).\n",
      "[Parallel(n_jobs=4)]: Done  53 tasks      | elapsed:  3.9min\n",
      "Memmaping (shape=(39543, 22), dtype=float64) to old file C:\\Users\\Phil\\AppData\\Local\\Temp\\joblib_memmaping_pool_38152_1661468380128\\38152-1661466439632-ab7a1add8b9333d3650a249730f8c222.pkl\n",
      "Pickling array (shape=(39543,), dtype=float64).\n",
      "Pickling array (shape=(26362,), dtype=int32).\n",
      "Pickling array (shape=(13181,), dtype=int32).\n",
      "[Parallel(n_jobs=4)]: Done  54 tasks      | elapsed:  3.9min\n",
      "Memmaping (shape=(39543, 22), dtype=float64) to old file C:\\Users\\Phil\\AppData\\Local\\Temp\\joblib_memmaping_pool_38152_1661468380128\\38152-1661466439632-ab7a1add8b9333d3650a249730f8c222.pkl\n",
      "Pickling array (shape=(39543,), dtype=float64).\n",
      "Pickling array (shape=(26362,), dtype=int32).\n",
      "Pickling array (shape=(13181,), dtype=int32).\n",
      "[Parallel(n_jobs=4)]: Done  55 tasks      | elapsed:  4.0min\n",
      "Memmaping (shape=(39543, 22), dtype=float64) to old file C:\\Users\\Phil\\AppData\\Local\\Temp\\joblib_memmaping_pool_38152_1661468380128\\38152-1661466439632-ab7a1add8b9333d3650a249730f8c222.pkl\n",
      "Pickling array (shape=(39543,), dtype=float64).\n",
      "Pickling array (shape=(26362,), dtype=int32).\n",
      "Pickling array (shape=(13181,), dtype=int32).\n",
      "[Parallel(n_jobs=4)]: Done  56 tasks      | elapsed:  4.0min\n",
      "Memmaping (shape=(39543, 22), dtype=float64) to old file C:\\Users\\Phil\\AppData\\Local\\Temp\\joblib_memmaping_pool_38152_1661468380128\\38152-1661466439632-ab7a1add8b9333d3650a249730f8c222.pkl\n",
      "Pickling array (shape=(39543,), dtype=float64).\n",
      "Pickling array (shape=(26362,), dtype=int32).\n",
      "Pickling array (shape=(13181,), dtype=int32).\n",
      "[Parallel(n_jobs=4)]: Done  57 tasks      | elapsed:  4.0min\n",
      "Memmaping (shape=(39543, 22), dtype=float64) to old file C:\\Users\\Phil\\AppData\\Local\\Temp\\joblib_memmaping_pool_38152_1661468380128\\38152-1661466439632-ab7a1add8b9333d3650a249730f8c222.pkl\n",
      "Pickling array (shape=(39543,), dtype=float64).\n",
      "Pickling array (shape=(26362,), dtype=int32).\n",
      "Pickling array (shape=(13181,), dtype=int32).\n",
      "[Parallel(n_jobs=4)]: Done  58 tasks      | elapsed:  4.1min\n",
      "Memmaping (shape=(39543, 22), dtype=float64) to old file C:\\Users\\Phil\\AppData\\Local\\Temp\\joblib_memmaping_pool_38152_1661468380128\\38152-1661466439632-ab7a1add8b9333d3650a249730f8c222.pkl\n",
      "Pickling array (shape=(39543,), dtype=float64).\n",
      "Pickling array (shape=(26362,), dtype=int32).\n",
      "Pickling array (shape=(13181,), dtype=int32).\n",
      "[Parallel(n_jobs=4)]: Done  59 tasks      | elapsed:  4.1min\n",
      "Memmaping (shape=(39543, 22), dtype=float64) to old file C:\\Users\\Phil\\AppData\\Local\\Temp\\joblib_memmaping_pool_38152_1661468380128\\38152-1661466439632-ab7a1add8b9333d3650a249730f8c222.pkl\n",
      "Pickling array (shape=(39543,), dtype=float64).\n",
      "Pickling array (shape=(26362,), dtype=int32).\n",
      "Pickling array (shape=(13181,), dtype=int32).\n",
      "[Parallel(n_jobs=4)]: Done  60 tasks      | elapsed:  4.2min\n",
      "Memmaping (shape=(39543, 22), dtype=float64) to old file C:\\Users\\Phil\\AppData\\Local\\Temp\\joblib_memmaping_pool_38152_1661468380128\\38152-1661466439632-ab7a1add8b9333d3650a249730f8c222.pkl\n",
      "Pickling array (shape=(39543,), dtype=float64).\n",
      "Pickling array (shape=(26362,), dtype=int32).\n",
      "Pickling array (shape=(13181,), dtype=int32).\n",
      "[Parallel(n_jobs=4)]: Done  61 tasks      | elapsed:  4.2min\n",
      "Memmaping (shape=(39543, 22), dtype=float64) to old file C:\\Users\\Phil\\AppData\\Local\\Temp\\joblib_memmaping_pool_38152_1661468380128\\38152-1661466439632-ab7a1add8b9333d3650a249730f8c222.pkl\n",
      "Pickling array (shape=(39543,), dtype=float64).\n",
      "Pickling array (shape=(26362,), dtype=int32).\n",
      "Pickling array (shape=(13181,), dtype=int32).\n"
     ]
    },
    {
     "name": "stdout",
     "output_type": "stream",
     "text": [
      "[Parallel(n_jobs=4)]: Done  62 tasks      | elapsed:  4.2min\n",
      "Memmaping (shape=(39543, 22), dtype=float64) to old file C:\\Users\\Phil\\AppData\\Local\\Temp\\joblib_memmaping_pool_38152_1661468380128\\38152-1661466439632-ab7a1add8b9333d3650a249730f8c222.pkl\n",
      "Pickling array (shape=(39543,), dtype=float64).\n",
      "Pickling array (shape=(26362,), dtype=int32).\n",
      "Pickling array (shape=(13181,), dtype=int32).\n",
      "[Parallel(n_jobs=4)]: Done  63 tasks      | elapsed:  4.3min\n",
      "Memmaping (shape=(39543, 22), dtype=float64) to old file C:\\Users\\Phil\\AppData\\Local\\Temp\\joblib_memmaping_pool_38152_1661468380128\\38152-1661466439632-ab7a1add8b9333d3650a249730f8c222.pkl\n",
      "Pickling array (shape=(39543,), dtype=float64).\n",
      "Pickling array (shape=(26362,), dtype=int32).\n",
      "Pickling array (shape=(13181,), dtype=int32).\n",
      "[Parallel(n_jobs=4)]: Done  64 tasks      | elapsed:  4.3min\n",
      "Memmaping (shape=(39543, 22), dtype=float64) to old file C:\\Users\\Phil\\AppData\\Local\\Temp\\joblib_memmaping_pool_38152_1661468380128\\38152-1661466439632-ab7a1add8b9333d3650a249730f8c222.pkl\n",
      "Pickling array (shape=(39543,), dtype=float64).\n",
      "Pickling array (shape=(26362,), dtype=int32).\n",
      "Pickling array (shape=(13181,), dtype=int32).\n",
      "[Parallel(n_jobs=4)]: Done  65 tasks      | elapsed:  4.3min\n",
      "Memmaping (shape=(39543, 22), dtype=float64) to old file C:\\Users\\Phil\\AppData\\Local\\Temp\\joblib_memmaping_pool_38152_1661468380128\\38152-1661466439632-ab7a1add8b9333d3650a249730f8c222.pkl\n",
      "Pickling array (shape=(39543,), dtype=float64).\n",
      "Pickling array (shape=(26362,), dtype=int32).\n",
      "Pickling array (shape=(13181,), dtype=int32).\n",
      "[Parallel(n_jobs=4)]: Done  66 tasks      | elapsed:  4.3min\n",
      "Memmaping (shape=(39543, 22), dtype=float64) to old file C:\\Users\\Phil\\AppData\\Local\\Temp\\joblib_memmaping_pool_38152_1661468380128\\38152-1661466439632-ab7a1add8b9333d3650a249730f8c222.pkl\n",
      "Pickling array (shape=(39543,), dtype=float64).\n",
      "Pickling array (shape=(26362,), dtype=int32).\n",
      "Pickling array (shape=(13181,), dtype=int32).\n",
      "[Parallel(n_jobs=4)]: Done  67 tasks      | elapsed:  4.4min\n",
      "Memmaping (shape=(39543, 22), dtype=float64) to old file C:\\Users\\Phil\\AppData\\Local\\Temp\\joblib_memmaping_pool_38152_1661468380128\\38152-1661466439632-ab7a1add8b9333d3650a249730f8c222.pkl\n",
      "Pickling array (shape=(39543,), dtype=float64).\n",
      "Pickling array (shape=(26362,), dtype=int32).\n",
      "Pickling array (shape=(13181,), dtype=int32).\n",
      "[Parallel(n_jobs=4)]: Done  68 tasks      | elapsed:  4.4min\n",
      "Memmaping (shape=(39543, 22), dtype=float64) to old file C:\\Users\\Phil\\AppData\\Local\\Temp\\joblib_memmaping_pool_38152_1661468380128\\38152-1661466439632-ab7a1add8b9333d3650a249730f8c222.pkl\n",
      "Pickling array (shape=(39543,), dtype=float64).\n",
      "Pickling array (shape=(26362,), dtype=int32).\n",
      "Pickling array (shape=(13181,), dtype=int32).\n",
      "[Parallel(n_jobs=4)]: Done  69 tasks      | elapsed:  4.5min\n",
      "Memmaping (shape=(39543, 22), dtype=float64) to old file C:\\Users\\Phil\\AppData\\Local\\Temp\\joblib_memmaping_pool_38152_1661468380128\\38152-1661466439632-ab7a1add8b9333d3650a249730f8c222.pkl\n",
      "Pickling array (shape=(39543,), dtype=float64).\n",
      "Pickling array (shape=(26362,), dtype=int32).\n",
      "Pickling array (shape=(13181,), dtype=int32).\n",
      "[Parallel(n_jobs=4)]: Done  70 tasks      | elapsed:  4.5min\n",
      "Memmaping (shape=(39543, 22), dtype=float64) to old file C:\\Users\\Phil\\AppData\\Local\\Temp\\joblib_memmaping_pool_38152_1661468380128\\38152-1661466439632-ab7a1add8b9333d3650a249730f8c222.pkl\n",
      "Pickling array (shape=(39543,), dtype=float64).\n",
      "Pickling array (shape=(26362,), dtype=int32).\n",
      "Pickling array (shape=(13181,), dtype=int32).\n",
      "[Parallel(n_jobs=4)]: Done  71 tasks      | elapsed:  4.6min\n",
      "Memmaping (shape=(39543, 22), dtype=float64) to old file C:\\Users\\Phil\\AppData\\Local\\Temp\\joblib_memmaping_pool_38152_1661468380128\\38152-1661466439632-ab7a1add8b9333d3650a249730f8c222.pkl\n",
      "Pickling array (shape=(39543,), dtype=float64).\n",
      "Pickling array (shape=(26362,), dtype=int32).\n",
      "Pickling array (shape=(13181,), dtype=int32).\n",
      "[Parallel(n_jobs=4)]: Done  72 tasks      | elapsed:  4.6min\n",
      "Memmaping (shape=(39543, 22), dtype=float64) to old file C:\\Users\\Phil\\AppData\\Local\\Temp\\joblib_memmaping_pool_38152_1661468380128\\38152-1661466439632-ab7a1add8b9333d3650a249730f8c222.pkl\n",
      "Pickling array (shape=(39543,), dtype=float64).\n",
      "Pickling array (shape=(26362,), dtype=int32).\n",
      "Pickling array (shape=(13181,), dtype=int32).\n",
      "[Parallel(n_jobs=4)]: Done  73 tasks      | elapsed:  4.7min\n",
      "Memmaping (shape=(39543, 22), dtype=float64) to old file C:\\Users\\Phil\\AppData\\Local\\Temp\\joblib_memmaping_pool_38152_1661468380128\\38152-1661466439632-ab7a1add8b9333d3650a249730f8c222.pkl\n",
      "Pickling array (shape=(39543,), dtype=float64).\n",
      "Pickling array (shape=(26362,), dtype=int32).\n",
      "Pickling array (shape=(13181,), dtype=int32).\n",
      "[Parallel(n_jobs=4)]: Done  74 tasks      | elapsed:  4.7min\n",
      "Memmaping (shape=(39543, 22), dtype=float64) to old file C:\\Users\\Phil\\AppData\\Local\\Temp\\joblib_memmaping_pool_38152_1661468380128\\38152-1661466439632-ab7a1add8b9333d3650a249730f8c222.pkl\n",
      "Pickling array (shape=(39543,), dtype=float64).\n",
      "Pickling array (shape=(26362,), dtype=int32).\n",
      "Pickling array (shape=(13181,), dtype=int32).\n",
      "[Parallel(n_jobs=4)]: Done  75 tasks      | elapsed:  4.8min\n",
      "Memmaping (shape=(39543, 22), dtype=float64) to old file C:\\Users\\Phil\\AppData\\Local\\Temp\\joblib_memmaping_pool_38152_1661468380128\\38152-1661466439632-ab7a1add8b9333d3650a249730f8c222.pkl\n",
      "Pickling array (shape=(39543,), dtype=float64).\n",
      "Pickling array (shape=(26362,), dtype=int32).\n",
      "Pickling array (shape=(13181,), dtype=int32).\n",
      "[Parallel(n_jobs=4)]: Done  76 tasks      | elapsed:  4.8min\n",
      "Memmaping (shape=(39543, 22), dtype=float64) to old file C:\\Users\\Phil\\AppData\\Local\\Temp\\joblib_memmaping_pool_38152_1661468380128\\38152-1661466439632-ab7a1add8b9333d3650a249730f8c222.pkl\n",
      "Pickling array (shape=(39543,), dtype=float64).\n",
      "Pickling array (shape=(26362,), dtype=int32).\n",
      "Pickling array (shape=(13181,), dtype=int32).\n",
      "[Parallel(n_jobs=4)]: Done  77 tasks      | elapsed:  4.8min\n",
      "[Parallel(n_jobs=4)]: Done  78 tasks      | elapsed:  4.8min\n",
      "Memmaping (shape=(39543, 22), dtype=float64) to old file C:\\Users\\Phil\\AppData\\Local\\Temp\\joblib_memmaping_pool_38152_1661468380128\\38152-1661466439632-ab7a1add8b9333d3650a249730f8c222.pkl\n",
      "Pickling array (shape=(39543,), dtype=float64).\n",
      "Pickling array (shape=(26362,), dtype=int32).\n",
      "Pickling array (shape=(13181,), dtype=int32).\n",
      "Memmaping (shape=(39543, 22), dtype=float64) to old file C:\\Users\\Phil\\AppData\\Local\\Temp\\joblib_memmaping_pool_38152_1661468380128\\38152-1661466439632-ab7a1add8b9333d3650a249730f8c222.pkl\n",
      "Pickling array (shape=(39543,), dtype=float64).\n",
      "Pickling array (shape=(26362,), dtype=int32).\n",
      "Pickling array (shape=(13181,), dtype=int32).\n",
      "[Parallel(n_jobs=4)]: Done  79 tasks      | elapsed:  4.9min\n",
      "Memmaping (shape=(39543, 22), dtype=float64) to old file C:\\Users\\Phil\\AppData\\Local\\Temp\\joblib_memmaping_pool_38152_1661468380128\\38152-1661466439632-ab7a1add8b9333d3650a249730f8c222.pkl\n",
      "Pickling array (shape=(39543,), dtype=float64).\n",
      "Pickling array (shape=(26362,), dtype=int32).\n",
      "Pickling array (shape=(13181,), dtype=int32).\n",
      "[Parallel(n_jobs=4)]: Done  80 tasks      | elapsed:  4.9min\n",
      "Memmaping (shape=(39543, 22), dtype=float64) to old file C:\\Users\\Phil\\AppData\\Local\\Temp\\joblib_memmaping_pool_38152_1661468380128\\38152-1661466439632-ab7a1add8b9333d3650a249730f8c222.pkl\n",
      "Pickling array (shape=(39543,), dtype=float64).\n",
      "Pickling array (shape=(26362,), dtype=int32).\n",
      "Pickling array (shape=(13181,), dtype=int32).\n",
      "[Parallel(n_jobs=4)]: Done  81 tasks      | elapsed:  5.0min\n",
      "Memmaping (shape=(39543, 22), dtype=float64) to old file C:\\Users\\Phil\\AppData\\Local\\Temp\\joblib_memmaping_pool_38152_1661468380128\\38152-1661466439632-ab7a1add8b9333d3650a249730f8c222.pkl\n",
      "Pickling array (shape=(39543,), dtype=float64).\n",
      "Pickling array (shape=(26362,), dtype=int32).\n",
      "Pickling array (shape=(13181,), dtype=int32).\n",
      "[Parallel(n_jobs=4)]: Done  82 tasks      | elapsed:  5.0min\n",
      "Memmaping (shape=(39543, 22), dtype=float64) to old file C:\\Users\\Phil\\AppData\\Local\\Temp\\joblib_memmaping_pool_38152_1661468380128\\38152-1661466439632-ab7a1add8b9333d3650a249730f8c222.pkl\n",
      "Pickling array (shape=(39543,), dtype=float64).\n",
      "Pickling array (shape=(26362,), dtype=int32).\n",
      "Pickling array (shape=(13181,), dtype=int32).\n",
      "[Parallel(n_jobs=4)]: Done  83 tasks      | elapsed:  5.1min\n",
      "Memmaping (shape=(39543, 22), dtype=float64) to old file C:\\Users\\Phil\\AppData\\Local\\Temp\\joblib_memmaping_pool_38152_1661468380128\\38152-1661466439632-ab7a1add8b9333d3650a249730f8c222.pkl\n",
      "Pickling array (shape=(39543,), dtype=float64).\n",
      "Pickling array (shape=(26362,), dtype=int32).\n",
      "Pickling array (shape=(13181,), dtype=int32).\n"
     ]
    },
    {
     "name": "stdout",
     "output_type": "stream",
     "text": [
      "[Parallel(n_jobs=4)]: Done  84 tasks      | elapsed:  5.1min\n",
      "Memmaping (shape=(39543, 22), dtype=float64) to old file C:\\Users\\Phil\\AppData\\Local\\Temp\\joblib_memmaping_pool_38152_1661468380128\\38152-1661466439632-ab7a1add8b9333d3650a249730f8c222.pkl\n",
      "Pickling array (shape=(39543,), dtype=float64).\n",
      "Pickling array (shape=(26362,), dtype=int32).\n",
      "Pickling array (shape=(13181,), dtype=int32).\n",
      "[Parallel(n_jobs=4)]: Done  85 tasks      | elapsed:  5.1min\n",
      "Memmaping (shape=(39543, 22), dtype=float64) to old file C:\\Users\\Phil\\AppData\\Local\\Temp\\joblib_memmaping_pool_38152_1661468380128\\38152-1661466439632-ab7a1add8b9333d3650a249730f8c222.pkl\n",
      "Pickling array (shape=(39543,), dtype=float64).\n",
      "Pickling array (shape=(26362,), dtype=int32).\n",
      "Pickling array (shape=(13181,), dtype=int32).\n",
      "[Parallel(n_jobs=4)]: Done  86 tasks      | elapsed:  5.1min\n",
      "Memmaping (shape=(39543, 22), dtype=float64) to old file C:\\Users\\Phil\\AppData\\Local\\Temp\\joblib_memmaping_pool_38152_1661468380128\\38152-1661466439632-ab7a1add8b9333d3650a249730f8c222.pkl\n",
      "Pickling array (shape=(39543,), dtype=float64).\n",
      "Pickling array (shape=(26362,), dtype=int32).\n",
      "Pickling array (shape=(13181,), dtype=int32).\n",
      "[Parallel(n_jobs=4)]: Done  87 tasks      | elapsed:  5.2min\n",
      "Memmaping (shape=(39543, 22), dtype=float64) to old file C:\\Users\\Phil\\AppData\\Local\\Temp\\joblib_memmaping_pool_38152_1661468380128\\38152-1661466439632-ab7a1add8b9333d3650a249730f8c222.pkl\n",
      "Pickling array (shape=(39543,), dtype=float64).\n",
      "Pickling array (shape=(26362,), dtype=int32).\n",
      "Pickling array (shape=(13181,), dtype=int32).\n",
      "[Parallel(n_jobs=4)]: Done  88 tasks      | elapsed:  5.2min\n",
      "Memmaping (shape=(39543, 22), dtype=float64) to old file C:\\Users\\Phil\\AppData\\Local\\Temp\\joblib_memmaping_pool_38152_1661468380128\\38152-1661466439632-ab7a1add8b9333d3650a249730f8c222.pkl\n",
      "Pickling array (shape=(39543,), dtype=float64).\n",
      "Pickling array (shape=(26362,), dtype=int32).\n",
      "Pickling array (shape=(13181,), dtype=int32).\n",
      "[Parallel(n_jobs=4)]: Done  89 tasks      | elapsed:  5.3min\n",
      "Memmaping (shape=(39543, 22), dtype=float64) to old file C:\\Users\\Phil\\AppData\\Local\\Temp\\joblib_memmaping_pool_38152_1661468380128\\38152-1661466439632-ab7a1add8b9333d3650a249730f8c222.pkl\n",
      "Pickling array (shape=(39543,), dtype=float64).\n",
      "Pickling array (shape=(26362,), dtype=int32).\n",
      "Pickling array (shape=(13181,), dtype=int32).\n",
      "[Parallel(n_jobs=4)]: Done  90 tasks      | elapsed:  5.3min\n",
      "Memmaping (shape=(39543, 22), dtype=float64) to old file C:\\Users\\Phil\\AppData\\Local\\Temp\\joblib_memmaping_pool_38152_1661468380128\\38152-1661466439632-ab7a1add8b9333d3650a249730f8c222.pkl\n",
      "Pickling array (shape=(39543,), dtype=float64).\n",
      "Pickling array (shape=(26362,), dtype=int32).\n",
      "Pickling array (shape=(13181,), dtype=int32).\n",
      "[Parallel(n_jobs=4)]: Done  91 tasks      | elapsed:  5.3min\n",
      "Memmaping (shape=(39543, 22), dtype=float64) to old file C:\\Users\\Phil\\AppData\\Local\\Temp\\joblib_memmaping_pool_38152_1661468380128\\38152-1661466439632-ab7a1add8b9333d3650a249730f8c222.pkl\n",
      "Pickling array (shape=(39543,), dtype=float64).\n",
      "Pickling array (shape=(26362,), dtype=int32).\n",
      "Pickling array (shape=(13181,), dtype=int32).\n",
      "[Parallel(n_jobs=4)]: Done  92 tasks      | elapsed:  5.3min\n",
      "Memmaping (shape=(39543, 22), dtype=float64) to old file C:\\Users\\Phil\\AppData\\Local\\Temp\\joblib_memmaping_pool_38152_1661468380128\\38152-1661466439632-ab7a1add8b9333d3650a249730f8c222.pkl\n",
      "Pickling array (shape=(39543,), dtype=float64).\n",
      "Pickling array (shape=(26362,), dtype=int32).\n",
      "Pickling array (shape=(13181,), dtype=int32).\n",
      "[Parallel(n_jobs=4)]: Done  93 tasks      | elapsed:  5.4min\n",
      "Memmaping (shape=(39543, 22), dtype=float64) to old file C:\\Users\\Phil\\AppData\\Local\\Temp\\joblib_memmaping_pool_38152_1661468380128\\38152-1661466439632-ab7a1add8b9333d3650a249730f8c222.pkl\n",
      "Pickling array (shape=(39543,), dtype=float64).\n",
      "Pickling array (shape=(26362,), dtype=int32).\n",
      "Pickling array (shape=(13181,), dtype=int32).\n",
      "[Parallel(n_jobs=4)]: Done  94 tasks      | elapsed:  5.4min\n",
      "Memmaping (shape=(39543, 22), dtype=float64) to old file C:\\Users\\Phil\\AppData\\Local\\Temp\\joblib_memmaping_pool_38152_1661468380128\\38152-1661466439632-ab7a1add8b9333d3650a249730f8c222.pkl\n",
      "Pickling array (shape=(39543,), dtype=float64).\n",
      "Pickling array (shape=(26362,), dtype=int32).\n",
      "Pickling array (shape=(13181,), dtype=int32).\n",
      "[Parallel(n_jobs=4)]: Done  95 tasks      | elapsed:  5.5min\n",
      "Memmaping (shape=(39543, 22), dtype=float64) to old file C:\\Users\\Phil\\AppData\\Local\\Temp\\joblib_memmaping_pool_38152_1661468380128\\38152-1661466439632-ab7a1add8b9333d3650a249730f8c222.pkl\n",
      "Pickling array (shape=(39543,), dtype=float64).\n",
      "Pickling array (shape=(26362,), dtype=int32).\n",
      "Pickling array (shape=(13181,), dtype=int32).\n",
      "[Parallel(n_jobs=4)]: Done  96 tasks      | elapsed:  5.5min\n",
      "Memmaping (shape=(39543, 22), dtype=float64) to old file C:\\Users\\Phil\\AppData\\Local\\Temp\\joblib_memmaping_pool_38152_1661468380128\\38152-1661466439632-ab7a1add8b9333d3650a249730f8c222.pkl\n",
      "Pickling array (shape=(39543,), dtype=float64).\n",
      "Pickling array (shape=(26362,), dtype=int32).\n",
      "Pickling array (shape=(13181,), dtype=int32).\n",
      "[Parallel(n_jobs=4)]: Done  97 tasks      | elapsed:  6.7min\n",
      "Memmaping (shape=(39543, 22), dtype=float64) to old file C:\\Users\\Phil\\AppData\\Local\\Temp\\joblib_memmaping_pool_38152_1661468380128\\38152-1661466439632-ab7a1add8b9333d3650a249730f8c222.pkl\n",
      "Pickling array (shape=(39543,), dtype=float64).\n",
      "Pickling array (shape=(26362,), dtype=int32).\n",
      "Pickling array (shape=(13181,), dtype=int32).\n",
      "[Parallel(n_jobs=4)]: Done  98 tasks      | elapsed:  7.1min\n",
      "Memmaping (shape=(39543, 22), dtype=float64) to old file C:\\Users\\Phil\\AppData\\Local\\Temp\\joblib_memmaping_pool_38152_1661468380128\\38152-1661466439632-ab7a1add8b9333d3650a249730f8c222.pkl\n",
      "Pickling array (shape=(39543,), dtype=float64).\n",
      "Pickling array (shape=(26362,), dtype=int32).\n",
      "Pickling array (shape=(13181,), dtype=int32).\n",
      "[Parallel(n_jobs=4)]: Done  99 tasks      | elapsed:  7.3min\n",
      "Memmaping (shape=(39543, 22), dtype=float64) to old file C:\\Users\\Phil\\AppData\\Local\\Temp\\joblib_memmaping_pool_38152_1661468380128\\38152-1661466439632-ab7a1add8b9333d3650a249730f8c222.pkl\n",
      "Pickling array (shape=(39543,), dtype=float64).\n",
      "Pickling array (shape=(26362,), dtype=int32).\n",
      "Pickling array (shape=(13181,), dtype=int32).\n",
      "[Parallel(n_jobs=4)]: Done 100 tasks      | elapsed:  7.3min\n",
      "Memmaping (shape=(39543, 22), dtype=float64) to old file C:\\Users\\Phil\\AppData\\Local\\Temp\\joblib_memmaping_pool_38152_1661468380128\\38152-1661466439632-ab7a1add8b9333d3650a249730f8c222.pkl\n",
      "Pickling array (shape=(39543,), dtype=float64).\n",
      "Pickling array (shape=(26362,), dtype=int32).\n",
      "Pickling array (shape=(13181,), dtype=int32).\n",
      "[Parallel(n_jobs=4)]: Done 101 tasks      | elapsed:  7.9min\n",
      "Memmaping (shape=(39543, 22), dtype=float64) to old file C:\\Users\\Phil\\AppData\\Local\\Temp\\joblib_memmaping_pool_38152_1661468380128\\38152-1661466439632-ab7a1add8b9333d3650a249730f8c222.pkl\n",
      "Pickling array (shape=(39543,), dtype=float64).\n",
      "Pickling array (shape=(26362,), dtype=int32).\n",
      "Pickling array (shape=(13181,), dtype=int32).\n",
      "[Parallel(n_jobs=4)]: Done 102 tasks      | elapsed:  8.1min\n",
      "Memmaping (shape=(39543, 22), dtype=float64) to old file C:\\Users\\Phil\\AppData\\Local\\Temp\\joblib_memmaping_pool_38152_1661468380128\\38152-1661466439632-ab7a1add8b9333d3650a249730f8c222.pkl\n",
      "Pickling array (shape=(39543,), dtype=float64).\n",
      "Pickling array (shape=(26362,), dtype=int32).\n",
      "Pickling array (shape=(13181,), dtype=int32).\n",
      "[Parallel(n_jobs=4)]: Done 103 tasks      | elapsed:  8.8min\n",
      "Memmaping (shape=(39543, 22), dtype=float64) to old file C:\\Users\\Phil\\AppData\\Local\\Temp\\joblib_memmaping_pool_38152_1661468380128\\38152-1661466439632-ab7a1add8b9333d3650a249730f8c222.pkl\n",
      "Pickling array (shape=(39543,), dtype=float64).\n",
      "Pickling array (shape=(26362,), dtype=int32).\n",
      "Pickling array (shape=(13181,), dtype=int32).\n",
      "[Parallel(n_jobs=4)]: Done 104 tasks      | elapsed:  8.9min\n",
      "Memmaping (shape=(39543, 22), dtype=float64) to old file C:\\Users\\Phil\\AppData\\Local\\Temp\\joblib_memmaping_pool_38152_1661468380128\\38152-1661466439632-ab7a1add8b9333d3650a249730f8c222.pkl\n",
      "Pickling array (shape=(39543,), dtype=float64).\n",
      "Pickling array (shape=(26362,), dtype=int32).\n",
      "Pickling array (shape=(13181,), dtype=int32).\n",
      "[Parallel(n_jobs=4)]: Done 105 tasks      | elapsed:  9.1min\n",
      "Memmaping (shape=(39543, 22), dtype=float64) to old file C:\\Users\\Phil\\AppData\\Local\\Temp\\joblib_memmaping_pool_38152_1661468380128\\38152-1661466439632-ab7a1add8b9333d3650a249730f8c222.pkl\n",
      "Pickling array (shape=(39543,), dtype=float64).\n",
      "Pickling array (shape=(26362,), dtype=int32).\n",
      "Pickling array (shape=(13181,), dtype=int32).\n"
     ]
    },
    {
     "name": "stdout",
     "output_type": "stream",
     "text": [
      "[Parallel(n_jobs=4)]: Done 106 tasks      | elapsed:  9.7min\n",
      "Memmaping (shape=(39543, 22), dtype=float64) to old file C:\\Users\\Phil\\AppData\\Local\\Temp\\joblib_memmaping_pool_38152_1661468380128\\38152-1661466439632-ab7a1add8b9333d3650a249730f8c222.pkl\n",
      "Pickling array (shape=(39543,), dtype=float64).\n",
      "Pickling array (shape=(26362,), dtype=int32).\n",
      "Pickling array (shape=(13181,), dtype=int32).\n",
      "[Parallel(n_jobs=4)]: Done 107 tasks      | elapsed:  9.7min\n",
      "Memmaping (shape=(39543, 22), dtype=float64) to old file C:\\Users\\Phil\\AppData\\Local\\Temp\\joblib_memmaping_pool_38152_1661468380128\\38152-1661466439632-ab7a1add8b9333d3650a249730f8c222.pkl\n",
      "Pickling array (shape=(39543,), dtype=float64).\n",
      "Pickling array (shape=(26362,), dtype=int32).\n",
      "Pickling array (shape=(13181,), dtype=int32).\n",
      "[Parallel(n_jobs=4)]: Done 108 tasks      | elapsed:  9.7min\n",
      "Memmaping (shape=(39543, 22), dtype=float64) to old file C:\\Users\\Phil\\AppData\\Local\\Temp\\joblib_memmaping_pool_38152_1661468380128\\38152-1661466439632-ab7a1add8b9333d3650a249730f8c222.pkl\n",
      "Pickling array (shape=(39543,), dtype=float64).\n",
      "Pickling array (shape=(26362,), dtype=int32).\n",
      "Pickling array (shape=(13181,), dtype=int32).\n",
      "[Parallel(n_jobs=4)]: Done 109 tasks      | elapsed: 11.1min\n",
      "Memmaping (shape=(39543, 22), dtype=float64) to old file C:\\Users\\Phil\\AppData\\Local\\Temp\\joblib_memmaping_pool_38152_1661468380128\\38152-1661466439632-ab7a1add8b9333d3650a249730f8c222.pkl\n",
      "Pickling array (shape=(39543,), dtype=float64).\n",
      "Pickling array (shape=(26362,), dtype=int32).\n",
      "Pickling array (shape=(13181,), dtype=int32).\n",
      "[Parallel(n_jobs=4)]: Done 110 tasks      | elapsed: 11.2min\n",
      "Memmaping (shape=(39543, 22), dtype=float64) to old file C:\\Users\\Phil\\AppData\\Local\\Temp\\joblib_memmaping_pool_38152_1661468380128\\38152-1661466439632-ab7a1add8b9333d3650a249730f8c222.pkl\n",
      "Pickling array (shape=(39543,), dtype=float64).\n",
      "Pickling array (shape=(26362,), dtype=int32).\n",
      "Pickling array (shape=(13181,), dtype=int32).\n",
      "[Parallel(n_jobs=4)]: Done 111 tasks      | elapsed: 11.7min\n",
      "Memmaping (shape=(39543, 22), dtype=float64) to old file C:\\Users\\Phil\\AppData\\Local\\Temp\\joblib_memmaping_pool_38152_1661468380128\\38152-1661466439632-ab7a1add8b9333d3650a249730f8c222.pkl\n",
      "Pickling array (shape=(39543,), dtype=float64).\n",
      "Pickling array (shape=(26362,), dtype=int32).\n",
      "Pickling array (shape=(13181,), dtype=int32).\n",
      "[Parallel(n_jobs=4)]: Done 112 tasks      | elapsed: 11.7min\n",
      "Memmaping (shape=(39543, 22), dtype=float64) to old file C:\\Users\\Phil\\AppData\\Local\\Temp\\joblib_memmaping_pool_38152_1661468380128\\38152-1661466439632-ab7a1add8b9333d3650a249730f8c222.pkl\n",
      "Pickling array (shape=(39543,), dtype=float64).\n",
      "Pickling array (shape=(26362,), dtype=int32).\n",
      "Pickling array (shape=(13181,), dtype=int32).\n",
      "[Parallel(n_jobs=4)]: Done 113 tasks      | elapsed: 12.5min\n",
      "Memmaping (shape=(39543, 22), dtype=float64) to old file C:\\Users\\Phil\\AppData\\Local\\Temp\\joblib_memmaping_pool_38152_1661468380128\\38152-1661466439632-ab7a1add8b9333d3650a249730f8c222.pkl\n",
      "Pickling array (shape=(39543,), dtype=float64).\n",
      "Pickling array (shape=(26362,), dtype=int32).\n",
      "Pickling array (shape=(13181,), dtype=int32).\n",
      "[Parallel(n_jobs=4)]: Done 114 tasks      | elapsed: 12.6min\n",
      "Memmaping (shape=(39543, 22), dtype=float64) to old file C:\\Users\\Phil\\AppData\\Local\\Temp\\joblib_memmaping_pool_38152_1661468380128\\38152-1661466439632-ab7a1add8b9333d3650a249730f8c222.pkl\n",
      "Pickling array (shape=(39543,), dtype=float64).\n",
      "Pickling array (shape=(26362,), dtype=int32).\n",
      "Pickling array (shape=(13181,), dtype=int32).\n",
      "[Parallel(n_jobs=4)]: Done 115 tasks      | elapsed: 13.6min\n",
      "Memmaping (shape=(39543, 22), dtype=float64) to old file C:\\Users\\Phil\\AppData\\Local\\Temp\\joblib_memmaping_pool_38152_1661468380128\\38152-1661466439632-ab7a1add8b9333d3650a249730f8c222.pkl\n",
      "Pickling array (shape=(39543,), dtype=float64).\n",
      "Pickling array (shape=(26362,), dtype=int32).\n",
      "Pickling array (shape=(13181,), dtype=int32).\n",
      "[Parallel(n_jobs=4)]: Done 116 tasks      | elapsed: 13.6min\n",
      "Memmaping (shape=(39543, 22), dtype=float64) to old file C:\\Users\\Phil\\AppData\\Local\\Temp\\joblib_memmaping_pool_38152_1661468380128\\38152-1661466439632-ab7a1add8b9333d3650a249730f8c222.pkl\n",
      "Pickling array (shape=(39543,), dtype=float64).\n",
      "Pickling array (shape=(26362,), dtype=int32).\n",
      "Pickling array (shape=(13181,), dtype=int32).\n",
      "[Parallel(n_jobs=4)]: Done 117 tasks      | elapsed: 13.7min\n",
      "Memmaping (shape=(39543, 22), dtype=float64) to old file C:\\Users\\Phil\\AppData\\Local\\Temp\\joblib_memmaping_pool_38152_1661468380128\\38152-1661466439632-ab7a1add8b9333d3650a249730f8c222.pkl\n",
      "Pickling array (shape=(39543,), dtype=float64).\n",
      "Pickling array (shape=(26362,), dtype=int32).\n",
      "Pickling array (shape=(13181,), dtype=int32).\n",
      "[Parallel(n_jobs=4)]: Done 118 tasks      | elapsed: 14.4min\n",
      "Memmaping (shape=(39543, 22), dtype=float64) to old file C:\\Users\\Phil\\AppData\\Local\\Temp\\joblib_memmaping_pool_38152_1661468380128\\38152-1661466439632-ab7a1add8b9333d3650a249730f8c222.pkl\n",
      "Pickling array (shape=(39543,), dtype=float64).\n",
      "Pickling array (shape=(26362,), dtype=int32).\n",
      "Pickling array (shape=(13181,), dtype=int32).\n",
      "[Parallel(n_jobs=4)]: Done 119 tasks      | elapsed: 14.5min\n",
      "Memmaping (shape=(39543, 22), dtype=float64) to old file C:\\Users\\Phil\\AppData\\Local\\Temp\\joblib_memmaping_pool_38152_1661468380128\\38152-1661466439632-ab7a1add8b9333d3650a249730f8c222.pkl\n",
      "Pickling array (shape=(39543,), dtype=float64).\n",
      "Pickling array (shape=(26362,), dtype=int32).\n",
      "Pickling array (shape=(13181,), dtype=int32).\n",
      "[Parallel(n_jobs=4)]: Done 120 tasks      | elapsed: 14.5min\n",
      "Memmaping (shape=(39543, 22), dtype=float64) to old file C:\\Users\\Phil\\AppData\\Local\\Temp\\joblib_memmaping_pool_38152_1661468380128\\38152-1661466439632-ab7a1add8b9333d3650a249730f8c222.pkl\n",
      "Pickling array (shape=(39543,), dtype=float64).\n",
      "Pickling array (shape=(26362,), dtype=int32).\n",
      "Pickling array (shape=(13181,), dtype=int32).\n",
      "[Parallel(n_jobs=4)]: Done 121 tasks      | elapsed: 15.4min\n",
      "Memmaping (shape=(39543, 22), dtype=float64) to old file C:\\Users\\Phil\\AppData\\Local\\Temp\\joblib_memmaping_pool_38152_1661468380128\\38152-1661466439632-ab7a1add8b9333d3650a249730f8c222.pkl\n",
      "Pickling array (shape=(39543,), dtype=float64).\n",
      "Pickling array (shape=(26362,), dtype=int32).\n",
      "Pickling array (shape=(13181,), dtype=int32).\n",
      "[Parallel(n_jobs=4)]: Done 122 tasks      | elapsed: 16.1min\n",
      "Memmaping (shape=(39543, 22), dtype=float64) to old file C:\\Users\\Phil\\AppData\\Local\\Temp\\joblib_memmaping_pool_38152_1661468380128\\38152-1661466439632-ab7a1add8b9333d3650a249730f8c222.pkl\n",
      "Pickling array (shape=(39543,), dtype=float64).\n",
      "Pickling array (shape=(26362,), dtype=int32).\n",
      "Pickling array (shape=(13181,), dtype=int32).\n",
      "[Parallel(n_jobs=4)]: Done 123 tasks      | elapsed: 16.4min\n",
      "Memmaping (shape=(39543, 22), dtype=float64) to old file C:\\Users\\Phil\\AppData\\Local\\Temp\\joblib_memmaping_pool_38152_1661468380128\\38152-1661466439632-ab7a1add8b9333d3650a249730f8c222.pkl\n",
      "Pickling array (shape=(39543,), dtype=float64).\n",
      "Pickling array (shape=(26362,), dtype=int32).\n",
      "Pickling array (shape=(13181,), dtype=int32).\n",
      "[Parallel(n_jobs=4)]: Done 124 tasks      | elapsed: 16.5min\n",
      "Memmaping (shape=(39543, 22), dtype=float64) to old file C:\\Users\\Phil\\AppData\\Local\\Temp\\joblib_memmaping_pool_38152_1661468380128\\38152-1661466439632-ab7a1add8b9333d3650a249730f8c222.pkl\n",
      "Pickling array (shape=(39543,), dtype=float64).\n",
      "Pickling array (shape=(26362,), dtype=int32).\n",
      "Pickling array (shape=(13181,), dtype=int32).\n",
      "[Parallel(n_jobs=4)]: Done 125 tasks      | elapsed: 16.7min\n",
      "Memmaping (shape=(39543, 22), dtype=float64) to old file C:\\Users\\Phil\\AppData\\Local\\Temp\\joblib_memmaping_pool_38152_1661468380128\\38152-1661466439632-ab7a1add8b9333d3650a249730f8c222.pkl\n",
      "Pickling array (shape=(39543,), dtype=float64).\n",
      "Pickling array (shape=(26362,), dtype=int32).\n",
      "Pickling array (shape=(13181,), dtype=int32).\n",
      "[Parallel(n_jobs=4)]: Done 126 tasks      | elapsed: 17.0min\n",
      "Memmaping (shape=(39543, 22), dtype=float64) to old file C:\\Users\\Phil\\AppData\\Local\\Temp\\joblib_memmaping_pool_38152_1661468380128\\38152-1661466439632-ab7a1add8b9333d3650a249730f8c222.pkl\n",
      "Pickling array (shape=(39543,), dtype=float64).\n",
      "Pickling array (shape=(26362,), dtype=int32).\n",
      "Pickling array (shape=(13181,), dtype=int32).\n",
      "[Parallel(n_jobs=4)]: Done 127 tasks      | elapsed: 18.0min\n",
      "Memmaping (shape=(39543, 22), dtype=float64) to old file C:\\Users\\Phil\\AppData\\Local\\Temp\\joblib_memmaping_pool_38152_1661468380128\\38152-1661466439632-ab7a1add8b9333d3650a249730f8c222.pkl\n",
      "Pickling array (shape=(39543,), dtype=float64).\n",
      "Pickling array (shape=(26362,), dtype=int32).\n",
      "Pickling array (shape=(13181,), dtype=int32).\n"
     ]
    },
    {
     "name": "stdout",
     "output_type": "stream",
     "text": [
      "[Parallel(n_jobs=4)]: Done 128 tasks      | elapsed: 18.0min\n",
      "Memmaping (shape=(39543, 22), dtype=float64) to old file C:\\Users\\Phil\\AppData\\Local\\Temp\\joblib_memmaping_pool_38152_1661468380128\\38152-1661466439632-ab7a1add8b9333d3650a249730f8c222.pkl\n",
      "Pickling array (shape=(39543,), dtype=float64).\n",
      "Pickling array (shape=(26362,), dtype=int32).\n",
      "Pickling array (shape=(13181,), dtype=int32).\n",
      "[Parallel(n_jobs=4)]: Done 129 tasks      | elapsed: 18.1min\n",
      "Memmaping (shape=(39543, 22), dtype=float64) to old file C:\\Users\\Phil\\AppData\\Local\\Temp\\joblib_memmaping_pool_38152_1661468380128\\38152-1661466439632-ab7a1add8b9333d3650a249730f8c222.pkl\n",
      "Pickling array (shape=(39543,), dtype=float64).\n",
      "Pickling array (shape=(26362,), dtype=int32).\n",
      "Pickling array (shape=(13181,), dtype=int32).\n",
      "[Parallel(n_jobs=4)]: Done 130 tasks      | elapsed: 18.3min\n",
      "Memmaping (shape=(39543, 22), dtype=float64) to old file C:\\Users\\Phil\\AppData\\Local\\Temp\\joblib_memmaping_pool_38152_1661468380128\\38152-1661466439632-ab7a1add8b9333d3650a249730f8c222.pkl\n",
      "Pickling array (shape=(39543,), dtype=float64).\n",
      "Pickling array (shape=(26362,), dtype=int32).\n",
      "Pickling array (shape=(13181,), dtype=int32).\n",
      "[Parallel(n_jobs=4)]: Done 131 tasks      | elapsed: 18.5min\n",
      "Memmaping (shape=(39543, 22), dtype=float64) to old file C:\\Users\\Phil\\AppData\\Local\\Temp\\joblib_memmaping_pool_38152_1661468380128\\38152-1661466439632-ab7a1add8b9333d3650a249730f8c222.pkl\n",
      "Pickling array (shape=(39543,), dtype=float64).\n",
      "Pickling array (shape=(26362,), dtype=int32).\n",
      "Pickling array (shape=(13181,), dtype=int32).\n",
      "[Parallel(n_jobs=4)]: Done 132 tasks      | elapsed: 18.7min\n",
      "Memmaping (shape=(39543, 22), dtype=float64) to old file C:\\Users\\Phil\\AppData\\Local\\Temp\\joblib_memmaping_pool_38152_1661468380128\\38152-1661466439632-ab7a1add8b9333d3650a249730f8c222.pkl\n",
      "Pickling array (shape=(39543,), dtype=float64).\n",
      "Pickling array (shape=(26362,), dtype=int32).\n",
      "Pickling array (shape=(13181,), dtype=int32).\n",
      "[Parallel(n_jobs=4)]: Done 133 tasks      | elapsed: 19.6min\n",
      "Memmaping (shape=(39543, 22), dtype=float64) to old file C:\\Users\\Phil\\AppData\\Local\\Temp\\joblib_memmaping_pool_38152_1661468380128\\38152-1661466439632-ab7a1add8b9333d3650a249730f8c222.pkl\n",
      "Pickling array (shape=(39543,), dtype=float64).\n",
      "Pickling array (shape=(26362,), dtype=int32).\n",
      "Pickling array (shape=(13181,), dtype=int32).\n",
      "[Parallel(n_jobs=4)]: Done 134 tasks      | elapsed: 19.9min\n",
      "Memmaping (shape=(39543, 22), dtype=float64) to old file C:\\Users\\Phil\\AppData\\Local\\Temp\\joblib_memmaping_pool_38152_1661468380128\\38152-1661466439632-ab7a1add8b9333d3650a249730f8c222.pkl\n",
      "Pickling array (shape=(39543,), dtype=float64).\n",
      "Pickling array (shape=(26362,), dtype=int32).\n",
      "Pickling array (shape=(13181,), dtype=int32).\n",
      "[Parallel(n_jobs=4)]: Done 135 tasks      | elapsed: 20.0min\n",
      "Memmaping (shape=(39543, 22), dtype=float64) to old file C:\\Users\\Phil\\AppData\\Local\\Temp\\joblib_memmaping_pool_38152_1661468380128\\38152-1661466439632-ab7a1add8b9333d3650a249730f8c222.pkl\n",
      "Pickling array (shape=(39543,), dtype=float64).\n",
      "Pickling array (shape=(26362,), dtype=int32).\n",
      "Pickling array (shape=(13181,), dtype=int32).\n",
      "[Parallel(n_jobs=4)]: Done 136 tasks      | elapsed: 20.1min\n",
      "Memmaping (shape=(39543, 22), dtype=float64) to old file C:\\Users\\Phil\\AppData\\Local\\Temp\\joblib_memmaping_pool_38152_1661468380128\\38152-1661466439632-ab7a1add8b9333d3650a249730f8c222.pkl\n",
      "Pickling array (shape=(39543,), dtype=float64).\n",
      "Pickling array (shape=(26362,), dtype=int32).\n",
      "Pickling array (shape=(13181,), dtype=int32).\n",
      "[Parallel(n_jobs=4)]: Done 137 tasks      | elapsed: 20.7min\n",
      "Memmaping (shape=(39543, 22), dtype=float64) to old file C:\\Users\\Phil\\AppData\\Local\\Temp\\joblib_memmaping_pool_38152_1661468380128\\38152-1661466439632-ab7a1add8b9333d3650a249730f8c222.pkl\n",
      "Pickling array (shape=(39543,), dtype=float64).\n",
      "Pickling array (shape=(26362,), dtype=int32).\n",
      "Pickling array (shape=(13181,), dtype=int32).\n",
      "[Parallel(n_jobs=4)]: Done 138 out of 144 | elapsed: 21.0min remaining:   54.6s\n",
      "Memmaping (shape=(39543, 22), dtype=float64) to old file C:\\Users\\Phil\\AppData\\Local\\Temp\\joblib_memmaping_pool_38152_1661468380128\\38152-1661466439632-ab7a1add8b9333d3650a249730f8c222.pkl\n",
      "Pickling array (shape=(39543,), dtype=float64).\n",
      "Pickling array (shape=(26362,), dtype=int32).\n",
      "Pickling array (shape=(13181,), dtype=int32).\n",
      "[Parallel(n_jobs=4)]: Done 139 out of 144 | elapsed: 21.7min remaining:   46.7s\n",
      "Memmaping (shape=(39543, 22), dtype=float64) to old file C:\\Users\\Phil\\AppData\\Local\\Temp\\joblib_memmaping_pool_38152_1661468380128\\38152-1661466439632-ab7a1add8b9333d3650a249730f8c222.pkl\n",
      "Pickling array (shape=(39543,), dtype=float64).\n",
      "Pickling array (shape=(26362,), dtype=int32).\n",
      "Pickling array (shape=(13181,), dtype=int32).\n",
      "[Parallel(n_jobs=4)]: Done 140 out of 144 | elapsed: 21.9min remaining:   37.4s\n",
      "[Parallel(n_jobs=4)]: Done 141 out of 144 | elapsed: 22.0min remaining:   28.0s\n",
      "[Parallel(n_jobs=4)]: Done 142 out of 144 | elapsed: 22.4min remaining:   18.8s\n",
      "[Parallel(n_jobs=4)]: Done 144 out of 144 | elapsed: 22.4min remaining:    0.0s\n",
      "[Parallel(n_jobs=4)]: Done 144 out of 144 | elapsed: 22.4min finished\n",
      "{'booster': 'dart', 'gamma': 1, 'learning_rate': 0.1, 'max_delta_step': 0, 'objective': 'reg:linear'} -1063.9822212629085\n"
     ]
    }
   ],
   "source": [
    "from xgboost.sklearn import XGBRegressor\n",
    "from sklearn.model_selection import GridSearchCV\n",
    "\n",
    "xgb1 = XGBRegressor(max_depth=6, learning_rate=0.1, n_estimators=300,\n",
    "                    silent=True, objective='reg:linear',\n",
    "                    booster='gbtree', n_jobs=4, nthread=None,\n",
    "                    gamma=0, min_child_weight=6, max_delta_step=0,\n",
    "                    subsample=0.8, colsample_bytree=0.8,\n",
    "                    colsample_bylevel=1, reg_alpha=0.20, \n",
    "                    reg_lambda=1, scale_pos_weight=1, \n",
    "                    base_score=0.5, random_state=0, \n",
    "                    seed=None, missing=None, importance_type='gain')\n",
    "xgb1.fit(x_train, y_train, eval_metric='rmse')\n",
    "\n",
    "# param_test1 = {\n",
    "#  'max_depth':range(4,7),\n",
    "#  'min_child_weight':range(4,7)\n",
    "# }  # result: max_depth = 5, max_child_weight = 6 (old)\n",
    "# param_test2 = {\n",
    "#  'n_estimators':range(150, 310, 25)\n",
    "# } # result: n_estimators = 200 (old)\n",
    "# param_test3 = {\n",
    "#     'max_depth':range(4,7),\n",
    "#     'min_child_weight':range(4,7),\n",
    "#     'n_estimators':range(150, 310, 25)\n",
    "# } # result: max_depth = 6, max_child_weight = 4, n_estimators = 300\n",
    "# param_test4 = {\n",
    "#     \"objective\":[\"reg:linear\"],\n",
    "#     'learning_rate':[0.1, 0.01],\n",
    "#     'booster':[\"gbtree\", \"gblinear\", \"dart\"],\n",
    "#     \"gamma\":[0, 1, 0.1, 0.01],\n",
    "#     \"max_delta_step\":[0, 1]\n",
    "# } # result: {'booster': 'dart', 'gamma': 1, 'learning_rate': 0.1, \n",
    "# # 'max_delta_step': 0, 'objective': 'reg:linear'}\n",
    "# param_test5= {\n",
    "#     \"lambda\":[0, 1, 10, 20, 100],\n",
    "#     \"alpha\":[0, 1, 10, 20, 100],\n",
    "#     \"tree_method\":[\"auto\"]\n",
    "# }\n",
    "# param_test6= {\n",
    "#     \"subsample\":[0.6, 0.8, 1],\n",
    "#     \"colsample_bytree\":[0.6, 0.8, 1],\n",
    "#     \"colsample_bylevel\":[0.6, 0.8, 1],\n",
    "#     \"colsample_bynode\":[0.6, 0.8, 1]\n",
    "# }\n",
    "# gsearch1 = GridSearchCV(\n",
    "#     estimator = XGBRegressor( learning_rate =0.1, n_estimators=300,\n",
    "#                              max_depth=6, min_child_weight=4, gamma=1,\n",
    "#                              subsample=0.8, colsample_bytree=0.8,\n",
    "#                              objective= 'reg:linear', nthread=4,\n",
    "#                              booster=\"dart\", max_delta_step=0,\n",
    "#                              scale_pos_weight=1, seed=27),\n",
    "#     param_grid = param_test4, scoring='neg_mean_squared_error',\n",
    "#     n_jobs=4,iid=False, cv=3, verbose=999)\n",
    "# gsearch1.fit(x_train, y_train)\n",
    "# print(gsearch1.best_params_, gsearch1.best_score_)"
   ]
  },
  {
   "cell_type": "code",
   "execution_count": 18,
   "metadata": {},
   "outputs": [
    {
     "name": "stdout",
     "output_type": "stream",
     "text": [
      "mean_fit_time [ 18.00351898  16.07766954  19.6391449   13.14983185  22.88142904\n",
      "  20.42666006  23.84855533  14.47894573  20.81632996  16.24954263\n",
      "  19.42006453  13.12091009  18.80404496  15.59595704  19.06368454\n",
      "  15.01351476   6.18612321   7.94807768   9.02586222   8.1625042\n",
      "   8.15086929   8.86229912   8.4733394    8.7682174   11.80376617\n",
      "   9.89221072   9.10930506   8.51323191   8.52652947   8.68477376\n",
      "   8.56609114   7.9397668  108.41240493  68.61982123  96.18055058\n",
      "  52.92865364 121.33527915  85.10041499 112.27092314  56.20702521\n",
      " 116.30879084  75.83120338  93.50925978  44.51428755  93.18612409\n",
      "  68.5267388  102.26152031  46.93038988]\n",
      "std_fit_time [ 0.99061121  0.30413969  0.31337189  0.14211495  0.81270689  0.65024566\n",
      "  0.87499717  0.60724552  0.2249344   0.30425396  0.28525273  0.42311927\n",
      "  0.35828648  0.22140145  1.16640388  1.43085429  1.05380891  0.35017694\n",
      "  0.27904727  0.49127876  0.11256554  0.28403013  0.45937333  0.51382283\n",
      "  0.25483994  0.74842614  0.08123733  0.32516145  0.01931067  0.318449\n",
      "  0.18567007  0.28790348  3.01422037  6.20758691  5.89124622  3.8410634\n",
      "  1.14405231  5.08289948  0.5464014   6.23298085  8.02961392 15.11381444\n",
      "  2.60181659 14.80164131  2.15646053  5.72791982  2.71189316 12.94271889]\n",
      "mean_score_time [0.14228725 0.05418897 0.14162167 0.03623668 0.12932205 0.0668215\n",
      " 0.12599675 0.0442148  0.11768532 0.05751387 0.10405469 0.0342416\n",
      " 0.12333727 0.05784583 0.11768572 0.04421592 0.0159568  0.01994658\n",
      " 0.02061152 0.0182848  0.01894927 0.02593056 0.01562484 0.01462754\n",
      " 0.02692842 0.01795228 0.03058513 0.01662286 0.02094444 0.0206116\n",
      " 0.01861787 0.02559821 0.18583695 0.09940124 0.24900103 0.06216828\n",
      " 0.15558346 0.09108965 0.20478495 0.07346972 0.14594293 0.13098327\n",
      " 0.16156848 0.0621678  0.14029201 0.0841078  0.20378844 0.05718025]\n",
      "std_score_time [0.0199859  0.00682965 0.02459165 0.00248844 0.01385127 0.0070994\n",
      " 0.01493423 0.00542135 0.01763511 0.01579763 0.00047002 0.00188048\n",
      " 0.01661545 0.01494936 0.00666497 0.00819731 0.00293566 0.0105862\n",
      " 0.00490853 0.00169544 0.00430889 0.00924867 0.00367179 0.00093982\n",
      " 0.01064882 0.00430885 0.01506631 0.00367197 0.00293628 0.00663163\n",
      " 0.00235095 0.00756569 0.02309554 0.01272926 0.07760161 0.0252358\n",
      " 0.02666189 0.01018246 0.04517411 0.03561012 0.00248706 0.03613764\n",
      " 0.020455   0.03026553 0.0364293  0.00577662 0.06398738 0.0274504 ]\n",
      "param_booster ['gbtree' 'gbtree' 'gbtree' 'gbtree' 'gbtree' 'gbtree' 'gbtree' 'gbtree'\n",
      " 'gbtree' 'gbtree' 'gbtree' 'gbtree' 'gbtree' 'gbtree' 'gbtree' 'gbtree'\n",
      " 'gblinear' 'gblinear' 'gblinear' 'gblinear' 'gblinear' 'gblinear'\n",
      " 'gblinear' 'gblinear' 'gblinear' 'gblinear' 'gblinear' 'gblinear'\n",
      " 'gblinear' 'gblinear' 'gblinear' 'gblinear' 'dart' 'dart' 'dart' 'dart'\n",
      " 'dart' 'dart' 'dart' 'dart' 'dart' 'dart' 'dart' 'dart' 'dart' 'dart'\n",
      " 'dart' 'dart']\n",
      "param_gamma [0 0 0 0 1 1 1 1 0.1 0.1 0.1 0.1 0.01 0.01 0.01 0.01 0 0 0 0 1 1 1 1 0.1\n",
      " 0.1 0.1 0.1 0.01 0.01 0.01 0.01 0 0 0 0 1 1 1 1 0.1 0.1 0.1 0.1 0.01 0.01\n",
      " 0.01 0.01]\n",
      "param_learning_rate [0.1 0.1 0.01 0.01 0.1 0.1 0.01 0.01 0.1 0.1 0.01 0.01 0.1 0.1 0.01 0.01\n",
      " 0.1 0.1 0.01 0.01 0.1 0.1 0.01 0.01 0.1 0.1 0.01 0.01 0.1 0.1 0.01 0.01\n",
      " 0.1 0.1 0.01 0.01 0.1 0.1 0.01 0.01 0.1 0.1 0.01 0.01 0.1 0.1 0.01 0.01]\n",
      "param_max_delta_step [0 1 0 1 0 1 0 1 0 1 0 1 0 1 0 1 0 1 0 1 0 1 0 1 0 1 0 1 0 1 0 1 0 1 0 1 0\n",
      " 1 0 1 0 1 0 1 0 1 0 1]\n",
      "param_objective ['reg:linear' 'reg:linear' 'reg:linear' 'reg:linear' 'reg:linear'\n",
      " 'reg:linear' 'reg:linear' 'reg:linear' 'reg:linear' 'reg:linear'\n",
      " 'reg:linear' 'reg:linear' 'reg:linear' 'reg:linear' 'reg:linear'\n",
      " 'reg:linear' 'reg:linear' 'reg:linear' 'reg:linear' 'reg:linear'\n",
      " 'reg:linear' 'reg:linear' 'reg:linear' 'reg:linear' 'reg:linear'\n",
      " 'reg:linear' 'reg:linear' 'reg:linear' 'reg:linear' 'reg:linear'\n",
      " 'reg:linear' 'reg:linear' 'reg:linear' 'reg:linear' 'reg:linear'\n",
      " 'reg:linear' 'reg:linear' 'reg:linear' 'reg:linear' 'reg:linear'\n",
      " 'reg:linear' 'reg:linear' 'reg:linear' 'reg:linear' 'reg:linear'\n",
      " 'reg:linear' 'reg:linear' 'reg:linear']\n",
      "params [{'booster': 'gbtree', 'gamma': 0, 'learning_rate': 0.1, 'max_delta_step': 0, 'objective': 'reg:linear'}, {'booster': 'gbtree', 'gamma': 0, 'learning_rate': 0.1, 'max_delta_step': 1, 'objective': 'reg:linear'}, {'booster': 'gbtree', 'gamma': 0, 'learning_rate': 0.01, 'max_delta_step': 0, 'objective': 'reg:linear'}, {'booster': 'gbtree', 'gamma': 0, 'learning_rate': 0.01, 'max_delta_step': 1, 'objective': 'reg:linear'}, {'booster': 'gbtree', 'gamma': 1, 'learning_rate': 0.1, 'max_delta_step': 0, 'objective': 'reg:linear'}, {'booster': 'gbtree', 'gamma': 1, 'learning_rate': 0.1, 'max_delta_step': 1, 'objective': 'reg:linear'}, {'booster': 'gbtree', 'gamma': 1, 'learning_rate': 0.01, 'max_delta_step': 0, 'objective': 'reg:linear'}, {'booster': 'gbtree', 'gamma': 1, 'learning_rate': 0.01, 'max_delta_step': 1, 'objective': 'reg:linear'}, {'booster': 'gbtree', 'gamma': 0.1, 'learning_rate': 0.1, 'max_delta_step': 0, 'objective': 'reg:linear'}, {'booster': 'gbtree', 'gamma': 0.1, 'learning_rate': 0.1, 'max_delta_step': 1, 'objective': 'reg:linear'}, {'booster': 'gbtree', 'gamma': 0.1, 'learning_rate': 0.01, 'max_delta_step': 0, 'objective': 'reg:linear'}, {'booster': 'gbtree', 'gamma': 0.1, 'learning_rate': 0.01, 'max_delta_step': 1, 'objective': 'reg:linear'}, {'booster': 'gbtree', 'gamma': 0.01, 'learning_rate': 0.1, 'max_delta_step': 0, 'objective': 'reg:linear'}, {'booster': 'gbtree', 'gamma': 0.01, 'learning_rate': 0.1, 'max_delta_step': 1, 'objective': 'reg:linear'}, {'booster': 'gbtree', 'gamma': 0.01, 'learning_rate': 0.01, 'max_delta_step': 0, 'objective': 'reg:linear'}, {'booster': 'gbtree', 'gamma': 0.01, 'learning_rate': 0.01, 'max_delta_step': 1, 'objective': 'reg:linear'}, {'booster': 'gblinear', 'gamma': 0, 'learning_rate': 0.1, 'max_delta_step': 0, 'objective': 'reg:linear'}, {'booster': 'gblinear', 'gamma': 0, 'learning_rate': 0.1, 'max_delta_step': 1, 'objective': 'reg:linear'}, {'booster': 'gblinear', 'gamma': 0, 'learning_rate': 0.01, 'max_delta_step': 0, 'objective': 'reg:linear'}, {'booster': 'gblinear', 'gamma': 0, 'learning_rate': 0.01, 'max_delta_step': 1, 'objective': 'reg:linear'}, {'booster': 'gblinear', 'gamma': 1, 'learning_rate': 0.1, 'max_delta_step': 0, 'objective': 'reg:linear'}, {'booster': 'gblinear', 'gamma': 1, 'learning_rate': 0.1, 'max_delta_step': 1, 'objective': 'reg:linear'}, {'booster': 'gblinear', 'gamma': 1, 'learning_rate': 0.01, 'max_delta_step': 0, 'objective': 'reg:linear'}, {'booster': 'gblinear', 'gamma': 1, 'learning_rate': 0.01, 'max_delta_step': 1, 'objective': 'reg:linear'}, {'booster': 'gblinear', 'gamma': 0.1, 'learning_rate': 0.1, 'max_delta_step': 0, 'objective': 'reg:linear'}, {'booster': 'gblinear', 'gamma': 0.1, 'learning_rate': 0.1, 'max_delta_step': 1, 'objective': 'reg:linear'}, {'booster': 'gblinear', 'gamma': 0.1, 'learning_rate': 0.01, 'max_delta_step': 0, 'objective': 'reg:linear'}, {'booster': 'gblinear', 'gamma': 0.1, 'learning_rate': 0.01, 'max_delta_step': 1, 'objective': 'reg:linear'}, {'booster': 'gblinear', 'gamma': 0.01, 'learning_rate': 0.1, 'max_delta_step': 0, 'objective': 'reg:linear'}, {'booster': 'gblinear', 'gamma': 0.01, 'learning_rate': 0.1, 'max_delta_step': 1, 'objective': 'reg:linear'}, {'booster': 'gblinear', 'gamma': 0.01, 'learning_rate': 0.01, 'max_delta_step': 0, 'objective': 'reg:linear'}, {'booster': 'gblinear', 'gamma': 0.01, 'learning_rate': 0.01, 'max_delta_step': 1, 'objective': 'reg:linear'}, {'booster': 'dart', 'gamma': 0, 'learning_rate': 0.1, 'max_delta_step': 0, 'objective': 'reg:linear'}, {'booster': 'dart', 'gamma': 0, 'learning_rate': 0.1, 'max_delta_step': 1, 'objective': 'reg:linear'}, {'booster': 'dart', 'gamma': 0, 'learning_rate': 0.01, 'max_delta_step': 0, 'objective': 'reg:linear'}, {'booster': 'dart', 'gamma': 0, 'learning_rate': 0.01, 'max_delta_step': 1, 'objective': 'reg:linear'}, {'booster': 'dart', 'gamma': 1, 'learning_rate': 0.1, 'max_delta_step': 0, 'objective': 'reg:linear'}, {'booster': 'dart', 'gamma': 1, 'learning_rate': 0.1, 'max_delta_step': 1, 'objective': 'reg:linear'}, {'booster': 'dart', 'gamma': 1, 'learning_rate': 0.01, 'max_delta_step': 0, 'objective': 'reg:linear'}, {'booster': 'dart', 'gamma': 1, 'learning_rate': 0.01, 'max_delta_step': 1, 'objective': 'reg:linear'}, {'booster': 'dart', 'gamma': 0.1, 'learning_rate': 0.1, 'max_delta_step': 0, 'objective': 'reg:linear'}, {'booster': 'dart', 'gamma': 0.1, 'learning_rate': 0.1, 'max_delta_step': 1, 'objective': 'reg:linear'}, {'booster': 'dart', 'gamma': 0.1, 'learning_rate': 0.01, 'max_delta_step': 0, 'objective': 'reg:linear'}, {'booster': 'dart', 'gamma': 0.1, 'learning_rate': 0.01, 'max_delta_step': 1, 'objective': 'reg:linear'}, {'booster': 'dart', 'gamma': 0.01, 'learning_rate': 0.1, 'max_delta_step': 0, 'objective': 'reg:linear'}, {'booster': 'dart', 'gamma': 0.01, 'learning_rate': 0.1, 'max_delta_step': 1, 'objective': 'reg:linear'}, {'booster': 'dart', 'gamma': 0.01, 'learning_rate': 0.01, 'max_delta_step': 0, 'objective': 'reg:linear'}, {'booster': 'dart', 'gamma': 0.01, 'learning_rate': 0.01, 'max_delta_step': 1, 'objective': 'reg:linear'}]\n",
      "split0_test_score [-1036.02013563 -6199.12459369 -1474.53641982 -9271.97954393\n",
      " -1035.35789514 -6199.12818355 -1474.53635762 -9271.97925638\n",
      " -1036.02013563 -6199.1285469  -1474.53642103 -9271.97960546\n",
      " -1036.02013563 -6199.11976622 -1474.53641982 -9271.97953956\n",
      " -2714.16039244 -2714.16049089 -2749.49103778 -2749.50710647\n",
      " -2714.16039208 -2714.1604181  -2749.48581772 -2749.48545403\n",
      " -2714.16052888 -2714.16039075 -2749.49667983 -2749.50342933\n",
      " -2714.16045291 -2714.16041801 -2749.49160268 -2749.50089696\n",
      " -1045.10539816 -6199.01225244 -1479.24092064 -9271.97933218\n",
      " -1045.10517612 -6199.02284988 -1479.24092968 -9271.97929166\n",
      " -1045.10539816 -6199.05312075 -1479.24093397 -9271.97945392\n",
      " -1045.10539816 -6198.97630716 -1479.24092064 -9271.9793333 ]\n",
      "split1_test_score [-1078.81625727 -6435.04533586 -1534.85240795 -9570.07521295\n",
      " -1078.81412613 -6435.07894222 -1534.85246911 -9570.07475237\n",
      " -1078.81625727 -6435.06844651 -1534.85241552 -9570.07515803\n",
      " -1078.81625727 -6435.04583057 -1534.85240795 -9570.07521228\n",
      " -2812.44936435 -2812.44940741 -2858.57979659 -2858.57391382\n",
      " -2812.44935581 -2812.44935417 -2858.58915941 -2858.59113332\n",
      " -2812.44932126 -2812.44935034 -2858.57685392 -2858.57578284\n",
      " -2812.44940546 -2812.44940724 -2858.58951775 -2858.58917063\n",
      " -1074.1352034  -6435.36099091 -1526.64067412 -9570.07898094\n",
      " -1070.04824215 -6435.37630567 -1526.64073306 -9570.0786094\n",
      " -1074.13520446 -6435.37967531 -1526.64067412 -9570.07896492\n",
      " -1074.13520446 -6435.36852366 -1526.64067412 -9570.07898026]\n",
      "split2_test_score [-1077.17352606 -6201.18266    -1502.73609865 -9236.90542181\n",
      " -1080.75506787 -6201.1928402  -1502.73574983 -9236.90522069\n",
      " -1077.17352606 -6201.14583302 -1502.73609865 -9236.90532424\n",
      " -1077.17352606 -6201.18196954 -1502.73609865 -9236.90553306\n",
      " -2750.32239785 -2750.32236399 -2779.90688109 -2779.91692151\n",
      " -2750.3223537  -2750.32239788 -2779.91981445 -2779.90816749\n",
      " -2750.32244676 -2750.32239056 -2779.90482594 -2779.91732212\n",
      " -2750.32242891 -2750.32241934 -2779.90310854 -2779.91071925\n",
      " -1078.73607393 -6201.30311656 -1507.70037365 -9236.90590579\n",
      " -1076.79324552 -6201.32783492 -1507.78374651 -9236.90550507\n",
      " -1078.73607393 -6201.28960332 -1507.70037365 -9236.90589609\n",
      " -1078.73607393 -6201.2928799  -1507.70037365 -9236.90590229]\n",
      "mean_test_score [-1064.00330632 -6278.45086318 -1504.04164214 -9359.6533929\n",
      " -1064.97569638 -6278.46665532 -1504.04152552 -9359.65307648\n",
      " -1064.00330632 -6278.44760881 -1504.04164507 -9359.65336257\n",
      " -1064.00330632 -6278.44918878 -1504.04164214 -9359.6534283\n",
      " -2758.97738488 -2758.97742077 -2795.99257182 -2795.99931393\n",
      " -2758.9773672  -2758.97739005 -2795.99826386 -2795.99491828\n",
      " -2758.9774323  -2758.97737722 -2795.99278657 -2795.99884476\n",
      " -2758.97742909 -2758.97741486 -2795.99474299 -2796.00026228\n",
      " -1065.99222517 -6278.55878664 -1504.5273228  -9359.65473964\n",
      " -1063.98222126 -6278.57566349 -1504.55513641 -9359.65446871\n",
      " -1065.99222552 -6278.57413313 -1504.52732725 -9359.65477164\n",
      " -1065.99222552 -6278.54590357 -1504.5273228  -9359.65473862]\n",
      "std_test_score [ 19.7984515  110.73220117  24.64119774 149.47810381  20.95793289\n",
      " 110.74481781  24.64125422 149.47799895  19.7984515  110.75071847\n",
      "  24.64120041 149.47809271  19.7984515  110.73374775  24.64119774\n",
      " 149.4780739   40.59032808  40.59031316  45.96485186  45.95559179\n",
      "  40.5903276   40.59031416  45.96935351  45.97173027  40.59025546\n",
      "  40.59032306  45.96185341  45.95763341  40.59032167  40.59033597\n",
      "  45.96951376  45.9653341   14.8881756  110.87984627  19.480509\n",
      " 149.47978081  13.62915729 110.87879052  19.48509315 149.47972408\n",
      "  14.88817579 110.88202141  19.48050323 149.47975214  14.88817579\n",
      " 110.89437093  19.480509   149.47978123]\n",
      "rank_test_score [ 2 35 10 43  5 36  9 41  2 33 12 42  2 34 10 44 19 22 25 31 17 20 29 28\n",
      " 24 18 26 30 23 21 27 32  6 38 13 47  1 40 16 45  7 39 15 48  7 37 13 46]\n",
      "split0_train_score [ -773.56856456 -6316.05397976 -1473.16237737 -9403.44145963\n",
      "  -774.34424028 -6316.06677216 -1473.16232492 -9403.44134731\n",
      "  -773.56856456 -6316.05126556 -1473.16237818 -9403.4414273\n",
      "  -773.56856456 -6316.05798874 -1473.16237737 -9403.44145878\n",
      " -2770.82014713 -2770.82023906 -2808.28116604 -2808.29411197\n",
      " -2770.82014471 -2770.82016435 -2808.26933145 -2808.27262371\n",
      " -2770.82028055 -2770.82014731 -2808.28582649 -2808.29071899\n",
      " -2770.82021618 -2770.82017077 -2808.27609936 -2808.28759756\n",
      "  -785.45740239 -6316.07773731 -1475.98648807 -9403.44039029\n",
      "  -785.45744017 -6316.08273274 -1475.98656518 -9403.44038035\n",
      "  -785.45740239 -6316.10454763 -1475.98649806 -9403.44037234\n",
      "  -785.45740239 -6316.07840908 -1475.98648807 -9403.4403875 ]\n",
      "split1_train_score [ -766.96702719 -6196.78653173 -1456.64963235 -9254.39220992\n",
      "  -766.96689641 -6196.76742588 -1456.64966572 -9254.39181302\n",
      "  -766.96702719 -6196.73249613 -1456.64963885 -9254.39218768\n",
      "  -766.96702719 -6196.76186541 -1456.64963235 -9254.3922006\n",
      " -2733.54087674 -2733.54093156 -2770.93472857 -2770.92975791\n",
      " -2733.54088505 -2733.54088201 -2770.94111426 -2770.94278309\n",
      " -2733.54084755 -2733.54087742 -2770.93166701 -2770.93128418\n",
      " -2733.54092895 -2733.5409317  -2770.94151467 -2770.94112469\n",
      "  -763.23797306 -6196.966366   -1450.36415553 -9254.39239877\n",
      "  -761.6587774  -6196.96927331 -1450.36416847 -9254.39224395\n",
      "  -763.2379906  -6196.9686873  -1450.36415553 -9254.39232264\n",
      "  -763.2379906  -6196.96730115 -1450.36415553 -9254.39239899]\n",
      "split2_train_score [ -765.36539105 -6314.19124284 -1455.02457284 -9420.98223353\n",
      "  -763.60813004 -6314.18864192 -1455.02445114 -9420.98234124\n",
      "  -765.36539105 -6314.18730997 -1455.02457284 -9420.9823543\n",
      "  -765.36539105 -6314.19304148 -1455.02457284 -9420.98255363\n",
      " -2763.0443555  -2763.04431272 -2799.43333094 -2799.44313864\n",
      " -2763.04430079 -2763.04435542 -2799.44630196 -2799.43612613\n",
      " -2763.04438911 -2763.04435057 -2799.43123813 -2799.44327677\n",
      " -2763.04439376 -2763.0443799  -2799.42932734 -2799.43769469\n",
      "  -768.70933662 -6314.18672115 -1460.27214138 -9420.9808915\n",
      "  -771.63257053 -6314.19586188 -1460.29112406 -9420.9809262\n",
      "  -768.70933662 -6314.18100735 -1460.27214138 -9420.98086469\n",
      "  -768.70933662 -6314.18211275 -1460.27214138 -9420.98089198]\n",
      "mean_train_score [ -768.63366093 -6275.67725144 -1461.61219419 -9359.60530103\n",
      "  -768.30642225 -6275.67427999 -1461.61214726 -9359.60516719\n",
      "  -768.63366093 -6275.65702389 -1461.61219662 -9359.60532309\n",
      "  -768.63366093 -6275.67096521 -1461.61219419 -9359.60540434\n",
      " -2755.80179312 -2755.80182778 -2792.88307518 -2792.88900284\n",
      " -2755.80177685 -2755.80180059 -2792.88558256 -2792.88384431\n",
      " -2755.80183907 -2755.80179177 -2792.88291054 -2792.88842665\n",
      " -2755.8018463  -2755.80182746 -2792.88231379 -2792.88880565\n",
      "  -772.46823736 -6275.74360815 -1462.20759499 -9359.60456019\n",
      "  -772.9162627  -6275.74928931 -1462.21395257 -9359.60451683\n",
      "  -772.46824321 -6275.75141409 -1462.20759832 -9359.60451989\n",
      "  -772.46824321 -6275.74260766 -1462.20759499 -9359.60455949]\n",
      "std_train_score [ 3.55023613 55.789346    8.19411388 74.74073228  4.48417684 55.80083967\n",
      "  8.19411511 74.74092604  3.55023613 55.81325645  8.19411294 74.74076945\n",
      "  3.55023613 55.80235378  8.19411388 74.74082411 16.05775062 16.05774752\n",
      " 15.93462657 15.94242267 16.0577378  16.05775354 15.92966267 15.92856026\n",
      " 16.05781076 16.05774962 15.9372468  15.94064799 16.05775377 16.05773626\n",
      " 15.92933025 15.93435951  9.45243394 55.7092715  10.54942231 74.74006725\n",
      "  9.75807312 55.71120929 10.54829387 74.74014745  9.45242823 55.71333492\n",
      " 10.54942666 74.74009212  9.45242823 55.70793284 10.54942231 74.74006673]\n"
     ]
    },
    {
     "name": "stderr",
     "output_type": "stream",
     "text": [
      "C:\\Users\\Phil\\Anaconda3\\lib\\site-packages\\sklearn\\utils\\deprecation.py:122: FutureWarning: You are accessing a training score ('split0_train_score'), which will not be available by default any more in 0.21. If you need training scores, please set return_train_score=True\n",
      "  warnings.warn(*warn_args, **warn_kwargs)\n",
      "C:\\Users\\Phil\\Anaconda3\\lib\\site-packages\\sklearn\\utils\\deprecation.py:122: FutureWarning: You are accessing a training score ('split1_train_score'), which will not be available by default any more in 0.21. If you need training scores, please set return_train_score=True\n",
      "  warnings.warn(*warn_args, **warn_kwargs)\n",
      "C:\\Users\\Phil\\Anaconda3\\lib\\site-packages\\sklearn\\utils\\deprecation.py:122: FutureWarning: You are accessing a training score ('split2_train_score'), which will not be available by default any more in 0.21. If you need training scores, please set return_train_score=True\n",
      "  warnings.warn(*warn_args, **warn_kwargs)\n",
      "C:\\Users\\Phil\\Anaconda3\\lib\\site-packages\\sklearn\\utils\\deprecation.py:122: FutureWarning: You are accessing a training score ('mean_train_score'), which will not be available by default any more in 0.21. If you need training scores, please set return_train_score=True\n",
      "  warnings.warn(*warn_args, **warn_kwargs)\n",
      "C:\\Users\\Phil\\Anaconda3\\lib\\site-packages\\sklearn\\utils\\deprecation.py:122: FutureWarning: You are accessing a training score ('std_train_score'), which will not be available by default any more in 0.21. If you need training scores, please set return_train_score=True\n",
      "  warnings.warn(*warn_args, **warn_kwargs)\n"
     ]
    }
   ],
   "source": [
    "for key in gsearch1.cv_results_:\n",
    "    print(key, gsearch1.cv_results_[key])"
   ]
  },
  {
   "cell_type": "code",
   "execution_count": 19,
   "metadata": {},
   "outputs": [],
   "source": [
    "y_output_train = xgb1.predict(x_train)\n",
    "\n",
    "y_output_validation = xgb1.predict(x_validation)"
   ]
  },
  {
   "cell_type": "code",
   "execution_count": 20,
   "metadata": {},
   "outputs": [],
   "source": [
    "y_output_train = gsearch1.predict(x_train)\n",
    "\n",
    "y_output_validation = gsearch1.predict(x_validation)"
   ]
  },
  {
   "cell_type": "code",
   "execution_count": 21,
   "metadata": {},
   "outputs": [
    {
     "data": {
      "text/plain": [
       "array([140.1199  ,  73.98692 , 114.89906 , ...,   9.024885,   9.171138,\n",
       "       106.03485 ], dtype=float32)"
      ]
     },
     "execution_count": 21,
     "metadata": {},
     "output_type": "execute_result"
    }
   ],
   "source": [
    "y_output_train"
   ]
  },
  {
   "cell_type": "code",
   "execution_count": 22,
   "metadata": {},
   "outputs": [
    {
     "name": "stdout",
     "output_type": "stream",
     "text": [
      "Train mse: 838.9916747343972\n"
     ]
    }
   ],
   "source": [
    "# Printing the accuracy of the model.\n",
    "# train_score = rf.score(x_train, y_train)\n",
    "# print('Train score:', train_score)\n",
    "# train_auc = roc_auc_score(y_train, y_output_train)\n",
    "# print('Train auc:', train_auc)\n",
    "train_mse = mean_squared_error(y_train, y_output_train)\n",
    "print('Train mse:', train_mse)"
   ]
  },
  {
   "cell_type": "code",
   "execution_count": 23,
   "metadata": {},
   "outputs": [
    {
     "data": {
      "text/plain": [
       "array([160.,  89.,  73., ...,   1.,  35.,  59.])"
      ]
     },
     "execution_count": 23,
     "metadata": {},
     "output_type": "execute_result"
    }
   ],
   "source": [
    "y_train"
   ]
  },
  {
   "cell_type": "code",
   "execution_count": 24,
   "metadata": {},
   "outputs": [],
   "source": [
    "y_output_lines = []\n",
    "for i in range(len(y_output_train)):\n",
    "    y_output_lines.append([i, y_output_train[i], y_train[i]])\n",
    "np.savetxt(\"train_output.csv\", y_output_lines, fmt='%d,%f,%f')"
   ]
  },
  {
   "cell_type": "markdown",
   "metadata": {},
   "source": [
    "## Validation Results"
   ]
  },
  {
   "cell_type": "code",
   "execution_count": 25,
   "metadata": {},
   "outputs": [
    {
     "name": "stdout",
     "output_type": "stream",
     "text": [
      "Validation mse: 2008.7982352870677\n"
     ]
    }
   ],
   "source": [
    "## Printing the accuracy of the model, according to the loss function specified in model.compile above.\n",
    "# validation_score = rf.score(x_validation, y_validation)\n",
    "# print('Validation score:', validation_score)\n",
    "# y_output_validation = rf.predict(x_validation)\n",
    "# validation_auc = roc_auc_score(y_validation, y_output_validation)\n",
    "# print('Validation auc:', validation_auc)\n",
    "validation_mse = mean_squared_error(y_validation, y_output_validation)\n",
    "print('Validation mse:', validation_mse)"
   ]
  },
  {
   "cell_type": "code",
   "execution_count": 26,
   "metadata": {},
   "outputs": [],
   "source": [
    "y_output_lines = []\n",
    "for i in range(len(y_output_validation)):\n",
    "    y_output_lines.append([i, y_output_validation[i], y_validation[i]])\n",
    "# np.savetxt(\"2008_validation_output.csv\", y_output_lines, fmt='%d,%f,%f')\n",
    "np.savetxt(\"validation_output.csv\", y_output_lines, fmt='%d,%f,%f')"
   ]
  },
  {
   "cell_type": "code",
   "execution_count": 27,
   "metadata": {},
   "outputs": [],
   "source": [
    "# np.mean(cross_val_score(rf, data, label, cv=2, scoring=\"roc_auc\"))\n",
    "# np.mean(cross_val_score(rf, data, label, cv=2,\n",
    "#                         scoring=\"neg_mean_squared_error\"))"
   ]
  },
  {
   "cell_type": "code",
   "execution_count": 28,
   "metadata": {},
   "outputs": [],
   "source": [
    "# np.mean(cross_val_score(rf, data, label, cv=3, scoring=\"roc_auc\"))\n",
    "# np.mean(cross_val_score(rf, data, label, cv=3,\n",
    "#                         scoring=\"neg_mean_squared_error\"))"
   ]
  },
  {
   "cell_type": "code",
   "execution_count": 29,
   "metadata": {},
   "outputs": [],
   "source": [
    "# np.mean(cross_val_score(rf, data, label, cv=4, scoring=\"roc_auc\"))\n",
    "# np.mean(cross_val_score(rf, data, label, cv=4,\n",
    "#                         scoring=\"neg_mean_squared_error\"))"
   ]
  },
  {
   "cell_type": "markdown",
   "metadata": {},
   "source": [
    "# Test Output"
   ]
  },
  {
   "cell_type": "code",
   "execution_count": 30,
   "metadata": {},
   "outputs": [],
   "source": [
    "# Load the 2008 test data.\n",
    "X_test = load_data(\"X_test.csv\")\n",
    "ids = np.arange(len(X_test))\n",
    "x_test = X_test[:, 3:]"
   ]
  },
  {
   "cell_type": "code",
   "execution_count": 31,
   "metadata": {},
   "outputs": [],
   "source": [
    "# Normalizing the data.\n",
    "for j in range(len(x_test[0])):\n",
    "    test_std = np.std(x_test[:,j])\n",
    "    if test_std != 0:\n",
    "        x_test[:,j] = \\\n",
    "            np.divide(x_test[:,j] - np.mean(x_test[:,j]),\n",
    "                      np.std(x_test[:,j]))"
   ]
  },
  {
   "cell_type": "code",
   "execution_count": 32,
   "metadata": {
    "scrolled": true
   },
   "outputs": [
    {
     "name": "stdout",
     "output_type": "stream",
     "text": [
      "(37661, 23)\n"
     ]
    }
   ],
   "source": [
    "print(np.shape(x_test))"
   ]
  },
  {
   "cell_type": "code",
   "execution_count": 33,
   "metadata": {},
   "outputs": [
    {
     "name": "stdout",
     "output_type": "stream",
     "text": [
      "[ 0.38537524  1.3166926   0.65127962  1.         -0.23222022 -1.15704656\n",
      " -0.41129133  2.23731563 -0.26412652  0.11093225  1.69230879 -0.03091436\n",
      "  0.         -0.22427582  0.92804801 -0.81476327 -0.09169316 -0.23893834\n",
      " -0.03754031  1.34197185 -0.02107569  0.70466197 -0.81171682]\n"
     ]
    }
   ],
   "source": [
    "print(x_test[0])"
   ]
  },
  {
   "cell_type": "code",
   "execution_count": 34,
   "metadata": {
    "scrolled": true
   },
   "outputs": [
    {
     "name": "stdout",
     "output_type": "stream",
     "text": [
      "[0, 1, 2, 4, 5, 6, 7, 8, 9, 10, 11, 12, 13, 14, 15, 16, 17, 18, 19, 20, 21, 22]\n"
     ]
    }
   ],
   "source": [
    "print(std_nonzero_indices)"
   ]
  },
  {
   "cell_type": "code",
   "execution_count": 35,
   "metadata": {},
   "outputs": [],
   "source": [
    "# Remove features from the data that have standard\n",
    "# deviation of 0 in the training set.\n",
    "x_test = x_test[:, std_nonzero_indices]\n",
    "\n",
    "# x_test = x_test[:, good_features]"
   ]
  },
  {
   "cell_type": "code",
   "execution_count": 36,
   "metadata": {},
   "outputs": [
    {
     "name": "stdout",
     "output_type": "stream",
     "text": [
      "(37661, 22)\n"
     ]
    }
   ],
   "source": [
    "print(np.shape(x_test))"
   ]
  },
  {
   "cell_type": "code",
   "execution_count": 37,
   "metadata": {},
   "outputs": [
    {
     "name": "stdout",
     "output_type": "stream",
     "text": [
      "[ 0.38537524  1.3166926   0.65127962 -0.23222022 -1.15704656 -0.41129133\n",
      "  2.23731563 -0.26412652  0.11093225  1.69230879 -0.03091436  0.\n",
      " -0.22427582  0.92804801 -0.81476327 -0.09169316 -0.23893834 -0.03754031\n",
      "  1.34197185 -0.02107569  0.70466197 -0.81171682]\n"
     ]
    }
   ],
   "source": [
    "print(x_test[0])"
   ]
  },
  {
   "cell_type": "code",
   "execution_count": 38,
   "metadata": {},
   "outputs": [],
   "source": [
    "y_output = xgb1.predict(x_test)"
   ]
  },
  {
   "cell_type": "code",
   "execution_count": 39,
   "metadata": {},
   "outputs": [],
   "source": [
    "y_output_lines2 = []\n",
    "for i in range(len(y_output)):\n",
    "    y_output_lines2.append([i, y_output[i]])\n",
    "np.savetxt(\"submission.csv\", y_output_lines2, fmt='%d,%f')"
   ]
  },
  {
   "cell_type": "markdown",
   "metadata": {},
   "source": [
    "# Test Output 2012"
   ]
  },
  {
   "cell_type": "code",
   "execution_count": 40,
   "metadata": {},
   "outputs": [],
   "source": [
    "# # Load the 2012 test data.\n",
    "# X_test2 = load_data(\"test_2012.csv\")\n",
    "# ids2 = X_test2[:,0]\n",
    "# x_test2 = X_test2[:, 3:]"
   ]
  },
  {
   "cell_type": "code",
   "execution_count": 41,
   "metadata": {},
   "outputs": [],
   "source": [
    "# # Normalizing the data.\n",
    "# for j in range(len(x_test2[0])):\n",
    "#     test_std = np.std(x_test2[:,j])\n",
    "#     if test_std != 0:\n",
    "#         x_test2[:,j] = \\\n",
    "#             np.divide(x_test2[:,j] - np.mean(x_test2[:,j]),\n",
    "#                       np.std(x_test2[:,j]))"
   ]
  },
  {
   "cell_type": "code",
   "execution_count": 42,
   "metadata": {},
   "outputs": [],
   "source": [
    "# # Remove features from the data that have standard\n",
    "# # deviation of 0 in the training set.\n",
    "# x_test2 = x_test2[:, std_nonzero_indices]"
   ]
  },
  {
   "cell_type": "code",
   "execution_count": 43,
   "metadata": {},
   "outputs": [],
   "source": [
    "# y_output2 = rf.predict(x_test2)"
   ]
  },
  {
   "cell_type": "code",
   "execution_count": 44,
   "metadata": {},
   "outputs": [],
   "source": [
    "# y_output_lines3 = []\n",
    "# for i in range(len(y_output2)):\n",
    "#     y_output_lines3.append([i, y_output2[i]])\n",
    "# np.savetxt(\"2012_submission.csv\", y_output_lines3, fmt='%d,%f')"
   ]
  }
 ],
 "metadata": {
  "kernelspec": {
   "display_name": "Python 3",
   "language": "python",
   "name": "python3"
  },
  "language_info": {
   "codemirror_mode": {
    "name": "ipython",
    "version": 3
   },
   "file_extension": ".py",
   "mimetype": "text/x-python",
   "name": "python",
   "nbconvert_exporter": "python",
   "pygments_lexer": "ipython3",
   "version": "3.6.5"
  }
 },
 "nbformat": 4,
 "nbformat_minor": 2
}
