{
 "cells": [
  {
   "cell_type": "markdown",
   "metadata": {},
   "source": [
    "# Problem 2\n",
    "# Philip Carr"
   ]
  },
  {
   "cell_type": "markdown",
   "metadata": {},
   "source": [
    "Use this notebook to write your code for problem 2."
   ]
  },
  {
   "cell_type": "code",
   "execution_count": 370,
   "metadata": {},
   "outputs": [],
   "source": [
    "import numpy as np\n",
    "import matplotlib.pyplot as plt\n",
    "%matplotlib inline"
   ]
  },
  {
   "cell_type": "markdown",
   "metadata": {},
   "source": [
    "## Dense network"
   ]
  },
  {
   "cell_type": "markdown",
   "metadata": {},
   "source": [
    "Load, preprocess, and deal with the MNIST data."
   ]
  },
  {
   "cell_type": "code",
   "execution_count": 371,
   "metadata": {},
   "outputs": [],
   "source": [
    "# load MNIST data into Keras format\n",
    "import keras\n",
    "from keras.datasets import mnist\n",
    "\n",
    "(x_train, y_train), (x_test, y_test) = mnist.load_data()"
   ]
  },
  {
   "cell_type": "code",
   "execution_count": 372,
   "metadata": {},
   "outputs": [
    {
     "name": "stdout",
     "output_type": "stream",
     "text": [
      "(60000, 28, 28)\n",
      "(10000, 28, 28)\n"
     ]
    }
   ],
   "source": [
    "# look at the shapes\n",
    "print(x_train.shape)\n",
    "print(x_test.shape)"
   ]
  },
  {
   "cell_type": "code",
   "execution_count": 373,
   "metadata": {
    "scrolled": true
   },
   "outputs": [
    {
     "data": {
      "image/png": "[encoded data removed]",
      "text/plain": [
       "<Figure size 720x720 with 9 Axes>"
      ]
     },
     "metadata": {},
     "output_type": "display_data"
    }
   ],
   "source": [
    "fig = plt.figure(figsize=(10,10))\n",
    "size = 3\n",
    "for i in range(1, size*size+1):\n",
    "    fig.add_subplot(size, size, i)\n",
    "    plt.imshow(x_train[i], cmap=plt.get_cmap('gray'))"
   ]
  },
  {
   "cell_type": "markdown",
   "metadata": {},
   "source": [
    "## Problem C"
   ]
  },
  {
   "cell_type": "code",
   "execution_count": 374,
   "metadata": {
    "scrolled": false
   },
   "outputs": [],
   "source": [
    "# One-hot encode the labels.\n",
    "y_train = keras.utils.np_utils.to_categorical(y_train)\n",
    "y_test = keras.utils.np_utils.to_categorical(y_test)"
   ]
  },
  {
   "cell_type": "code",
   "execution_count": 375,
   "metadata": {},
   "outputs": [],
   "source": [
    "# Normalize the input data.\n",
    "x_train = np.divide(x_train, 255)\n",
    "x_test = np.divide(x_test, 255)"
   ]
  },
  {
   "cell_type": "code",
   "execution_count": 376,
   "metadata": {},
   "outputs": [],
   "source": [
    "# we must reshape the X data (add a channel dimension)\n",
    "x_train = np.reshape(x_train, (len(x_train), len(x_train[0])\n",
    "                                             * len(x_train[0][0])))\n",
    "x_test = np.reshape(x_test, (len(x_test), len(x_test[0])\n",
    "                                           * len(x_test[0][0])))"
   ]
  },
  {
   "cell_type": "code",
   "execution_count": 377,
   "metadata": {},
   "outputs": [
    {
     "name": "stdout",
     "output_type": "stream",
     "text": [
      "(60000, 784)\n",
      "(10000, 784)\n"
     ]
    }
   ],
   "source": [
    "# Shape of the training input.\n",
    "print(x_train.shape)\n",
    "print(x_test.shape)"
   ]
  },
  {
   "cell_type": "markdown",
   "metadata": {},
   "source": [
    "## Problem D"
   ]
  },
  {
   "cell_type": "code",
   "execution_count": 378,
   "metadata": {},
   "outputs": [],
   "source": [
    "from keras.models import Sequential\n",
    "from keras.layers.core import Dense, Activation, Flatten, Dropout"
   ]
  },
  {
   "cell_type": "code",
   "execution_count": 379,
   "metadata": {},
   "outputs": [],
   "source": [
    "## Create the model here.\n",
    "modelD = Sequential()\n",
    "modelD.add(Dense(100))\n",
    "modelD.add(Activation('relu'))\n",
    "modelD.add(Dense(10))\n",
    "modelD.add(Activation('softmax'))"
   ]
  },
  {
   "cell_type": "code",
   "execution_count": 380,
   "metadata": {},
   "outputs": [],
   "source": [
    "modelD.compile(loss='categorical_crossentropy',\n",
    "              optimizer='adadelta', metrics=['accuracy'])"
   ]
  },
  {
   "cell_type": "code",
   "execution_count": 381,
   "metadata": {},
   "outputs": [
    {
     "name": "stdout",
     "output_type": "stream",
     "text": [
      "Epoch 1/10\n",
      "60000/60000 [==============================] - 8s 128us/step - loss: 0.3205 - acc: 0.9103\n",
      "Epoch 2/10\n",
      "60000/60000 [==============================] - 5s 91us/step - loss: 0.1578 - acc: 0.9553\n",
      "Epoch 3/10\n",
      "60000/60000 [==============================] - 5s 90us/step - loss: 0.1155 - acc: 0.9671\n",
      "Epoch 4/10\n",
      "60000/60000 [==============================] - 5s 90us/step - loss: 0.0931 - acc: 0.9733\n",
      "Epoch 5/10\n",
      "60000/60000 [==============================] - 5s 91us/step - loss: 0.0779 - acc: 0.9782\n",
      "Epoch 6/10\n",
      "60000/60000 [==============================] - 6s 94us/step - loss: 0.0676 - acc: 0.9806\n",
      "Epoch 7/10\n",
      "60000/60000 [==============================] - 6s 94us/step - loss: 0.0583 - acc: 0.9833\n",
      "Epoch 8/10\n",
      "60000/60000 [==============================] - 5s 90us/step - loss: 0.0514 - acc: 0.9857\n",
      "Epoch 9/10\n",
      "60000/60000 [==============================] - 5s 90us/step - loss: 0.0455 - acc: 0.9871\n",
      "Epoch 10/10\n",
      "60000/60000 [==============================] - 5s 90us/step - loss: 0.0406 - acc: 0.9888\n"
     ]
    }
   ],
   "source": [
    "fit = modelD.fit(x_train, y_train, batch_size=64, epochs=10,\n",
    "    verbose=1)"
   ]
  },
  {
   "cell_type": "code",
   "execution_count": 382,
   "metadata": {},
   "outputs": [
    {
     "name": "stdout",
     "output_type": "stream",
     "text": [
      "_________________________________________________________________\n",
      "Layer (type)                 Output Shape              Param #   \n",
      "=================================================================\n",
      "dense_235 (Dense)            (None, 100)               78500     \n",
      "_________________________________________________________________\n",
      "activation_234 (Activation)  (None, 100)               0         \n",
      "_________________________________________________________________\n",
      "dense_236 (Dense)            (None, 10)                1010      \n",
      "_________________________________________________________________\n",
      "activation_235 (Activation)  (None, 10)                0         \n",
      "=================================================================\n",
      "Total params: 79,510\n",
      "Trainable params: 79,510\n",
      "Non-trainable params: 0\n",
      "_________________________________________________________________\n"
     ]
    }
   ],
   "source": [
    "# Printing a summary of the layers and weights in the model.\n",
    "modelD.summary()"
   ]
  },
  {
   "cell_type": "code",
   "execution_count": 383,
   "metadata": {},
   "outputs": [
    {
     "name": "stdout",
     "output_type": "stream",
     "text": [
      "Test score: 0.07948249847483821\n",
      "Test accuracy: 0.9771\n"
     ]
    }
   ],
   "source": [
    "# Printing the accuracy of the model, according to the loss function specified in model.compile above.\n",
    "score = modelD.evaluate(x_test, y_test, verbose=0)\n",
    "print('Test score:', score[0])\n",
    "print('Test accuracy:', score[1])"
   ]
  },
  {
   "cell_type": "markdown",
   "metadata": {},
   "source": [
    "## Problem E"
   ]
  },
  {
   "cell_type": "code",
   "execution_count": 561,
   "metadata": {},
   "outputs": [],
   "source": [
    "## Create the model here given the constraints in the problem\n",
    "modelE = Sequential()\n",
    "\n",
    "modelE.add(Dense(100))\n",
    "modelE.add(Activation('relu'))\n",
    "modelE.add(Dense(100))\n",
    "modelE.add(Activation('relu'))\n",
    "modelE.add(Dense(10))\n",
    "modelE.add(Activation('softmax'))"
   ]
  },
  {
   "cell_type": "code",
   "execution_count": 562,
   "metadata": {},
   "outputs": [],
   "source": [
    "modelE.compile(loss='categorical_crossentropy',\n",
    "               optimizer='rmsprop', metrics=['accuracy'])"
   ]
  },
  {
   "cell_type": "code",
   "execution_count": 563,
   "metadata": {},
   "outputs": [
    {
     "name": "stdout",
     "output_type": "stream",
     "text": [
      "Epoch 1/20\n",
      "60000/60000 [==============================] - 10s 166us/step - loss: 0.2702 - acc: 0.9215\n",
      "Epoch 2/20\n",
      "60000/60000 [==============================] - 6s 106us/step - loss: 0.1182 - acc: 0.9646\n",
      "Epoch 3/20\n",
      "60000/60000 [==============================] - 6s 106us/step - loss: 0.0850 - acc: 0.9743\n",
      "Epoch 4/20\n",
      "60000/60000 [==============================] - 6s 105us/step - loss: 0.0663 - acc: 0.9802\n",
      "Epoch 5/20\n",
      "60000/60000 [==============================] - 6s 106us/step - loss: 0.0537 - acc: 0.9833\n",
      "Epoch 6/20\n",
      "60000/60000 [==============================] - 6s 105us/step - loss: 0.0454 - acc: 0.9860\n",
      "Epoch 7/20\n",
      "60000/60000 [==============================] - 7s 110us/step - loss: 0.0394 - acc: 0.9883\n",
      "Epoch 8/20\n",
      "60000/60000 [==============================] - 6s 107us/step - loss: 0.0335 - acc: 0.9899\n",
      "Epoch 9/20\n",
      "60000/60000 [==============================] - 6s 108us/step - loss: 0.0296 - acc: 0.9909\n",
      "Epoch 10/20\n",
      "60000/60000 [==============================] - 6s 105us/step - loss: 0.0243 - acc: 0.9926\n",
      "Epoch 11/20\n",
      "60000/60000 [==============================] - 6s 105us/step - loss: 0.0211 - acc: 0.9934\n",
      "Epoch 12/20\n",
      "60000/60000 [==============================] - 6s 106us/step - loss: 0.0191 - acc: 0.9945\n",
      "Epoch 13/20\n",
      "60000/60000 [==============================] - 6s 105us/step - loss: 0.0172 - acc: 0.9949\n",
      "Epoch 14/20\n",
      "60000/60000 [==============================] - 6s 105us/step - loss: 0.0151 - acc: 0.9954\n",
      "Epoch 15/20\n",
      "60000/60000 [==============================] - 6s 106us/step - loss: 0.0129 - acc: 0.9959\n",
      "Epoch 16/20\n",
      "60000/60000 [==============================] - 6s 106us/step - loss: 0.0109 - acc: 0.9967\n",
      "Epoch 17/20\n",
      "60000/60000 [==============================] - 6s 107us/step - loss: 0.0102 - acc: 0.9967\n",
      "Epoch 18/20\n",
      "60000/60000 [==============================] - 7s 112us/step - loss: 0.0094 - acc: 0.9970\n",
      "Epoch 19/20\n",
      "60000/60000 [==============================] - 6s 105us/step - loss: 0.0088 - acc: 0.9975\n",
      "Epoch 20/20\n",
      "60000/60000 [==============================] - 6s 106us/step - loss: 0.0081 - acc: 0.9977\n"
     ]
    }
   ],
   "source": [
    "fit = modelE.fit(x_train, y_train, batch_size=64, epochs=20,\n",
    "    verbose=1)"
   ]
  },
  {
   "cell_type": "code",
   "execution_count": 564,
   "metadata": {},
   "outputs": [
    {
     "name": "stdout",
     "output_type": "stream",
     "text": [
      "_________________________________________________________________\n",
      "Layer (type)                 Output Shape              Param #   \n",
      "=================================================================\n",
      "dense_359 (Dense)            (None, 100)               78500     \n",
      "_________________________________________________________________\n",
      "activation_351 (Activation)  (None, 100)               0         \n",
      "_________________________________________________________________\n",
      "dense_360 (Dense)            (None, 100)               10100     \n",
      "_________________________________________________________________\n",
      "activation_352 (Activation)  (None, 100)               0         \n",
      "_________________________________________________________________\n",
      "dense_361 (Dense)            (None, 10)                1010      \n",
      "_________________________________________________________________\n",
      "activation_353 (Activation)  (None, 10)                0         \n",
      "=================================================================\n",
      "Total params: 89,610\n",
      "Trainable params: 89,610\n",
      "Non-trainable params: 0\n",
      "_________________________________________________________________\n"
     ]
    }
   ],
   "source": [
    "## Printing a summary of the layers and weights in the model.\n",
    "modelE.summary()"
   ]
  },
  {
   "cell_type": "code",
   "execution_count": 565,
   "metadata": {},
   "outputs": [
    {
     "name": "stdout",
     "output_type": "stream",
     "text": [
      "Test score: 0.125881357786508\n",
      "Test accuracy: 0.9801\n"
     ]
    }
   ],
   "source": [
    "## Printing the accuracy of the model, according to the loss function specified in model.compile above.\n",
    "score = modelE.evaluate(x_test, y_test, verbose=0)\n",
    "print('Test score:', score[0])\n",
    "print('Test accuracy:', score[1])"
   ]
  },
  {
   "cell_type": "markdown",
   "metadata": {},
   "source": [
    "## Problem F"
   ]
  },
  {
   "cell_type": "code",
   "execution_count": 632,
   "metadata": {},
   "outputs": [],
   "source": [
    "## Create the model here given the constraints in the problem.\n",
    "modelF = Sequential()\n",
    "modelF.add(Dense(400))\n",
    "modelF.add(Activation('relu'))\n",
    "modelF.add(Dropout(0.1))\n",
    "modelF.add(Dense(200))\n",
    "modelF.add(Activation('relu'))\n",
    "modelF.add(Dropout(0.1))\n",
    "modelF.add(Dense(400))\n",
    "modelF.add(Activation('relu'))\n",
    "modelF.add(Dense(10))\n",
    "modelF.add(Activation('softmax'))"
   ]
  },
  {
   "cell_type": "code",
   "execution_count": 633,
   "metadata": {},
   "outputs": [],
   "source": [
    "modelF.compile(loss='categorical_crossentropy',\n",
    "               optimizer='rmsprop', metrics=['accuracy'])"
   ]
  },
  {
   "cell_type": "code",
   "execution_count": 634,
   "metadata": {},
   "outputs": [
    {
     "name": "stdout",
     "output_type": "stream",
     "text": [
      "Epoch 1/20\n",
      "60000/60000 [==============================] - 12s 207us/step - loss: 0.2322 - acc: 0.9296\n",
      "Epoch 2/20\n",
      "60000/60000 [==============================] - 8s 141us/step - loss: 0.1086 - acc: 0.9684\n",
      "Epoch 3/20\n",
      "60000/60000 [==============================] - 8s 132us/step - loss: 0.0872 - acc: 0.9758\n",
      "Epoch 4/20\n",
      "60000/60000 [==============================] - 8s 128us/step - loss: 0.0727 - acc: 0.9805\n",
      "Epoch 5/20\n",
      "60000/60000 [==============================] - 8s 131us/step - loss: 0.0678 - acc: 0.9834\n",
      "Epoch 6/20\n",
      "60000/60000 [==============================] - 8s 127us/step - loss: 0.0631 - acc: 0.9848\n",
      "Epoch 7/20\n",
      "60000/60000 [==============================] - 8s 128us/step - loss: 0.0655 - acc: 0.9848\n",
      "Epoch 8/20\n",
      "60000/60000 [==============================] - 8s 126us/step - loss: 0.0623 - acc: 0.9858\n",
      "Epoch 9/20\n",
      "60000/60000 [==============================] - 8s 131us/step - loss: 0.0585 - acc: 0.9866\n",
      "Epoch 10/20\n",
      "60000/60000 [==============================] - 8s 127us/step - loss: 0.0596 - acc: 0.9874\n",
      "Epoch 11/20\n",
      "60000/60000 [==============================] - 8s 129us/step - loss: 0.0597 - acc: 0.9880\n",
      "Epoch 12/20\n",
      "60000/60000 [==============================] - ETA: 0s - loss: 0.0606 - acc: 0.988 - 8s 126us/step - loss: 0.0605 - acc: 0.9882\n",
      "Epoch 13/20\n",
      "60000/60000 [==============================] - 8s 127us/step - loss: 0.0600 - acc: 0.9886\n",
      "Epoch 14/20\n",
      "60000/60000 [==============================] - 8s 129us/step - loss: 0.0572 - acc: 0.9889\n",
      "Epoch 15/20\n",
      "60000/60000 [==============================] - 8s 127us/step - loss: 0.0569 - acc: 0.9897\n",
      "Epoch 16/20\n",
      "60000/60000 [==============================] - 8s 127us/step - loss: 0.0571 - acc: 0.9896\n",
      "Epoch 17/20\n",
      "60000/60000 [==============================] - 8s 127us/step - loss: 0.0570 - acc: 0.9903\n",
      "Epoch 18/20\n",
      "60000/60000 [==============================] - 8s 127us/step - loss: 0.0563 - acc: 0.9908\n",
      "Epoch 19/20\n",
      "60000/60000 [==============================] - 8s 127us/step - loss: 0.0647 - acc: 0.9902\n",
      "Epoch 20/20\n",
      "60000/60000 [==============================] - 8s 126us/step - loss: 0.0541 - acc: 0.9915\n"
     ]
    }
   ],
   "source": [
    "fit = modelF.fit(x_train, y_train, batch_size=64, epochs=20,\n",
    "    verbose=1)"
   ]
  },
  {
   "cell_type": "code",
   "execution_count": 635,
   "metadata": {},
   "outputs": [
    {
     "name": "stdout",
     "output_type": "stream",
     "text": [
      "_________________________________________________________________\n",
      "Layer (type)                 Output Shape              Param #   \n",
      "=================================================================\n",
      "dense_446 (Dense)            (None, 400)               314000    \n",
      "_________________________________________________________________\n",
      "activation_429 (Activation)  (None, 400)               0         \n",
      "_________________________________________________________________\n",
      "dropout_120 (Dropout)        (None, 400)               0         \n",
      "_________________________________________________________________\n",
      "dense_447 (Dense)            (None, 200)               80200     \n",
      "_________________________________________________________________\n",
      "activation_430 (Activation)  (None, 200)               0         \n",
      "_________________________________________________________________\n",
      "dropout_121 (Dropout)        (None, 200)               0         \n",
      "_________________________________________________________________\n",
      "dense_448 (Dense)            (None, 400)               80400     \n",
      "_________________________________________________________________\n",
      "activation_431 (Activation)  (None, 400)               0         \n",
      "_________________________________________________________________\n",
      "dense_449 (Dense)            (None, 10)                4010      \n",
      "_________________________________________________________________\n",
      "activation_432 (Activation)  (None, 10)                0         \n",
      "=================================================================\n",
      "Total params: 478,610\n",
      "Trainable params: 478,610\n",
      "Non-trainable params: 0\n",
      "_________________________________________________________________\n"
     ]
    }
   ],
   "source": [
    "## Printing a summary of the layers and weights in the model.\n",
    "modelF.summary()"
   ]
  },
  {
   "cell_type": "code",
   "execution_count": 636,
   "metadata": {},
   "outputs": [
    {
     "name": "stdout",
     "output_type": "stream",
     "text": [
      "Test score: 0.13775982027360675\n",
      "Test accuracy: 0.9836\n"
     ]
    }
   ],
   "source": [
    "## Printing the accuracy of the model, according to the loss function specified in model.compile above.\n",
    "score = modelF.evaluate(x_test, y_test, verbose=0)\n",
    "print('Test score:', score[0])\n",
    "print('Test accuracy:', score[1])"
   ]
  }
 ],
 "metadata": {
  "kernelspec": {
   "display_name": "Python 3",
   "language": "python",
   "name": "python3"
  },
  "language_info": {
   "codemirror_mode": {
    "name": "ipython",
    "version": 3
   },
   "file_extension": ".py",
   "mimetype": "text/x-python",
   "name": "python",
   "nbconvert_exporter": "python",
   "pygments_lexer": "ipython3",
   "version": "3.6.5"
  }
 },
 "nbformat": 4,
 "nbformat_minor": 1
}
