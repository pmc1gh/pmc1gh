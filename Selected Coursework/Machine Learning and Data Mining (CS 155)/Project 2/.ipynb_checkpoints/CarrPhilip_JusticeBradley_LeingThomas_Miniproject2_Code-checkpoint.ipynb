{
 "cells": [
  {
   "cell_type": "markdown",
   "metadata": {},
   "source": [
    "# Miniproject 2\n",
    "# Philip Carr, Bradley Justice, Thomas Leing"
   ]
  },
  {
   "cell_type": "code",
   "execution_count": 1,
   "metadata": {},
   "outputs": [],
   "source": [
    "import numpy as np\n",
    "import matplotlib.pyplot as plt"
   ]
  },
  {
   "cell_type": "code",
   "execution_count": 2,
   "metadata": {},
   "outputs": [],
   "source": [
    "def load_data(filename, skiprows=1, delimiter=\",\"):\n",
    "    \"\"\"\n",
    "    Function loads data stored in the file filename and returns it as a numpy ndarray.\n",
    "    \n",
    "    Inputs:\n",
    "        filename: given as a string.\n",
    "        \n",
    "    Outputs:\n",
    "        Data contained in the file, returned as a numpy ndarray\n",
    "    \"\"\"\n",
    "    return np.loadtxt(filename, skiprows=skiprows, delimiter=delimiter)"
   ]
  },
  {
   "cell_type": "code",
   "execution_count": 3,
   "metadata": {},
   "outputs": [],
   "source": [
    "def load_movies_data():\n",
    "    \"\"\"\n",
    "    Load the movies.txt file.\n",
    "    \"\"\"\n",
    "    genre_index_start = -19\n",
    "    movies_data = {}\n",
    "    movies_file = open(\"data/movies.txt\", \"r\")\n",
    "    lines = movies_file.readlines()\n",
    "    for i in range(len(lines)):\n",
    "        line = lines[i].split()\n",
    "        length = len(line)\n",
    "        movies_data[int(line[0])] = \\\n",
    "            [\" \".join(line[1:length + genre_index_start - 1])] \\\n",
    "            + list(map(int, line[genre_index_start:]))\n",
    "    return movies_data"
   ]
  },
  {
   "cell_type": "code",
   "execution_count": 4,
   "metadata": {
    "scrolled": true
   },
   "outputs": [],
   "source": [
    "data = load_data(\"data/data.txt\", skiprows=0, delimiter=\"\\t\")\n",
    "train_data = load_data(\"data/train.txt\", skiprows=0, delimiter=\"\\t\")\n",
    "test_data = load_data(\"data/test.txt\", skiprows=0, delimiter=\"\\t\")\n",
    "movies_data = load_movies_data()"
   ]
  },
  {
   "cell_type": "markdown",
   "metadata": {},
   "source": [
    "## Basic Visualizations"
   ]
  },
  {
   "cell_type": "markdown",
   "metadata": {},
   "source": [
    "### 1. All ratings in the MovieLens Dataset"
   ]
  },
  {
   "cell_type": "code",
   "execution_count": 5,
   "metadata": {},
   "outputs": [],
   "source": [
    "all_ratings = data[:,2]"
   ]
  },
  {
   "cell_type": "code",
   "execution_count": 6,
   "metadata": {},
   "outputs": [
    {
     "data": {
      "image/png": "[encoded data removed]",
      "text/plain": [
       "<Figure size 432x288 with 1 Axes>"
      ]
     },
     "metadata": {},
     "output_type": "display_data"
    }
   ],
   "source": [
    "plt.figure()\n",
    "plt.title(\"All ratings in the MovieLens Dataset\")\n",
    "plt.xlabel(\"Movie rating\")\n",
    "plt.ylabel(\"Number of ratings\")\n",
    "plt.hist(all_ratings, bins=np.arange(1,7), align=\"left\", rwidth=0.7)\n",
    "plt.show()"
   ]
  },
  {
   "cell_type": "markdown",
   "metadata": {},
   "source": [
    "### 2. All ratings of the ten most popular movies (movies which have received the most ratings)."
   ]
  },
  {
   "cell_type": "code",
   "execution_count": 7,
   "metadata": {},
   "outputs": [],
   "source": [
    "movie_ratings_dict = {}\n",
    "for i in range(len(data)):\n",
    "    movie_id = data[i,1]\n",
    "    rating = data[i,2]\n",
    "    if movie_id in movie_ratings_dict:\n",
    "        movie_ratings_dict[movie_id][0] += 1\n",
    "        movie_ratings_dict[movie_id][1].append(rating)\n",
    "        movie_ratings_dict[movie_id][2] = \\\n",
    "            np.mean(np.array(movie_ratings_dict[movie_id][1]))\n",
    "    else:\n",
    "        movie_ratings_dict[movie_id] = [1, [rating], rating]"
   ]
  },
  {
   "cell_type": "code",
   "execution_count": 8,
   "metadata": {},
   "outputs": [],
   "source": [
    "movie_popularities = []\n",
    "for i in movie_ratings_dict:\n",
    "    movie_popularities.append((movie_ratings_dict[i][0], i))\n",
    "movie_popularities.sort()\n",
    "movie_popularities.reverse()"
   ]
  },
  {
   "cell_type": "code",
   "execution_count": 9,
   "metadata": {},
   "outputs": [],
   "source": [
    "top_10_most_popular_movies = movie_popularities[:10]\n",
    "for i in range(len(top_10_most_popular_movies)):\n",
    "    top_10_most_popular_movies[i] = top_10_most_popular_movies[i][1]"
   ]
  },
  {
   "cell_type": "code",
   "execution_count": 10,
   "metadata": {},
   "outputs": [],
   "source": [
    "top_10_most_popular_movies_ratings = []\n",
    "for i in top_10_most_popular_movies:\n",
    "    top_10_most_popular_movies_ratings.extend(\n",
    "        movie_ratings_dict[i][1])"
   ]
  },
  {
   "cell_type": "code",
   "execution_count": 11,
   "metadata": {},
   "outputs": [
    {
     "data": {
      "image/png": "[encoded data removed]",
      "text/plain": [
       "<Figure size 432x288 with 1 Axes>"
      ]
     },
     "metadata": {},
     "output_type": "display_data"
    }
   ],
   "source": [
    "plt.figure()\n",
    "plt.title(\"All ratings of the ten most \" +\n",
    "          \"popular movies\\n(movies which \" +\n",
    "          \"have received the most ratings)\")\n",
    "plt.xlabel(\"Movie rating\")\n",
    "plt.ylabel(\"Number of ratings\")\n",
    "plt.hist(top_10_most_popular_movies_ratings, bins=np.arange(1,7),\n",
    "         align=\"left\", rwidth=0.7)\n",
    "plt.show()"
   ]
  },
  {
   "cell_type": "markdown",
   "metadata": {},
   "source": [
    "### 3. All ratings of the ten best movies (movies with the highest average ratings)."
   ]
  },
  {
   "cell_type": "code",
   "execution_count": 12,
   "metadata": {},
   "outputs": [],
   "source": [
    "movie_average_ratings = []\n",
    "for i in movie_ratings_dict:\n",
    "    movie_average_ratings.append((movie_ratings_dict[i][2], i))\n",
    "movie_average_ratings.sort()\n",
    "movie_average_ratings.reverse()"
   ]
  },
  {
   "cell_type": "code",
   "execution_count": 13,
   "metadata": {},
   "outputs": [],
   "source": [
    "top_10_best_movies = movie_average_ratings[:10]\n",
    "for i in range(len(top_10_best_movies)):\n",
    "    top_10_best_movies[i] = top_10_best_movies[i][1]"
   ]
  },
  {
   "cell_type": "code",
   "execution_count": 14,
   "metadata": {},
   "outputs": [],
   "source": [
    "top_10_best_movies_ratings = []\n",
    "for i in top_10_best_movies:\n",
    "    top_10_best_movies_ratings.extend(\n",
    "        movie_ratings_dict[i][1])"
   ]
  },
  {
   "cell_type": "code",
   "execution_count": 15,
   "metadata": {},
   "outputs": [
    {
     "data": {
      "image/png": "[encoded data removed]",
      "text/plain": [
       "<Figure size 432x288 with 1 Axes>"
      ]
     },
     "metadata": {},
     "output_type": "display_data"
    }
   ],
   "source": [
    "plt.figure()\n",
    "plt.title(\"All ratings of the ten best movies\\n\" +\n",
    "          \"(movies with the highest average \" +\n",
    "          \"ratings)\")\n",
    "plt.xlabel(\"Movie rating\")\n",
    "plt.ylabel(\"Number of ratings\")\n",
    "plt.hist(top_10_best_movies_ratings, bins=np.arange(1,7),\n",
    "         align=\"left\", rwidth=0.7)\n",
    "plt.show()"
   ]
  },
  {
   "cell_type": "markdown",
   "metadata": {},
   "source": [
    "### 4. All ratings of movies from three genres of your choice (create three separate visualizations)."
   ]
  },
  {
   "cell_type": "code",
   "execution_count": 16,
   "metadata": {},
   "outputs": [],
   "source": [
    "genres_dict = {\n",
    "    \"Unknown\" : 0,\n",
    "    \"Action\" : 1,\n",
    "    \"Adventure\" : 2,\n",
    "    \"Animation\" : 3,\n",
    "    \"Children’s\" : 4,\n",
    "    \"Comedy\" : 5,\n",
    "    \"Crime\" : 6,\n",
    "    \"Documentary\" : 7,\n",
    "    \"Drama\" : 8,\n",
    "    \"Fantasy\" : 9,\n",
    "    \"Film-Noir\" : 10,\n",
    "    \"Horror\" : 11,\n",
    "    \"Musical\" : 12,\n",
    "    \"Mystery\" : 13,\n",
    "    \"Romance\" : 14,\n",
    "    \"Sci-Fi\" : 15,\n",
    "    \"Thriller\" : 16,\n",
    "    \"War\" : 17,\n",
    "    \"Western\" : 18,\n",
    "}"
   ]
  },
  {
   "cell_type": "code",
   "execution_count": 17,
   "metadata": {},
   "outputs": [],
   "source": [
    "action_movies = []\n",
    "adventure_movies = []\n",
    "animation_movies = []\n",
    "for i in movies_data:\n",
    "    if movies_data[i][1+genres_dict[\"Action\"]] == 1:\n",
    "        action_movies.append(i)\n",
    "    elif movies_data[i][1+genres_dict[\"Adventure\"]] == 1:\n",
    "        adventure_movies.append(i)\n",
    "    elif movies_data[i][1+genres_dict[\"Animation\"]] == 1:\n",
    "        animation_movies.append(i)"
   ]
  },
  {
   "cell_type": "code",
   "execution_count": 18,
   "metadata": {},
   "outputs": [],
   "source": [
    "action_movie_ratings = []\n",
    "adventure_movie_ratings = []\n",
    "animation_movie_ratings = []\n",
    "for i in range(len(action_movies)):\n",
    "    action_movie_ratings.extend(\n",
    "        movie_ratings_dict[action_movies[i]][1])\n",
    "for i in range(len(adventure_movies)):\n",
    "    adventure_movie_ratings.extend(\n",
    "        movie_ratings_dict[adventure_movies[i]][1])\n",
    "for i in range(len(animation_movies)):\n",
    "    animation_movie_ratings.extend(\n",
    "        movie_ratings_dict[animation_movies[i]][1])"
   ]
  },
  {
   "cell_type": "code",
   "execution_count": 19,
   "metadata": {},
   "outputs": [
    {
     "data": {
      "image/png": "[encoded data removed]",
      "text/plain": [
       "<Figure size 432x288 with 1 Axes>"
      ]
     },
     "metadata": {},
     "output_type": "display_data"
    }
   ],
   "source": [
    "plt.figure()\n",
    "plt.title(\"All ratings of action movies\")\n",
    "plt.xlabel(\"Movie rating\")\n",
    "plt.ylabel(\"Number of ratings\")\n",
    "plt.hist(action_movie_ratings, bins=np.arange(1,7),\n",
    "         align=\"left\", rwidth=0.7)\n",
    "plt.show()"
   ]
  },
  {
   "cell_type": "code",
   "execution_count": 20,
   "metadata": {},
   "outputs": [
    {
     "data": {
      "image/png": "[encoded data removed]",
      "text/plain": [
       "<Figure size 432x288 with 1 Axes>"
      ]
     },
     "metadata": {},
     "output_type": "display_data"
    }
   ],
   "source": [
    "plt.figure()\n",
    "plt.title(\"All ratings of adventure movies\")\n",
    "plt.xlabel(\"Movie rating\")\n",
    "plt.ylabel(\"Number of ratings\")\n",
    "plt.hist(adventure_movie_ratings, bins=np.arange(1,7),\n",
    "         align=\"left\", rwidth=0.7)\n",
    "plt.show()"
   ]
  },
  {
   "cell_type": "code",
   "execution_count": 21,
   "metadata": {},
   "outputs": [
    {
     "data": {
      "image/png": "[encoded data removed]",
      "text/plain": [
       "<Figure size 432x288 with 1 Axes>"
      ]
     },
     "metadata": {},
     "output_type": "display_data"
    }
   ],
   "source": [
    "plt.figure()\n",
    "plt.title(\"All ratings of animation movies\")\n",
    "plt.xlabel(\"Movie rating\")\n",
    "plt.ylabel(\"Number of ratings\")\n",
    "plt.hist(animation_movie_ratings, bins=np.arange(1,7),\n",
    "         align=\"left\", rwidth=0.7)\n",
    "plt.show()"
   ]
  }
 ],
 "metadata": {
  "kernelspec": {
   "display_name": "Python 3",
   "language": "python",
   "name": "python3"
  },
  "language_info": {
   "codemirror_mode": {
    "name": "ipython",
    "version": 3
   },
   "file_extension": ".py",
   "mimetype": "text/x-python",
   "name": "python",
   "nbconvert_exporter": "python",
   "pygments_lexer": "ipython3",
   "version": "3.6.5"
  }
 },
 "nbformat": 4,
 "nbformat_minor": 2
}
